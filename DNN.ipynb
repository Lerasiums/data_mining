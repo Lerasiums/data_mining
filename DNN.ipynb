{
 "cells": [
  {
   "cell_type": "code",
   "execution_count": 1,
   "id": "e691cea7",
   "metadata": {},
   "outputs": [
    {
     "name": "stdout",
     "output_type": "stream",
     "text": [
      "兩個檔案是否完全相同？ False\n"
     ]
    }
   ],
   "source": [
    "import pandas as pd\n",
    "\n",
    "# 讀取CSV文件\n",
    "submission = pd.read_csv('submission.csv')\n",
    "sample_submission = pd.read_csv('sample_submission.csv')\n",
    "\n",
    "# 比較兩個DataFrames\n",
    "comparison = submission.equals(sample_submission)\n",
    "\n",
    "print('兩個檔案是否完全相同？', comparison)\n"
   ]
  },
  {
   "cell_type": "code",
   "execution_count": 2,
   "id": "e62924d8",
   "metadata": {},
   "outputs": [
    {
     "name": "stdout",
     "output_type": "stream",
     "text": [
      "Index(['Index', 'Max drift mm'], dtype='object')\n",
      "Index(['Index', 'Max drift mm'], dtype='object')\n"
     ]
    }
   ],
   "source": [
    "print(submission.columns)\n",
    "print(sample_submission.columns)\n"
   ]
  },
  {
   "cell_type": "code",
   "execution_count": 3,
   "id": "a67eed2b",
   "metadata": {},
   "outputs": [
    {
     "name": "stdout",
     "output_type": "stream",
     "text": [
      "預測和實際的差異：\n",
      "0      -9.50\n",
      "1       2.77\n",
      "2      -2.24\n",
      "3      -3.45\n",
      "4       6.43\n",
      "       ...  \n",
      "320     9.34\n",
      "321   -17.04\n",
      "322     6.65\n",
      "323    -2.74\n",
      "324    -2.04\n",
      "Name: Max drift mm, Length: 325, dtype: float64\n"
     ]
    }
   ],
   "source": [
    "difference = (submission['Max drift mm'] - sample_submission['Max drift mm'])\n",
    "print('預測和實際的差異：')\n",
    "print(difference)\n"
   ]
  },
  {
   "cell_type": "code",
   "execution_count": 4,
   "id": "e6d4e1b4",
   "metadata": {},
   "outputs": [
    {
     "name": "stdout",
     "output_type": "stream",
     "text": [
      "相對誤差：\n",
      "0      0.135714\n",
      "1      0.015286\n",
      "2      0.032000\n",
      "3      0.049286\n",
      "4      0.051286\n",
      "         ...   \n",
      "320    0.133429\n",
      "321    0.243429\n",
      "322    0.095000\n",
      "323    0.039143\n",
      "324    0.029143\n",
      "Name: Max drift mm, Length: 325, dtype: float64\n"
     ]
    }
   ],
   "source": [
    "import numpy as np\n",
    "\n",
    "# 计算绝对值\n",
    "absolute_difference = np.abs(submission['Max drift mm']) - np.abs(sample_submission['Max drift mm'])\n",
    "\n",
    "# 再次取绝对值\n",
    "absolute_difference = np.abs(absolute_difference)\n",
    "\n",
    "# 除以真实值的绝对值\n",
    "relative_error = absolute_difference / 70\n",
    "\n",
    "print('相對誤差：')\n",
    "print(relative_error)"
   ]
  },
  {
   "cell_type": "code",
   "execution_count": 5,
   "id": "25943ce2",
   "metadata": {},
   "outputs": [
    {
     "name": "stdout",
     "output_type": "stream",
     "text": [
      "平均相對誤差：\n",
      "0.11651736263736263\n"
     ]
    }
   ],
   "source": [
    "average_error = relative_error.mean()\n",
    "\n",
    "print('平均誤差：')\n",
    "print(average_error)"
   ]
  },
  {
   "cell_type": "code",
   "execution_count": null,
   "id": "1f93d007",
   "metadata": {},
   "outputs": [],
   "source": []
  }
 ],
 "metadata": {
  "kernelspec": {
   "display_name": "Python 3 (ipykernel)",
   "language": "python",
   "name": "python3"
  },
  "language_info": {
   "codemirror_mode": {
    "name": "ipython",
    "version": 3
   },
   "file_extension": ".py",
   "mimetype": "text/x-python",
   "name": "python",
   "nbconvert_exporter": "python",
   "pygments_lexer": "ipython3",
   "version": "3.10.9"
  }
 },
 "nbformat": 4,
 "nbformat_minor": 5
}
