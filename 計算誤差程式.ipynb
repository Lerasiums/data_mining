{
 "cells": [
  {
   "cell_type": "code",
   "execution_count": 10,
   "id": "e691cea7",
   "metadata": {},
   "outputs": [
    {
     "name": "stdout",
     "output_type": "stream",
     "text": [
      "兩個檔案是否完全相同？ False\n"
     ]
    }
   ],
   "source": [
    "import pandas as pd\n",
    "\n",
    "# 讀取CSV文件\n",
    "submission = pd.read_csv('submission8.csv')\n",
    "sample_submission = pd.read_csv('sample_submission.csv')\n",
    "\n",
    "# 比較兩個DataFrames\n",
    "comparison = submission.equals(sample_submission)\n",
    "\n",
    "print('兩個檔案是否完全相同？', comparison)\n"
   ]
  },
  {
   "cell_type": "code",
   "execution_count": 11,
   "id": "e62924d8",
   "metadata": {},
   "outputs": [
    {
     "name": "stdout",
     "output_type": "stream",
     "text": [
      "Index(['Index', 'Max drift mm'], dtype='object')\n",
      "Index(['Index', 'Max drift mm'], dtype='object')\n"
     ]
    }
   ],
   "source": [
    "print(submission.columns)\n",
    "print(sample_submission.columns)\n"
   ]
  },
  {
   "cell_type": "code",
   "execution_count": 12,
   "id": "a67eed2b",
   "metadata": {},
   "outputs": [
    {
     "name": "stdout",
     "output_type": "stream",
     "text": [
      "預測和實際的差異：\n",
      "0     -13.457240\n",
      "1       3.236164\n",
      "2       2.962373\n",
      "3     -12.661364\n",
      "4       7.245176\n",
      "         ...    \n",
      "320    18.021338\n",
      "321   -19.400079\n",
      "322     5.264039\n",
      "323    -1.650871\n",
      "324    -1.247568\n",
      "Name: Max drift mm, Length: 325, dtype: float64\n"
     ]
    }
   ],
   "source": [
    "difference = (submission['Max drift mm'] - sample_submission['Max drift mm'])\n",
    "print('預測和實際的差異：')\n",
    "print(difference)\n"
   ]
  },
  {
   "cell_type": "code",
   "execution_count": 13,
   "id": "e6d4e1b4",
   "metadata": {},
   "outputs": [
    {
     "name": "stdout",
     "output_type": "stream",
     "text": [
      "相對誤差：\n",
      "0      13.457240\n",
      "1       0.603836\n",
      "2       2.962373\n",
      "3      12.661364\n",
      "4       2.774824\n",
      "         ...    \n",
      "320    18.021338\n",
      "321    19.400079\n",
      "322     5.264039\n",
      "323     1.650871\n",
      "324     1.247568\n",
      "Name: Max drift mm, Length: 325, dtype: float64\n"
     ]
    }
   ],
   "source": [
    "import numpy as np\n",
    "\n",
    "# 计算绝对值\n",
    "absolute_difference = np.abs(submission['Max drift mm']) - np.abs(sample_submission['Max drift mm'])\n",
    "\n",
    "# 再次取绝对值\n",
    "absolute_difference = np.abs(absolute_difference)\n",
    "\n",
    "# 除以真实值的绝对值\n",
    "relative_error = absolute_difference \n",
    "\n",
    "print('相對誤差：')\n",
    "print(relative_error)"
   ]
  },
  {
   "cell_type": "code",
   "execution_count": 14,
   "id": "69a36563",
   "metadata": {},
   "outputs": [
    {
     "name": "stdout",
     "output_type": "stream",
     "text": [
      "分數：\n",
      "[90, 100, 100, 90, 100, 100, 100, 100, 90, 100, 90, 100, 100, 100, 100, 100, 100, 100, 60, 100, 100, 100, 100, 100, 100, 100, 100, 0, 100, 100, 60, 100, 90, 100, 100, 100, 100, 100, 100, 100, 100, 100, 90, 100, 100, 100, 100, 100, 100, 0, 90, 100, 100, 90, 0, 90, 100, 100, 100, 100, 100, 100, 100, 60, 90, 60, 100, 100, 100, 100, 100, 100, 100, 100, 100, 100, 100, 100, 100, 100, 100, 60, 100, 60, 100, 100, 60, 0, 100, 90, 100, 0, 100, 0, 100, 100, 100, 100, 100, 100, 100, 100, 60, 100, 100, 60, 100, 100, 100, 100, 100, 100, 100, 100, 90, 90, 100, 90, 100, 100, 0, 100, 60, 100, 100, 100, 0, 60, 100, 90, 100, 100, 100, 100, 100, 90, 100, 100, 100, 90, 100, 100, 100, 100, 100, 100, 0, 100, 100, 90, 100, 90, 100, 100, 0, 100, 100, 90, 100, 60, 100, 100, 90, 100, 100, 100, 100, 100, 100, 60, 100, 100, 100, 100, 100, 100, 90, 100, 100, 0, 90, 100, 100, 100, 0, 100, 100, 60, 100, 100, 90, 100, 90, 100, 100, 100, 100, 90, 100, 0, 90, 100, 90, 100, 100, 90, 90, 100, 100, 100, 100, 60, 100, 90, 100, 100, 100, 90, 100, 100, 90, 100, 90, 100, 100, 60, 100, 100, 100, 100, 100, 60, 100, 100, 100, 90, 100, 100, 100, 100, 100, 100, 90, 100, 100, 100, 100, 100, 90, 60, 90, 90, 100, 100, 60, 100, 90, 60, 90, 100, 100, 100, 100, 100, 100, 90, 100, 100, 100, 0, 60, 90, 100, 100, 60, 100, 90, 100, 100, 100, 100, 100, 100, 0, 60, 100, 100, 100, 100, 100, 100, 100, 100, 0, 90, 60, 100, 90, 100, 0, 100, 90, 100, 90, 100, 100, 100, 100, 100, 100, 100, 100, 100, 100, 90, 100, 100, 100, 60, 100, 60, 60, 100, 100, 100]\n"
     ]
    }
   ],
   "source": [
    "score = []  # 儲存分數的列表\n",
    "\n",
    "for error in relative_error:\n",
    "    if error <= 10:\n",
    "        score.append(100)\n",
    "    elif 10 < error <= 15:\n",
    "        score.append(90)\n",
    "    elif 15 < error <= 20:\n",
    "        score.append(60)\n",
    "    else:\n",
    "        score.append(0)\n",
    "\n",
    "print('分數：')\n",
    "print(score)"
   ]
  },
  {
   "cell_type": "code",
   "execution_count": 15,
   "id": "76c9d3cc",
   "metadata": {},
   "outputs": [
    {
     "name": "stdout",
     "output_type": "stream",
     "text": [
      "平均分數： 89.93846153846154\n"
     ]
    }
   ],
   "source": [
    "import numpy as np\n",
    "\n",
    "mean_score = np.mean(score)\n",
    "\n",
    "print('平均分數：', mean_score)"
   ]
  },
  {
   "cell_type": "code",
   "execution_count": 16,
   "id": "25943ce2",
   "metadata": {},
   "outputs": [
    {
     "name": "stdout",
     "output_type": "stream",
     "text": [
      "平均誤差：\n",
      "7.673650972601688\n"
     ]
    }
   ],
   "source": [
    "average_error = relative_error.mean()\n",
    "\n",
    "print('平均誤差：')\n",
    "print(average_error)"
   ]
  },
  {
   "cell_type": "code",
   "execution_count": 19,
   "id": "1f93d007",
   "metadata": {},
   "outputs": [
    {
     "name": "stdout",
     "output_type": "stream",
     "text": [
      "分數： 90.24615384615385\n",
      "平均誤差： 7.673650972601688\n"
     ]
    }
   ],
   "source": [
    "import numpy as np\n",
    "mean_score = np.mean(score)\n",
    "from sklearn.metrics import mean_absolute_error\n",
    "average_error = absolute_difference.mean()\n",
    "print('分數：', mean_score)\n",
    "print('平均誤差：', average_error)"
   ]
  },
  {
   "cell_type": "code",
   "execution_count": null,
   "id": "cfe2a1ad",
   "metadata": {},
   "outputs": [],
   "source": []
  }
 ],
 "metadata": {
  "kernelspec": {
   "display_name": "Python 3 (ipykernel)",
   "language": "python",
   "name": "python3"
  },
  "language_info": {
   "codemirror_mode": {
    "name": "ipython",
    "version": 3
   },
   "file_extension": ".py",
   "mimetype": "text/x-python",
   "name": "python",
   "nbconvert_exporter": "python",
   "pygments_lexer": "ipython3",
   "version": "3.10.9"
  }
 },
 "nbformat": 4,
 "nbformat_minor": 5
}
