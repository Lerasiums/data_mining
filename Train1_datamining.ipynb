{
 "cells": [
  {
   "cell_type": "code",
   "execution_count": 1,
   "id": "c442bfbd",
   "metadata": {},
   "outputs": [],
   "source": [
    "import os\n",
    "import pandas as pd\n",
    "data_folder = os.path.join(os.path.expanduser(\"~\"),\"C://Users//user//Desktop//notebook//DATA_MINING//HW1\",\"ml-100k\")\n",
    "ratings_filename = os.path.join(data_folder, \"u.data\")"
   ]
  },
  {
   "cell_type": "code",
   "execution_count": 2,
   "id": "76835aac",
   "metadata": {},
   "outputs": [],
   "source": [
    "all_ratings = pd.read_csv(ratings_filename, delimiter=\"\\t\",\n",
    " header=None, names = [\"UserID\", \"MovieID\", \"Rating\", \"Datetime\"])"
   ]
  },
  {
   "cell_type": "code",
   "execution_count": 3,
   "id": "aa9b4895",
   "metadata": {},
   "outputs": [],
   "source": [
    "all_ratings[\"Datetime\"] = pd.to_datetime(all_ratings['Datetime'],\n",
    " unit='s')"
   ]
  },
  {
   "cell_type": "code",
   "execution_count": 4,
   "id": "0400f98f",
   "metadata": {},
   "outputs": [
    {
     "data": {
      "text/html": [
       "<div>\n",
       "<style scoped>\n",
       "    .dataframe tbody tr th:only-of-type {\n",
       "        vertical-align: middle;\n",
       "    }\n",
       "\n",
       "    .dataframe tbody tr th {\n",
       "        vertical-align: top;\n",
       "    }\n",
       "\n",
       "    .dataframe thead th {\n",
       "        text-align: right;\n",
       "    }\n",
       "</style>\n",
       "<table border=\"1\" class=\"dataframe\">\n",
       "  <thead>\n",
       "    <tr style=\"text-align: right;\">\n",
       "      <th></th>\n",
       "      <th>UserID</th>\n",
       "      <th>MovieID</th>\n",
       "      <th>Rating</th>\n",
       "      <th>Datetime</th>\n",
       "    </tr>\n",
       "  </thead>\n",
       "  <tbody>\n",
       "    <tr>\n",
       "      <th>0</th>\n",
       "      <td>196</td>\n",
       "      <td>242</td>\n",
       "      <td>3</td>\n",
       "      <td>1997-12-04 15:55:49</td>\n",
       "    </tr>\n",
       "    <tr>\n",
       "      <th>1</th>\n",
       "      <td>186</td>\n",
       "      <td>302</td>\n",
       "      <td>3</td>\n",
       "      <td>1998-04-04 19:22:22</td>\n",
       "    </tr>\n",
       "    <tr>\n",
       "      <th>2</th>\n",
       "      <td>22</td>\n",
       "      <td>377</td>\n",
       "      <td>1</td>\n",
       "      <td>1997-11-07 07:18:36</td>\n",
       "    </tr>\n",
       "    <tr>\n",
       "      <th>3</th>\n",
       "      <td>244</td>\n",
       "      <td>51</td>\n",
       "      <td>2</td>\n",
       "      <td>1997-11-27 05:02:03</td>\n",
       "    </tr>\n",
       "    <tr>\n",
       "      <th>4</th>\n",
       "      <td>166</td>\n",
       "      <td>346</td>\n",
       "      <td>1</td>\n",
       "      <td>1998-02-02 05:33:16</td>\n",
       "    </tr>\n",
       "  </tbody>\n",
       "</table>\n",
       "</div>"
      ],
      "text/plain": [
       "   UserID  MovieID  Rating            Datetime\n",
       "0     196      242       3 1997-12-04 15:55:49\n",
       "1     186      302       3 1998-04-04 19:22:22\n",
       "2      22      377       1 1997-11-07 07:18:36\n",
       "3     244       51       2 1997-11-27 05:02:03\n",
       "4     166      346       1 1998-02-02 05:33:16"
      ]
     },
     "execution_count": 4,
     "metadata": {},
     "output_type": "execute_result"
    }
   ],
   "source": [
    "all_ratings[:5]"
   ]
  },
  {
   "cell_type": "code",
   "execution_count": 5,
   "id": "ae6c4f81",
   "metadata": {},
   "outputs": [],
   "source": [
    "all_ratings[\"Favorable\"] = all_ratings[\"Rating\"] > 3"
   ]
  },
  {
   "cell_type": "code",
   "execution_count": 6,
   "id": "80d2cc7b",
   "metadata": {},
   "outputs": [
    {
     "data": {
      "text/html": [
       "<div>\n",
       "<style scoped>\n",
       "    .dataframe tbody tr th:only-of-type {\n",
       "        vertical-align: middle;\n",
       "    }\n",
       "\n",
       "    .dataframe tbody tr th {\n",
       "        vertical-align: top;\n",
       "    }\n",
       "\n",
       "    .dataframe thead th {\n",
       "        text-align: right;\n",
       "    }\n",
       "</style>\n",
       "<table border=\"1\" class=\"dataframe\">\n",
       "  <thead>\n",
       "    <tr style=\"text-align: right;\">\n",
       "      <th></th>\n",
       "      <th>UserID</th>\n",
       "      <th>MovieID</th>\n",
       "      <th>Rating</th>\n",
       "      <th>Datetime</th>\n",
       "      <th>Favorable</th>\n",
       "    </tr>\n",
       "  </thead>\n",
       "  <tbody>\n",
       "    <tr>\n",
       "      <th>10</th>\n",
       "      <td>62</td>\n",
       "      <td>257</td>\n",
       "      <td>2</td>\n",
       "      <td>1997-11-12 22:07:14</td>\n",
       "      <td>False</td>\n",
       "    </tr>\n",
       "    <tr>\n",
       "      <th>11</th>\n",
       "      <td>286</td>\n",
       "      <td>1014</td>\n",
       "      <td>5</td>\n",
       "      <td>1997-11-17 15:38:45</td>\n",
       "      <td>True</td>\n",
       "    </tr>\n",
       "    <tr>\n",
       "      <th>12</th>\n",
       "      <td>200</td>\n",
       "      <td>222</td>\n",
       "      <td>5</td>\n",
       "      <td>1997-10-05 09:05:40</td>\n",
       "      <td>True</td>\n",
       "    </tr>\n",
       "    <tr>\n",
       "      <th>13</th>\n",
       "      <td>210</td>\n",
       "      <td>40</td>\n",
       "      <td>3</td>\n",
       "      <td>1998-03-27 21:59:54</td>\n",
       "      <td>False</td>\n",
       "    </tr>\n",
       "    <tr>\n",
       "      <th>14</th>\n",
       "      <td>224</td>\n",
       "      <td>29</td>\n",
       "      <td>3</td>\n",
       "      <td>1998-02-21 23:40:57</td>\n",
       "      <td>False</td>\n",
       "    </tr>\n",
       "  </tbody>\n",
       "</table>\n",
       "</div>"
      ],
      "text/plain": [
       "    UserID  MovieID  Rating            Datetime  Favorable\n",
       "10      62      257       2 1997-11-12 22:07:14      False\n",
       "11     286     1014       5 1997-11-17 15:38:45       True\n",
       "12     200      222       5 1997-10-05 09:05:40       True\n",
       "13     210       40       3 1998-03-27 21:59:54      False\n",
       "14     224       29       3 1998-02-21 23:40:57      False"
      ]
     },
     "execution_count": 6,
     "metadata": {},
     "output_type": "execute_result"
    }
   ],
   "source": [
    "all_ratings[10:15]"
   ]
  },
  {
   "cell_type": "code",
   "execution_count": 7,
   "id": "8c3eb424",
   "metadata": {},
   "outputs": [],
   "source": [
    "ratings = all_ratings[all_ratings['UserID'].isin(range(200))]"
   ]
  },
  {
   "cell_type": "code",
   "execution_count": 8,
   "id": "59516c9e",
   "metadata": {},
   "outputs": [],
   "source": [
    "favorable_ratings_mask = ratings[\"Favorable\"]\n",
    "favorable_ratings = ratings[favorable_ratings_mask]"
   ]
  },
  {
   "cell_type": "code",
   "execution_count": 9,
   "id": "a044f75d",
   "metadata": {},
   "outputs": [],
   "source": [
    "favorable_reviews_by_users = dict(\n",
    "    (k, frozenset(v.values))for k, v in \n",
    "    favorable_ratings.groupby(\"UserID\")[\"MovieID\"])"
   ]
  },
  {
   "cell_type": "code",
   "execution_count": 10,
   "id": "f83b4642",
   "metadata": {},
   "outputs": [],
   "source": [
    "num_favorable_by_movie = ratings[[\"MovieID\", \"Favorable\"]].groupby(\"MovieID\").sum()"
   ]
  },
  {
   "cell_type": "code",
   "execution_count": 11,
   "id": "1a116635",
   "metadata": {},
   "outputs": [
    {
     "data": {
      "text/html": [
       "<div>\n",
       "<style scoped>\n",
       "    .dataframe tbody tr th:only-of-type {\n",
       "        vertical-align: middle;\n",
       "    }\n",
       "\n",
       "    .dataframe tbody tr th {\n",
       "        vertical-align: top;\n",
       "    }\n",
       "\n",
       "    .dataframe thead th {\n",
       "        text-align: right;\n",
       "    }\n",
       "</style>\n",
       "<table border=\"1\" class=\"dataframe\">\n",
       "  <thead>\n",
       "    <tr style=\"text-align: right;\">\n",
       "      <th></th>\n",
       "      <th>Favorable</th>\n",
       "    </tr>\n",
       "    <tr>\n",
       "      <th>MovieID</th>\n",
       "      <th></th>\n",
       "    </tr>\n",
       "  </thead>\n",
       "  <tbody>\n",
       "    <tr>\n",
       "      <th>50</th>\n",
       "      <td>100</td>\n",
       "    </tr>\n",
       "    <tr>\n",
       "      <th>100</th>\n",
       "      <td>89</td>\n",
       "    </tr>\n",
       "    <tr>\n",
       "      <th>258</th>\n",
       "      <td>83</td>\n",
       "    </tr>\n",
       "    <tr>\n",
       "      <th>181</th>\n",
       "      <td>79</td>\n",
       "    </tr>\n",
       "    <tr>\n",
       "      <th>174</th>\n",
       "      <td>74</td>\n",
       "    </tr>\n",
       "  </tbody>\n",
       "</table>\n",
       "</div>"
      ],
      "text/plain": [
       "         Favorable\n",
       "MovieID           \n",
       "50             100\n",
       "100             89\n",
       "258             83\n",
       "181             79\n",
       "174             74"
      ]
     },
     "execution_count": 11,
     "metadata": {},
     "output_type": "execute_result"
    }
   ],
   "source": [
    "num_favorable_by_movie.sort_values(by=\"Favorable\", ascending=False).head()"
   ]
  },
  {
   "cell_type": "code",
   "execution_count": 12,
   "id": "091a2295",
   "metadata": {},
   "outputs": [],
   "source": [
    "frequent_itemsets = {}"
   ]
  },
  {
   "cell_type": "code",
   "execution_count": 13,
   "id": "cea6ff26",
   "metadata": {},
   "outputs": [],
   "source": [
    "min_support = 50"
   ]
  },
  {
   "cell_type": "code",
   "execution_count": 14,
   "id": "7c11caaf",
   "metadata": {},
   "outputs": [],
   "source": [
    "frequent_itemsets[1] = dict((frozenset((movie_id,)), row[\"Favorable\"])\n",
    "    for movie_id, row in num_favorable_by_movie.iterrows()\n",
    "    if row[\"Favorable\"] > min_support)"
   ]
  },
  {
   "cell_type": "code",
   "execution_count": 15,
   "id": "143ec753",
   "metadata": {},
   "outputs": [],
   "source": [
    "from collections import defaultdict\n",
    "\n",
    "def find_frequent_itemsets(favorable_reviews_by_users, k_1_itemsets,min_support):\n",
    "    counts = defaultdict(int)\n",
    "    for user, reviews in favorable_reviews_by_users.items():\n",
    "        for itemset in k_1_itemsets:\n",
    "            if itemset.issubset(reviews):\n",
    "                for other_reviewed_movie in reviews - itemset:\n",
    "                    current_superset = itemset | frozenset((other_reviewed_movie,))\n",
    "                    counts[current_superset] += 1\n",
    "    return dict([(itemset, frequency) for itemset, frequency in counts.items() if frequency >= min_support])"
   ]
  },
  {
   "cell_type": "code",
   "execution_count": 16,
   "id": "8a3348af",
   "metadata": {
    "scrolled": true
   },
   "outputs": [
    {
     "name": "stdout",
     "output_type": "stream",
     "text": [
      "I found 93 frequent itemsets of length 2\n",
      "I found 295 frequent itemsets of length 3\n",
      "I found 593 frequent itemsets of length 4\n",
      "I found 785 frequent itemsets of length 5\n",
      "I found 677 frequent itemsets of length 6\n",
      "I found 373 frequent itemsets of length 7\n",
      "I found 126 frequent itemsets of length 8\n",
      "I found 24 frequent itemsets of length 9\n",
      "I found 2 frequent itemsets of length 10\n",
      "Did not find any frequent itemsets of length 11\n"
     ]
    }
   ],
   "source": [
    "import sys\n",
    "for k in range(2, 20):\n",
    "    cur_frequent_itemsets =find_frequent_itemsets(favorable_reviews_by_users,frequent_itemsets[k-1],min_support)\n",
    "    frequent_itemsets[k] = cur_frequent_itemsets\n",
    "    if len(cur_frequent_itemsets) == 0:\n",
    "        print(\"Did not find any frequent itemsets of length {}\".format(k))\n",
    "        sys.stdout.flush()\n",
    "        break\n",
    "    else:\n",
    "        print(\"I found {} frequent itemsets of length {}\".format(len(cur_frequent_itemsets), k))\n",
    "        sys.stdout.flush()\n",
    "del frequent_itemsets[1]"
   ]
  },
  {
   "cell_type": "code",
   "execution_count": 17,
   "id": "e2c46347",
   "metadata": {},
   "outputs": [],
   "source": [
    "candidate_rules = []\n",
    "for itemset_length, itemset_counts in frequent_itemsets.items():\n",
    "    for itemset in itemset_counts.keys():\n",
    "        for conclusion in itemset:\n",
    "            premise = itemset - set((conclusion,))\n",
    "            candidate_rules.append((premise, conclusion))"
   ]
  },
  {
   "cell_type": "code",
   "execution_count": 18,
   "id": "14881b26",
   "metadata": {},
   "outputs": [
    {
     "name": "stdout",
     "output_type": "stream",
     "text": [
      "[(frozenset({7}), 1), (frozenset({1}), 7), (frozenset({50}), 1), (frozenset({1}), 50), (frozenset({1}), 56)]\n"
     ]
    }
   ],
   "source": [
    "print(candidate_rules[:5])"
   ]
  },
  {
   "cell_type": "code",
   "execution_count": 19,
   "id": "47d511c2",
   "metadata": {},
   "outputs": [],
   "source": [
    "correct_counts = defaultdict(int)\n",
    "incorrect_counts = defaultdict(int)\n",
    "for user, reviews in favorable_reviews_by_users.items():\n",
    "    for candidate_rule in candidate_rules:\n",
    "        premise, conclusion = candidate_rule\n",
    "        if premise.issubset(reviews):\n",
    "            if conclusion in reviews:\n",
    "                correct_counts[candidate_rule] += 1\n",
    "            else:\n",
    "                incorrect_counts[candidate_rule] += 1"
   ]
  },
  {
   "cell_type": "code",
   "execution_count": 20,
   "id": "1319073e",
   "metadata": {},
   "outputs": [],
   "source": [
    "rule_confidence = {candidate_rule:\n",
    "                    (correct_counts[candidate_rule] / \n",
    "                    float(correct_counts[candidate_rule] +\n",
    "                    incorrect_counts[candidate_rule]))\n",
    "                    for candidate_rule in candidate_rules}"
   ]
  },
  {
   "cell_type": "code",
   "execution_count": 21,
   "id": "59804a6d",
   "metadata": {},
   "outputs": [
    {
     "name": "stdout",
     "output_type": "stream",
     "text": [
      "Rule #1\n",
      "Rule: If a person recommends frozenset({98, 181}) they will also recommend 50\n",
      " - Confidence:1.000\n",
      "\n",
      "Rule #2\n",
      "Rule: If a person recommends frozenset({172, 79}) they will also recommend 174\n",
      " - Confidence:1.000\n",
      "\n",
      "Rule #3\n",
      "Rule: If a person recommends frozenset({258, 172}) they will also recommend 174\n",
      " - Confidence:1.000\n",
      "\n",
      "Rule #4\n",
      "Rule: If a person recommends frozenset({1, 181, 7}) they will also recommend 50\n",
      " - Confidence:1.000\n",
      "\n",
      "Rule #5\n",
      "Rule: If a person recommends frozenset({1, 172, 7}) they will also recommend 174\n",
      " - Confidence:1.000\n",
      "\n"
     ]
    }
   ],
   "source": [
    "from operator import itemgetter\n",
    "sorted_confidence = sorted(rule_confidence.items(),key=itemgetter(1), reverse=True)\n",
    "\n",
    "for index in range(5):\n",
    "    print(\"Rule #{0}\".format(index + 1))\n",
    "    (premise, conclusion) = sorted_confidence[index][0]\n",
    "    print(\"Rule: If a person recommends {0} they will also recommend {1}\".format(premise, conclusion))\n",
    "    print(\" - Confidence:{0:.3f}\".format(rule_confidence[(premise, conclusion)]))\n",
    "    print(\"\")\n",
    "\n",
    "    \n",
    "# from operator import itemgetter\n",
    "# sorted_confidence = sorted(rule_confidence.items(),\n",
    "#     key=itemgetter(1), reverse=True)\n",
    "# for index in range(5):\n",
    "#     print(\"Rule #{0}\".format(index + 1))\n",
    "#     (premise, conclusion) = sorted_confidence[index][0]\n",
    "#     print(\"Rule: If a person recommends {0} they will also recommend {1}\".format(premise, conclusion))\n",
    "#     print(\" - Confidence: {0:.3f}\".format(rule_confidence[(premise, conclusion)]))\n",
    "#     print(\"\")"
   ]
  },
  {
   "cell_type": "code",
   "execution_count": 22,
   "id": "ec7422ab",
   "metadata": {},
   "outputs": [],
   "source": [
    "movie_name_filename = os.path.join(data_folder, \"u.item\")\n",
    "movie_name_data = pd.read_csv(movie_name_filename, delimiter=\"|\",header=None, encoding = \"mac-roman\")\n",
    "movie_name_data.columns = [\"MovieID\", \"Title\", \"Release Date\",\n",
    "    \"Video Release\", \"IMDB\", \"<UNK>\", \"Action\", \"Adventure\",\n",
    "    \"Animation\", \"Children's\", \"Comedy\", \"Crime\", \"Documentary\",\n",
    "    \"Drama\", \"Fantasy\", \"Film-Noir\",\n",
    "    \"Horror\", \"Musical\", \"Mystery\", \"Romance\", \"Sci-Fi\", \"Thriller\",\n",
    "    \"War\", \"Western\"]"
   ]
  },
  {
   "cell_type": "code",
   "execution_count": 23,
   "id": "7b256053",
   "metadata": {},
   "outputs": [],
   "source": [
    "def get_movie_name(movie_id):\n",
    "    title_object = movie_name_data[movie_name_data[\"MovieID\"] == movie_id][\"Title\"]\n",
    "    title = title_object.values[0]\n",
    "    return title"
   ]
  },
  {
   "cell_type": "code",
   "execution_count": 24,
   "id": "dfaa4115",
   "metadata": {},
   "outputs": [
    {
     "name": "stdout",
     "output_type": "stream",
     "text": [
      "Rule #1\n",
      "Rule: If a person recommends Silence of the Lambs, The (1991), Return of the Jedi (1983) they will also recommend Star Wars (1977)\n",
      " - Confidence: 1.000\n",
      "\n",
      "Rule #2\n",
      "Rule: If a person recommends Empire Strikes Back, The (1980), Fugitive, The (1993) they will also recommend Raiders of the Lost Ark (1981)\n",
      " - Confidence: 1.000\n",
      "\n",
      "Rule #3\n",
      "Rule: If a person recommends Contact (1997), Empire Strikes Back, The (1980) they will also recommend Raiders of the Lost Ark (1981)\n",
      " - Confidence: 1.000\n",
      "\n",
      "Rule #4\n",
      "Rule: If a person recommends Toy Story (1995), Return of the Jedi (1983), Twelve Monkeys (1995) they will also recommend Star Wars (1977)\n",
      " - Confidence: 1.000\n",
      "\n",
      "Rule #5\n",
      "Rule: If a person recommends Toy Story (1995), Empire Strikes Back, The (1980), Twelve Monkeys (1995) they will also recommend Raiders of the Lost Ark (1981)\n",
      " - Confidence: 1.000\n",
      "\n"
     ]
    }
   ],
   "source": [
    "for index in range(5):\n",
    "    print(\"Rule #{0}\".format(index + 1))\n",
    "    (premise, conclusion) = sorted_confidence[index][0]\n",
    "    premise_names = \", \".join(get_movie_name(idx) for idx in premise)\n",
    "    conclusion_name = get_movie_name(conclusion)\n",
    "    print(\"Rule: If a person recommends {0} they will also recommend {1}\".format(premise_names, conclusion_name))\n",
    "    print(\" - Confidence: {0:.3f}\".format(rule_confidence[(premise, conclusion)]))\n",
    "    print(\"\")"
   ]
  },
  {
   "cell_type": "code",
   "execution_count": 25,
   "id": "d72d4d79",
   "metadata": {},
   "outputs": [],
   "source": [
    "test_dataset = all_ratings[~all_ratings['UserID'].isin(range(200))]\n",
    "test_favorable = test_dataset[test_dataset[\"Favorable\"]]\n",
    "test_favorable_by_users = dict((k, frozenset(v.values)) for k, v in test_favorable.groupby(\"UserID\")[\"MovieID\"])"
   ]
  },
  {
   "cell_type": "code",
   "execution_count": 26,
   "id": "3b904808",
   "metadata": {},
   "outputs": [],
   "source": [
    "correct_counts = defaultdict(int)\n",
    "incorrect_counts = defaultdict(int)\n",
    "for user, reviews in test_favorable_by_users.items():\n",
    "    for candidate_rule in candidate_rules:\n",
    "        premise, conclusion = candidate_rule\n",
    "        if premise.issubset(reviews):\n",
    "            if conclusion in reviews:\n",
    "                correct_counts[candidate_rule] += 1\n",
    "            else:\n",
    "                incorrect_counts[candidate_rule] += 1"
   ]
  },
  {
   "cell_type": "code",
   "execution_count": 27,
   "id": "ada90183",
   "metadata": {},
   "outputs": [
    {
     "name": "stdout",
     "output_type": "stream",
     "text": [
      "15285\n"
     ]
    }
   ],
   "source": [
    "test_confidence = {candidate_rule:\n",
    "                    (correct_counts[candidate_rule] / \n",
    "                    float(correct_counts[candidate_rule] + \n",
    "                    incorrect_counts[candidate_rule]))\n",
    "                    for candidate_rule in rule_confidence}\n",
    "print(len(test_confidence))"
   ]
  },
  {
   "cell_type": "code",
   "execution_count": null,
   "id": "2802a040",
   "metadata": {},
   "outputs": [],
   "source": []
  },
  {
   "cell_type": "code",
   "execution_count": 28,
   "id": "3bade8ca",
   "metadata": {
    "scrolled": true
   },
   "outputs": [
    {
     "name": "stdout",
     "output_type": "stream",
     "text": [
      "Rule #1\n",
      "Rule: If a person recommends Silence of the Lambs, The (1991), Return of the Jedi (1983) they will also recommend Star Wars (1977)\n",
      " - Train Confidence: 1.000\n",
      " - Test Confidence: 0.936\n",
      "\n",
      "Rule #2\n",
      "Rule: If a person recommends Empire Strikes Back, The (1980), Fugitive, The (1993) they will also recommend Raiders of the Lost Ark (1981)\n",
      " - Train Confidence: 1.000\n",
      " - Test Confidence: 0.876\n",
      "\n",
      "Rule #3\n",
      "Rule: If a person recommends Contact (1997), Empire Strikes Back, The (1980) they will also recommend Raiders of the Lost Ark (1981)\n",
      " - Train Confidence: 1.000\n",
      " - Test Confidence: 0.841\n",
      "\n",
      "Rule #4\n",
      "Rule: If a person recommends Toy Story (1995), Return of the Jedi (1983), Twelve Monkeys (1995) they will also recommend Star Wars (1977)\n",
      " - Train Confidence: 1.000\n",
      " - Test Confidence: 0.932\n",
      "\n",
      "Rule #5\n",
      "Rule: If a person recommends Toy Story (1995), Empire Strikes Back, The (1980), Twelve Monkeys (1995) they will also recommend Raiders of the Lost Ark (1981)\n",
      " - Train Confidence: 1.000\n",
      " - Test Confidence: 0.903\n",
      "\n",
      "Rule #6\n",
      "Rule: If a person recommends Pulp Fiction (1994), Toy Story (1995), Star Wars (1977) they will also recommend Raiders of the Lost Ark (1981)\n",
      " - Train Confidence: 1.000\n",
      " - Test Confidence: 0.816\n",
      "\n",
      "Rule #7\n",
      "Rule: If a person recommends Pulp Fiction (1994), Toy Story (1995), Return of the Jedi (1983) they will also recommend Star Wars (1977)\n",
      " - Train Confidence: 1.000\n",
      " - Test Confidence: 0.970\n",
      "\n",
      "Rule #8\n",
      "Rule: If a person recommends Toy Story (1995), Silence of the Lambs, The (1991), Return of the Jedi (1983) they will also recommend Star Wars (1977)\n",
      " - Train Confidence: 1.000\n",
      " - Test Confidence: 0.933\n",
      "\n",
      "Rule #9\n",
      "Rule: If a person recommends Toy Story (1995), Empire Strikes Back, The (1980), Return of the Jedi (1983) they will also recommend Star Wars (1977)\n",
      " - Train Confidence: 1.000\n",
      " - Test Confidence: 0.971\n",
      "\n",
      "Rule #10\n",
      "Rule: If a person recommends Pulp Fiction (1994), Toy Story (1995), Shawshank Redemption, The (1994) they will also recommend Silence of the Lambs, The (1991)\n",
      " - Train Confidence: 1.000\n",
      " - Test Confidence: 0.794\n",
      "\n"
     ]
    }
   ],
   "source": [
    "for index in range(10):\n",
    "    print(\"Rule #{0}\".format(index + 1))\n",
    "    (premise, conclusion) = sorted_confidence[index][0]\n",
    "    premise_names = \", \".join(get_movie_name(idx) for idx in\n",
    "    premise)\n",
    "    conclusion_name = get_movie_name(conclusion)\n",
    "    print(\"Rule: If a person recommends {0} they will also recommend {1}\".format(premise_names, conclusion_name))\n",
    "    print(\" - Train Confidence: {0:.3f}\".format(rule_confidence.get((premise, conclusion), -1)))\n",
    "    print(\" - Test Confidence: {0:.3f}\".format(test_confidence.get((premise, conclusion), -1)))\n",
    "   \n",
    "    print(\"\")\n"
   ]
  },
  {
   "cell_type": "code",
   "execution_count": 45,
   "id": "a6280b45",
   "metadata": {},
   "outputs": [],
   "source": [
    "correct_counts = defaultdict(int)\n",
    "incorrect_counts = defaultdict(int)\n",
    "for user, reviews in favorable_reviews_by_users.items():\n",
    "    for candidate_rule in candidate_rules:\n",
    "        premise, conclusion = candidate_rule\n",
    "        if premise.issubset(reviews):\n",
    "            if conclusion in reviews:\n",
    "                correct_counts[candidate_rule] += 1\n",
    "            else:\n",
    "                incorrect_counts[candidate_rule] += 1\n",
    "rule_confidence = {candidate_rule: correct_counts[candidate_rule] / float(correct_counts[candidate_rule] + incorrect_counts[candidate_rule])\n",
    "              for candidate_rule in candidate_rules}"
   ]
  },
  {
   "cell_type": "code",
   "execution_count": 46,
   "id": "54f3ac7d",
   "metadata": {},
   "outputs": [],
   "source": [
    "min_confidence = 0.9"
   ]
  },
  {
   "cell_type": "code",
   "execution_count": 47,
   "id": "7076f19d",
   "metadata": {},
   "outputs": [
    {
     "name": "stdout",
     "output_type": "stream",
     "text": [
      "5152\n"
     ]
    }
   ],
   "source": [
    "rule_confidence = {rule: confidence for rule, confidence in rule_confidence.items() if confidence > min_confidence}\n",
    "print(len(rule_confidence))"
   ]
  },
  {
   "cell_type": "code",
   "execution_count": 48,
   "id": "f3ae704d",
   "metadata": {},
   "outputs": [],
   "source": [
    "from operator import itemgetter\n",
    "sorted_confidence = sorted(rule_confidence.items(), key=itemgetter(1), reverse=True)"
   ]
  },
  {
   "cell_type": "code",
   "execution_count": 49,
   "id": "47989add",
   "metadata": {},
   "outputs": [
    {
     "name": "stdout",
     "output_type": "stream",
     "text": [
      "[((frozenset({98, 181}), 50), 1.0), ((frozenset({172, 79}), 174), 1.0), ((frozenset({258, 172}), 174), 1.0), ((frozenset({1, 181, 7}), 50), 1.0), ((frozenset({1, 172, 7}), 174), 1.0), ((frozenset({56, 1, 50}), 174), 1.0), ((frozenset({56, 1, 181}), 50), 1.0), ((frozenset({1, 98, 181}), 50), 1.0), ((frozenset({1, 172, 181}), 50), 1.0), ((frozenset({56, 1, 64}), 98), 1.0)]\n"
     ]
    }
   ],
   "source": [
    "top_confidence = sorted_confidence[:10]\n",
    "print(top_confidence)"
   ]
  },
  {
   "cell_type": "code",
   "execution_count": 50,
   "id": "137a118a",
   "metadata": {},
   "outputs": [],
   "source": [
    "counts = defaultdict(int)\n",
    "for user, reviews in favorable_reviews_by_users.items():\n",
    "    for rule, confidence in top_confidence:\n",
    "        premise, conclusion = rule\n",
    "        if premise.issubset(reviews) and conclusion in reviews:\n",
    "            counts[rule] += 1\n",
    "top_support = {rule: support / len(favorable_reviews_by_users) for rule, support in counts.items()}"
   ]
  },
  {
   "cell_type": "code",
   "execution_count": 51,
   "id": "6ae3ac66",
   "metadata": {},
   "outputs": [],
   "source": [
    "top_confidence_dict = {}\n",
    "for rule, confidence in top_confidence:\n",
    "    top_confidence_dict[rule] = confidence"
   ]
  },
  {
   "cell_type": "code",
   "execution_count": 52,
   "id": "4d39a977",
   "metadata": {},
   "outputs": [],
   "source": [
    "# find the lift for each of these rules\n",
    "conclusion_counts = defaultdict(int)\n",
    "for user, reviews in favorable_reviews_by_users.items():\n",
    "    for rule, confidence in top_confidence:\n",
    "        premise, conclusion = rule\n",
    "        if conclusion in reviews:\n",
    "            conclusion_counts[rule] += 1\n",
    "top_lift = {rule: top_confidence_dict[rule] / (count / len(favorable_reviews_by_users)) for rule, count in conclusion_counts.items()}"
   ]
  },
  {
   "cell_type": "code",
   "execution_count": 53,
   "id": "8cb86a73",
   "metadata": {},
   "outputs": [],
   "source": [
    "top_support_dict = {}\n",
    "for rule, support in top_support.items():\n",
    "    top_support_dict[rule] = support\n",
    "\n",
    "top_lift_dict = {}\n",
    "for rule, lift in top_lift.items():\n",
    "    top_lift_dict[rule] = lift"
   ]
  },
  {
   "cell_type": "code",
   "execution_count": 55,
   "id": "7927e550",
   "metadata": {},
   "outputs": [
    {
     "name": "stdout",
     "output_type": "stream",
     "text": [
      "[((frozenset({98, 181}), 50), 1.0), ((frozenset({172, 79}), 174), 1.0), ((frozenset({258, 172}), 174), 1.0), ((frozenset({1, 181, 7}), 50), 1.0), ((frozenset({1, 172, 7}), 174), 1.0), ((frozenset({56, 1, 50}), 174), 1.0), ((frozenset({56, 1, 181}), 50), 1.0), ((frozenset({1, 98, 181}), 50), 1.0), ((frozenset({1, 172, 181}), 50), 1.0), ((frozenset({56, 1, 64}), 98), 1.0)]\n",
      "[34, 0]\n",
      "[66]\n",
      "199\n",
      "100\n",
      "[[34  0]\n",
      " [66 99]]\n",
      "[34, 0]\n",
      "[40]\n",
      "199\n",
      "74\n",
      "[[ 34   0]\n",
      " [ 40 125]]\n",
      "[28, 0]\n",
      "[46]\n",
      "199\n",
      "74\n",
      "[[ 28   0]\n",
      " [ 46 125]]\n",
      "[21, 0]\n",
      "[79]\n",
      "199\n",
      "100\n",
      "[[21  0]\n",
      " [79 99]]\n",
      "[20, 0]\n",
      "[54]\n",
      "199\n",
      "74\n",
      "[[ 20   0]\n",
      " [ 54 125]]\n",
      "[26, 0]\n",
      "[48]\n",
      "199\n",
      "74\n",
      "[[ 26   0]\n",
      " [ 48 125]]\n",
      "[18, 0]\n",
      "[82]\n",
      "199\n",
      "100\n",
      "[[18  0]\n",
      " [82 99]]\n",
      "[24, 0]\n",
      "[76]\n",
      "199\n",
      "100\n",
      "[[24  0]\n",
      " [76 99]]\n",
      "[25, 0]\n",
      "[75]\n",
      "199\n",
      "100\n",
      "[[25  0]\n",
      " [75 99]]\n",
      "[20, 0]\n",
      "[50]\n",
      "199\n",
      "70\n",
      "[[ 20   0]\n",
      " [ 50 129]]\n"
     ]
    }
   ],
   "source": [
    "# find the Chi-Square for each of these rules\n",
    "import numpy as np\n",
    "from scipy.stats import chi2_contingency\n",
    "chi2 = defaultdict(int)\n",
    "print(top_confidence)\n",
    "for rule, confidence in top_confidence:\n",
    "    premise, conclusion = rule\n",
    "    print([correct_counts[rule], incorrect_counts[rule]])\n",
    "    print([conclusion_counts[rule] - correct_counts[rule]])\n",
    "    print(len(favorable_reviews_by_users))\n",
    "    print(conclusion_counts[rule])\n",
    "    observed = np.array([[correct_counts[rule], incorrect_counts[rule]],\n",
    "                         [conclusion_counts[rule] - correct_counts[rule],\n",
    "                          len(favorable_reviews_by_users) - conclusion_counts[rule] - incorrect_counts[rule]]])\n",
    "    print(observed)\n",
    "    chi2[rule] = chi2_contingency(observed)[0]"
   ]
  },
  {
   "cell_type": "code",
   "execution_count": 56,
   "id": "d594f231",
   "metadata": {},
   "outputs": [],
   "source": [
    "# find Kulczynski for each of these rules\n",
    "kulczynski = defaultdict(int)\n",
    "for rule, confidence in top_confidence:\n",
    "    premise, conclusion = rule\n",
    "    kulczynski[rule] = (correct_counts[rule] / (correct_counts[rule] + incorrect_counts[rule])) + (correct_counts[rule] / conclusion_counts[rule])\n",
    "    kulczynski[rule] /= 2"
   ]
  },
  {
   "cell_type": "code",
   "execution_count": 57,
   "id": "027a5a64",
   "metadata": {},
   "outputs": [],
   "source": [
    "# find cosine for each of these rules\n",
    "\n",
    "cosine = defaultdict(int)\n",
    "for rule, confidence in top_confidence:\n",
    "    premise, conclusion = rule\n",
    "    cosine[rule] = correct_counts[rule] / np.sqrt(conclusion_counts[rule] * (correct_counts[rule] + incorrect_counts[rule]))"
   ]
  },
  {
   "cell_type": "code",
   "execution_count": 58,
   "id": "290fc88c",
   "metadata": {},
   "outputs": [],
   "source": [
    "# find all-confidence for each of these rules\n",
    "all_confidence = defaultdict(int)\n",
    "for rule, confidence in top_confidence:\n",
    "    premise, conclusion = rule\n",
    "    all_confidence[rule] = correct_counts[rule] / (correct_counts[rule] + incorrect_counts[rule] + conclusion_counts[rule] - correct_counts[rule])"
   ]
  },
  {
   "cell_type": "code",
   "execution_count": 59,
   "id": "2b101bc2",
   "metadata": {},
   "outputs": [],
   "source": [
    "# find max-confidence for each of these rules\n",
    "max_confidence = defaultdict(int)\n",
    "for rule, confidence in top_confidence:\n",
    "    premise, conclusion = rule\n",
    "    max_confidence[rule] = max(correct_counts[rule] / (correct_counts[rule] + incorrect_counts[rule]),\n",
    "                               correct_counts[rule] / conclusion_counts[rule])"
   ]
  },
  {
   "cell_type": "code",
   "execution_count": 60,
   "id": "84bc7e9b",
   "metadata": {},
   "outputs": [
    {
     "data": {
      "text/html": [
       "<div>\n",
       "<style scoped>\n",
       "    .dataframe tbody tr th:only-of-type {\n",
       "        vertical-align: middle;\n",
       "    }\n",
       "\n",
       "    .dataframe tbody tr th {\n",
       "        vertical-align: top;\n",
       "    }\n",
       "\n",
       "    .dataframe thead th {\n",
       "        text-align: right;\n",
       "    }\n",
       "</style>\n",
       "<table border=\"1\" class=\"dataframe\">\n",
       "  <thead>\n",
       "    <tr style=\"text-align: right;\">\n",
       "      <th></th>\n",
       "      <th>confidence</th>\n",
       "      <th>support</th>\n",
       "      <th>lift</th>\n",
       "      <th>chi2</th>\n",
       "      <th>kulczynski</th>\n",
       "      <th>cosine</th>\n",
       "      <th>all_confidence</th>\n",
       "      <th>max_confidence</th>\n",
       "    </tr>\n",
       "  </thead>\n",
       "  <tbody>\n",
       "    <tr>\n",
       "      <th>((98, 181), 50)</th>\n",
       "      <td>1.0</td>\n",
       "      <td>0.170854</td>\n",
       "      <td>1.990000</td>\n",
       "      <td>38.231413</td>\n",
       "      <td>0.670000</td>\n",
       "      <td>0.583095</td>\n",
       "      <td>0.340000</td>\n",
       "      <td>1.0</td>\n",
       "    </tr>\n",
       "    <tr>\n",
       "      <th>((172, 79), 174)</th>\n",
       "      <td>1.0</td>\n",
       "      <td>0.170854</td>\n",
       "      <td>2.689189</td>\n",
       "      <td>66.061635</td>\n",
       "      <td>0.729730</td>\n",
       "      <td>0.677834</td>\n",
       "      <td>0.459459</td>\n",
       "      <td>1.0</td>\n",
       "    </tr>\n",
       "    <tr>\n",
       "      <th>((258, 172), 174)</th>\n",
       "      <td>1.0</td>\n",
       "      <td>0.140704</td>\n",
       "      <td>2.689189</td>\n",
       "      <td>51.956844</td>\n",
       "      <td>0.689189</td>\n",
       "      <td>0.615125</td>\n",
       "      <td>0.378378</td>\n",
       "      <td>1.0</td>\n",
       "    </tr>\n",
       "    <tr>\n",
       "      <th>((1, 181, 7), 50)</th>\n",
       "      <td>1.0</td>\n",
       "      <td>0.105528</td>\n",
       "      <td>1.990000</td>\n",
       "      <td>21.071216</td>\n",
       "      <td>0.605000</td>\n",
       "      <td>0.458258</td>\n",
       "      <td>0.210000</td>\n",
       "      <td>1.0</td>\n",
       "    </tr>\n",
       "    <tr>\n",
       "      <th>((1, 172, 7), 174)</th>\n",
       "      <td>1.0</td>\n",
       "      <td>0.100503</td>\n",
       "      <td>2.689189</td>\n",
       "      <td>34.628345</td>\n",
       "      <td>0.635135</td>\n",
       "      <td>0.519875</td>\n",
       "      <td>0.270270</td>\n",
       "      <td>1.0</td>\n",
       "    </tr>\n",
       "    <tr>\n",
       "      <th>((56, 1, 50), 174)</th>\n",
       "      <td>1.0</td>\n",
       "      <td>0.130653</td>\n",
       "      <td>2.689189</td>\n",
       "      <td>47.473457</td>\n",
       "      <td>0.675676</td>\n",
       "      <td>0.592749</td>\n",
       "      <td>0.351351</td>\n",
       "      <td>1.0</td>\n",
       "    </tr>\n",
       "    <tr>\n",
       "      <th>((56, 1, 181), 50)</th>\n",
       "      <td>1.0</td>\n",
       "      <td>0.090452</td>\n",
       "      <td>1.990000</td>\n",
       "      <td>17.465336</td>\n",
       "      <td>0.590000</td>\n",
       "      <td>0.424264</td>\n",
       "      <td>0.180000</td>\n",
       "      <td>1.0</td>\n",
       "    </tr>\n",
       "    <tr>\n",
       "      <th>((1, 98, 181), 50)</th>\n",
       "      <td>1.0</td>\n",
       "      <td>0.120603</td>\n",
       "      <td>1.990000</td>\n",
       "      <td>24.802982</td>\n",
       "      <td>0.620000</td>\n",
       "      <td>0.489898</td>\n",
       "      <td>0.240000</td>\n",
       "      <td>1.0</td>\n",
       "    </tr>\n",
       "    <tr>\n",
       "      <th>((1, 172, 181), 50)</th>\n",
       "      <td>1.0</td>\n",
       "      <td>0.125628</td>\n",
       "      <td>1.990000</td>\n",
       "      <td>26.075863</td>\n",
       "      <td>0.625000</td>\n",
       "      <td>0.500000</td>\n",
       "      <td>0.250000</td>\n",
       "      <td>1.0</td>\n",
       "    </tr>\n",
       "    <tr>\n",
       "      <th>((56, 1, 64), 98)</th>\n",
       "      <td>1.0</td>\n",
       "      <td>0.100503</td>\n",
       "      <td>2.842857</td>\n",
       "      <td>37.875708</td>\n",
       "      <td>0.642857</td>\n",
       "      <td>0.534522</td>\n",
       "      <td>0.285714</td>\n",
       "      <td>1.0</td>\n",
       "    </tr>\n",
       "  </tbody>\n",
       "</table>\n",
       "</div>"
      ],
      "text/plain": [
       "                     confidence   support      lift       chi2  kulczynski  \\\n",
       "((98, 181), 50)             1.0  0.170854  1.990000  38.231413    0.670000   \n",
       "((172, 79), 174)            1.0  0.170854  2.689189  66.061635    0.729730   \n",
       "((258, 172), 174)           1.0  0.140704  2.689189  51.956844    0.689189   \n",
       "((1, 181, 7), 50)           1.0  0.105528  1.990000  21.071216    0.605000   \n",
       "((1, 172, 7), 174)          1.0  0.100503  2.689189  34.628345    0.635135   \n",
       "((56, 1, 50), 174)          1.0  0.130653  2.689189  47.473457    0.675676   \n",
       "((56, 1, 181), 50)          1.0  0.090452  1.990000  17.465336    0.590000   \n",
       "((1, 98, 181), 50)          1.0  0.120603  1.990000  24.802982    0.620000   \n",
       "((1, 172, 181), 50)         1.0  0.125628  1.990000  26.075863    0.625000   \n",
       "((56, 1, 64), 98)           1.0  0.100503  2.842857  37.875708    0.642857   \n",
       "\n",
       "                       cosine  all_confidence  max_confidence  \n",
       "((98, 181), 50)      0.583095        0.340000             1.0  \n",
       "((172, 79), 174)     0.677834        0.459459             1.0  \n",
       "((258, 172), 174)    0.615125        0.378378             1.0  \n",
       "((1, 181, 7), 50)    0.458258        0.210000             1.0  \n",
       "((1, 172, 7), 174)   0.519875        0.270270             1.0  \n",
       "((56, 1, 50), 174)   0.592749        0.351351             1.0  \n",
       "((56, 1, 181), 50)   0.424264        0.180000             1.0  \n",
       "((1, 98, 181), 50)   0.489898        0.240000             1.0  \n",
       "((1, 172, 181), 50)  0.500000        0.250000             1.0  \n",
       "((56, 1, 64), 98)    0.534522        0.285714             1.0  "
      ]
     },
     "execution_count": 60,
     "metadata": {},
     "output_type": "execute_result"
    }
   ],
   "source": [
    "# confidence and support, lift, Chi-Square, Kulczynski, cosine, all-confidence, max-confidence\n",
    "\n",
    "import pandas as pd\n",
    "df = pd.DataFrame.from_dict(top_confidence_dict, orient='index')\n",
    "df = df.rename(columns={0: 'confidence'})\n",
    "df['support'] = pd.Series(top_support_dict)\n",
    "df['lift'] = pd.Series(top_lift_dict)\n",
    "df['chi2'] = pd.Series(chi2)\n",
    "df['kulczynski'] = pd.Series(kulczynski)\n",
    "df['cosine'] = pd.Series(cosine)\n",
    "df['all_confidence'] = pd.Series(all_confidence)\n",
    "df['max_confidence'] = pd.Series(max_confidence)\n",
    "df = df.sort_values(by='confidence', ascending=False)\n",
    "df"
   ]
  },
  {
   "cell_type": "code",
   "execution_count": 62,
   "id": "dedfc10e",
   "metadata": {},
   "outputs": [],
   "source": [
    "correct_counts = defaultdict(int)\n",
    "incorrect_counts = defaultdict(int)\n",
    "for user, reviews in test_favorable_by_users.items():\n",
    "    for candidate_rule, confidence in top_confidence:\n",
    "        premise, conclusion = candidate_rule\n",
    "        if premise.issubset(reviews):\n",
    "            if conclusion in reviews:\n",
    "                correct_counts[candidate_rule] += 1\n",
    "            else:\n",
    "                incorrect_counts[candidate_rule] += 1"
   ]
  },
  {
   "cell_type": "code",
   "execution_count": 68,
   "id": "5886d06a",
   "metadata": {},
   "outputs": [
    {
     "data": {
      "text/html": [
       "<div>\n",
       "<style scoped>\n",
       "    .dataframe tbody tr th:only-of-type {\n",
       "        vertical-align: middle;\n",
       "    }\n",
       "\n",
       "    .dataframe tbody tr th {\n",
       "        vertical-align: top;\n",
       "    }\n",
       "\n",
       "    .dataframe thead th {\n",
       "        text-align: right;\n",
       "    }\n",
       "</style>\n",
       "<table border=\"1\" class=\"dataframe\">\n",
       "  <thead>\n",
       "    <tr style=\"text-align: right;\">\n",
       "      <th></th>\n",
       "      <th>confidence</th>\n",
       "      <th>support</th>\n",
       "      <th>lift</th>\n",
       "      <th>chi2</th>\n",
       "      <th>kulczynski</th>\n",
       "      <th>cosine</th>\n",
       "      <th>all_confidence</th>\n",
       "      <th>max_confidence</th>\n",
       "      <th>test_confidence</th>\n",
       "    </tr>\n",
       "  </thead>\n",
       "  <tbody>\n",
       "    <tr>\n",
       "      <th>((98, 181), 50)</th>\n",
       "      <td>1.0</td>\n",
       "      <td>0.170854</td>\n",
       "      <td>1.990000</td>\n",
       "      <td>38.231413</td>\n",
       "      <td>0.670000</td>\n",
       "      <td>0.583095</td>\n",
       "      <td>0.340000</td>\n",
       "      <td>1.0</td>\n",
       "      <td>0.935897</td>\n",
       "    </tr>\n",
       "    <tr>\n",
       "      <th>((172, 79), 174)</th>\n",
       "      <td>1.0</td>\n",
       "      <td>0.170854</td>\n",
       "      <td>2.689189</td>\n",
       "      <td>66.061635</td>\n",
       "      <td>0.729730</td>\n",
       "      <td>0.677834</td>\n",
       "      <td>0.459459</td>\n",
       "      <td>1.0</td>\n",
       "      <td>0.875912</td>\n",
       "    </tr>\n",
       "    <tr>\n",
       "      <th>((258, 172), 174)</th>\n",
       "      <td>1.0</td>\n",
       "      <td>0.140704</td>\n",
       "      <td>2.689189</td>\n",
       "      <td>51.956844</td>\n",
       "      <td>0.689189</td>\n",
       "      <td>0.615125</td>\n",
       "      <td>0.378378</td>\n",
       "      <td>1.0</td>\n",
       "      <td>0.840909</td>\n",
       "    </tr>\n",
       "    <tr>\n",
       "      <th>((1, 181, 7), 50)</th>\n",
       "      <td>1.0</td>\n",
       "      <td>0.105528</td>\n",
       "      <td>1.990000</td>\n",
       "      <td>21.071216</td>\n",
       "      <td>0.605000</td>\n",
       "      <td>0.458258</td>\n",
       "      <td>0.210000</td>\n",
       "      <td>1.0</td>\n",
       "      <td>0.932432</td>\n",
       "    </tr>\n",
       "    <tr>\n",
       "      <th>((1, 172, 7), 174)</th>\n",
       "      <td>1.0</td>\n",
       "      <td>0.100503</td>\n",
       "      <td>2.689189</td>\n",
       "      <td>34.628345</td>\n",
       "      <td>0.635135</td>\n",
       "      <td>0.519875</td>\n",
       "      <td>0.270270</td>\n",
       "      <td>1.0</td>\n",
       "      <td>0.903226</td>\n",
       "    </tr>\n",
       "    <tr>\n",
       "      <th>((56, 1, 50), 174)</th>\n",
       "      <td>1.0</td>\n",
       "      <td>0.130653</td>\n",
       "      <td>2.689189</td>\n",
       "      <td>47.473457</td>\n",
       "      <td>0.675676</td>\n",
       "      <td>0.592749</td>\n",
       "      <td>0.351351</td>\n",
       "      <td>1.0</td>\n",
       "      <td>0.816092</td>\n",
       "    </tr>\n",
       "    <tr>\n",
       "      <th>((56, 1, 181), 50)</th>\n",
       "      <td>1.0</td>\n",
       "      <td>0.090452</td>\n",
       "      <td>1.990000</td>\n",
       "      <td>17.465336</td>\n",
       "      <td>0.590000</td>\n",
       "      <td>0.424264</td>\n",
       "      <td>0.180000</td>\n",
       "      <td>1.0</td>\n",
       "      <td>0.969697</td>\n",
       "    </tr>\n",
       "    <tr>\n",
       "      <th>((1, 98, 181), 50)</th>\n",
       "      <td>1.0</td>\n",
       "      <td>0.120603</td>\n",
       "      <td>1.990000</td>\n",
       "      <td>24.802982</td>\n",
       "      <td>0.620000</td>\n",
       "      <td>0.489898</td>\n",
       "      <td>0.240000</td>\n",
       "      <td>1.0</td>\n",
       "      <td>0.932584</td>\n",
       "    </tr>\n",
       "    <tr>\n",
       "      <th>((1, 172, 181), 50)</th>\n",
       "      <td>1.0</td>\n",
       "      <td>0.125628</td>\n",
       "      <td>1.990000</td>\n",
       "      <td>26.075863</td>\n",
       "      <td>0.625000</td>\n",
       "      <td>0.500000</td>\n",
       "      <td>0.250000</td>\n",
       "      <td>1.0</td>\n",
       "      <td>0.970588</td>\n",
       "    </tr>\n",
       "    <tr>\n",
       "      <th>((56, 1, 64), 98)</th>\n",
       "      <td>1.0</td>\n",
       "      <td>0.100503</td>\n",
       "      <td>2.842857</td>\n",
       "      <td>37.875708</td>\n",
       "      <td>0.642857</td>\n",
       "      <td>0.534522</td>\n",
       "      <td>0.285714</td>\n",
       "      <td>1.0</td>\n",
       "      <td>0.794118</td>\n",
       "    </tr>\n",
       "  </tbody>\n",
       "</table>\n",
       "</div>"
      ],
      "text/plain": [
       "                     confidence   support      lift       chi2  kulczynski  \\\n",
       "((98, 181), 50)             1.0  0.170854  1.990000  38.231413    0.670000   \n",
       "((172, 79), 174)            1.0  0.170854  2.689189  66.061635    0.729730   \n",
       "((258, 172), 174)           1.0  0.140704  2.689189  51.956844    0.689189   \n",
       "((1, 181, 7), 50)           1.0  0.105528  1.990000  21.071216    0.605000   \n",
       "((1, 172, 7), 174)          1.0  0.100503  2.689189  34.628345    0.635135   \n",
       "((56, 1, 50), 174)          1.0  0.130653  2.689189  47.473457    0.675676   \n",
       "((56, 1, 181), 50)          1.0  0.090452  1.990000  17.465336    0.590000   \n",
       "((1, 98, 181), 50)          1.0  0.120603  1.990000  24.802982    0.620000   \n",
       "((1, 172, 181), 50)         1.0  0.125628  1.990000  26.075863    0.625000   \n",
       "((56, 1, 64), 98)           1.0  0.100503  2.842857  37.875708    0.642857   \n",
       "\n",
       "                       cosine  all_confidence  max_confidence  test_confidence  \n",
       "((98, 181), 50)      0.583095        0.340000             1.0         0.935897  \n",
       "((172, 79), 174)     0.677834        0.459459             1.0         0.875912  \n",
       "((258, 172), 174)    0.615125        0.378378             1.0         0.840909  \n",
       "((1, 181, 7), 50)    0.458258        0.210000             1.0         0.932432  \n",
       "((1, 172, 7), 174)   0.519875        0.270270             1.0         0.903226  \n",
       "((56, 1, 50), 174)   0.592749        0.351351             1.0         0.816092  \n",
       "((56, 1, 181), 50)   0.424264        0.180000             1.0         0.969697  \n",
       "((1, 98, 181), 50)   0.489898        0.240000             1.0         0.932584  \n",
       "((1, 172, 181), 50)  0.500000        0.250000             1.0         0.970588  \n",
       "((56, 1, 64), 98)    0.534522        0.285714             1.0         0.794118  "
      ]
     },
     "execution_count": 68,
     "metadata": {},
     "output_type": "execute_result"
    }
   ],
   "source": [
    "df['test_confidence'] = pd.Series(test_confidence)\n",
    "df"
   ]
  },
  {
   "cell_type": "markdown",
   "id": "8f1066fb",
   "metadata": {},
   "source": [
    "    1.在程式裡\n",
    "    2.在程式裡\n",
    "    3.對印出的結果，我不是很了解為什麼confident,max confident永遠都是1，除此之外，我們可以發現test confidence都頗高。\n",
    "    且各項指標基本保持正相關。\n",
    "    data 來源：https://grouplens.org/datasets/movielens/\n",
    "    參考網站：https://chwang12341.medium.com/machine-learning-%E9%97%9C%E8%81%AF%E5%88%86%E6%9E%90-apriori%E6%BC%94%E7%AE%97%E6%B3%95-%E8%A9%B3%E7%B4%B0%E8%A7%A3%E8%AA%AA%E5%95%A4%E9%85%92%E8%88%87%E5%B0%BF%E5%B8%83%E7%9A%84%E8%83%8C%E5%BE%8C%E5%8E%9F%E7%90%86-python%E5%AF%A6%E4%BD%9C-scikit-learn%E4%B8%80%E6%AD%A5%E4%B8%80%E6%AD%A5%E6%95%99%E5%AD%B8-76b7778f8f34"
   ]
  }
 ],
 "metadata": {
  "kernelspec": {
   "display_name": "Python 3 (ipykernel)",
   "language": "python",
   "name": "python3"
  },
  "language_info": {
   "codemirror_mode": {
    "name": "ipython",
    "version": 3
   },
   "file_extension": ".py",
   "mimetype": "text/x-python",
   "name": "python",
   "nbconvert_exporter": "python",
   "pygments_lexer": "ipython3",
   "version": "3.9.13"
  }
 },
 "nbformat": 4,
 "nbformat_minor": 5
}
