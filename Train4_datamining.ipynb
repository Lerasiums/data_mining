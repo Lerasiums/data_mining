{
 "cells": [
  {
   "cell_type": "code",
   "execution_count": null,
   "id": "5ffc5dc3",
   "metadata": {},
   "outputs": [],
   "source": [
    "# CLIENT_ID = \"Ox5CcqyC8RGwFZD8zN6FKg\"\n",
    "# CLIENT_SECRET = \"bOGw_Tm-Yqek0S8NuwpqKDekRXCZGw\""
   ]
  },
  {
   "cell_type": "code",
   "execution_count": 1,
   "id": "cb130c2e",
   "metadata": {},
   "outputs": [],
   "source": [
    "CLIENT_ID = \"hZ-F6QLaGJ6VBg\" \n",
    "CLIENT_SECRET = \"MFC8FXTlXjm4jtG60bm9Qs-PPls\""
   ]
  },
  {
   "cell_type": "code",
   "execution_count": 2,
   "id": "c0d43d0e",
   "metadata": {},
   "outputs": [],
   "source": [
    "USER_AGENT = \"python:<test0.1> (by /u/Dealsy23)\""
   ]
  },
  {
   "cell_type": "code",
   "execution_count": 3,
   "id": "e7a52ff1",
   "metadata": {},
   "outputs": [],
   "source": [
    "USERNAME = \"Dealsy23\" \n",
    "PASSWORD = \"Outbreak23\""
   ]
  },
  {
   "cell_type": "code",
   "execution_count": 4,
   "id": "5d33d0f5",
   "metadata": {},
   "outputs": [],
   "source": [
    "import requests\n",
    "def login(username, password):\n",
    "    if password is None:\n",
    "        password = getpass.getpass(\"Enter reddit password for user {}: \".format(username))    \n",
    "    headers = {\"User-Agent\": USER_AGENT}\n",
    "    # Setup an auth object with our credentials\n",
    "    client_auth = requests.auth.HTTPBasicAuth(CLIENT_ID, CLIENT_SECRET)\n",
    "    # Make a post request to the access_token endpoint\n",
    "    post_data = {\"grant_type\": \"password\", \"username\": username, \"password\": password}\n",
    "    response = requests.post(\"https://www.reddit.com/api/v1/access_token\", auth=client_auth,     \n",
    "                             data=post_data, headers=headers) \n",
    "    return response.json()"
   ]
  },
  {
   "cell_type": "code",
   "execution_count": 5,
   "id": "de29f179",
   "metadata": {},
   "outputs": [],
   "source": [
    "token = login(USERNAME, PASSWORD)"
   ]
  },
  {
   "cell_type": "code",
   "execution_count": 6,
   "id": "aaa26a8e",
   "metadata": {},
   "outputs": [
    {
     "data": {
      "text/plain": [
       "{'access_token': '67735478-oY2KUA6XZdkT5Mx61UByoF65z5p4nQ',\n",
       " 'token_type': 'bearer',\n",
       " 'expires_in': 86400,\n",
       " 'scope': '*'}"
      ]
     },
     "execution_count": 6,
     "metadata": {},
     "output_type": "execute_result"
    }
   ],
   "source": [
    "token"
   ]
  },
  {
   "cell_type": "code",
   "execution_count": 7,
   "id": "0dd35cea",
   "metadata": {},
   "outputs": [],
   "source": [
    "subreddit = \"worldnews\""
   ]
  },
  {
   "cell_type": "code",
   "execution_count": 8,
   "id": "c8049d3c",
   "metadata": {},
   "outputs": [],
   "source": [
    "url = \"https://oauth.reddit.com/r/{}\".format(subreddit)"
   ]
  },
  {
   "cell_type": "code",
   "execution_count": 9,
   "id": "30d52fc3",
   "metadata": {},
   "outputs": [],
   "source": [
    "headers = {\"Authorization\": \"bearer {}\".format(token['access_token']), \n",
    "\"User-Agent\": USER_AGENT}"
   ]
  },
  {
   "cell_type": "code",
   "execution_count": 10,
   "id": "e19c84a6",
   "metadata": {},
   "outputs": [],
   "source": [
    "response = requests.get(url, headers=headers)"
   ]
  },
  {
   "cell_type": "code",
   "execution_count": 11,
   "id": "bfe5dc25",
   "metadata": {},
   "outputs": [],
   "source": [
    "result = response.json()"
   ]
  },
  {
   "cell_type": "code",
   "execution_count": 12,
   "id": "2b72f615",
   "metadata": {},
   "outputs": [
    {
     "name": "stdout",
     "output_type": "stream",
     "text": [
      "/r/WorldNews Live Thread: Russian Invasion of Ukraine Day 439, Part 1 (Thread #580)\n",
      "AP News: Days after two shootings left 17 people dead in Serbia, the European country's Interior Ministry urged citizens to turn in all unregistered weapons or run the risk of a prison sentence. Individuals who turn in weapons before June 8 will not face charges.\n",
      "Türkiye refuses to send Russian S-400s to Ukraine as proposed by US\n",
      "‘Face the reality’: France ‘must prepare’ for +4C global warming | CNTE told journalists: “We believe unanimously that we will retain, on our journey to prepare for climate change, the general hypothesis of global warming of 3C by the end of the century, hitting 1.5C in 2030, and 2C in 2050.\"\n",
      "Young Crimean Tatar illegally imprisoned in Russia on ‘treason’ charges for trying to visit gravely ill father\n",
      "Russia may be preparing provocations against its civilian population on 9 May – Ukrainian Intelligence\n",
      "Iran concealed weapons in earthquake aid to hit US troops, Discord leak says: report\n",
      "Vietnam has recorded its highest ever temperature, just over 44C (111F) - with experts predicting it would soon be surpassed because of climate change.\n",
      "‘Too greedy’: mass walkout at global science journal over ‘unethical’ fees - Entire board resigns over actions of academic publisher whose profit margins outstrip even Google and Amazon\n",
      "Blasts rock northern part of Russia-occupied Crimea\n",
      "Israel demolishes EU-funded Palestinian school in occupied West Bank\n",
      "Czech President: West must be prepared that there will be no complete victory in war\n",
      "Morocco Overtakes US to Become World’s 3rd Top Raspberry Exporter\n",
      "Climate change: Vietnam records highest-ever temperature of 44.1C - BBC News\n",
      "Russian Warships Pulled From Crimea Over Missile Fears\n",
      "Russia's economy is suffering from industrial decline as satellites detect less pollution in the air\n",
      "Canada’s Alberta declares state of emergency over wildfires\n",
      "Air-raid warning in Ukraine: explosion in Odesa, air defence activated in Kyiv Oblast\n",
      "Russia launches mass strikes on Ukraine ahead of May 9 Victory Day holiday\n",
      "Deforestation blamed for craters that could swallow a city of 70,000\n",
      "Brazilian Federal Supreme Court Charges 200 More of the Denounced for Coup-Plotting Attacks of 8/1\n",
      "Calls grow for Pakistan’s zoos to close after death of 17-year-old elephant\n",
      "Berlin lifts ban on Ukrainian symbols for V-E Day, Russian flags still prohibited\n",
      "COVID blamed for sudden rise in fatalities across Japan since 2020\n",
      "Prigozhin says he was promised “as much ammunition as it takes”\n",
      "Garden swimming pools are to be banned from sale in a part of southern France over worsening water shortages.\n"
     ]
    }
   ],
   "source": [
    "for story in result['data']['children']: \n",
    "    print(story['data']['title'])"
   ]
  },
  {
   "cell_type": "code",
   "execution_count": 13,
   "id": "43fbb8e3",
   "metadata": {},
   "outputs": [],
   "source": [
    "from time import sleep"
   ]
  },
  {
   "cell_type": "code",
   "execution_count": 14,
   "id": "a2fd05fd",
   "metadata": {},
   "outputs": [],
   "source": [
    "def get_links(subreddit, token, n_pages=5):\n",
    "    stories = []\n",
    "    after = None\n",
    "    for page_number in range(n_pages):\n",
    "        # Sleep before making calls to avoid going over the API limit\n",
    "        sleep(2)\n",
    "        # Setup headers and make call, just like in the login function\n",
    "        headers = {\"Authorization\": \"bearer {}\".format(token['access_token']), \"User-Agent\": USER_AGENT} \n",
    "        url = \"https://oauth.reddit.com/r/{}?limit=100\". format(subreddit)\n",
    "        if after:\n",
    "            # Append cursor for next page, if we have one\n",
    "            url += \"&after={}\".format(after)\n",
    "        response = requests.get(url, headers=headers)\n",
    "        result = response.json()\n",
    "        # Get the new cursor for the next loop\n",
    "        after = result['data']['after']\n",
    "        # Add all of the news items to our stories list\n",
    "        for story in result['data']['children']:\n",
    "            stories.append((story['data']['title'], story['data']['url'], story['data']['score']))\n",
    "    return stories"
   ]
  },
  {
   "cell_type": "code",
   "execution_count": 15,
   "id": "37b392f9",
   "metadata": {},
   "outputs": [],
   "source": [
    "stories = get_links(\"worldnews\", token)\n"
   ]
  },
  {
   "cell_type": "code",
   "execution_count": 16,
   "id": "1bbd9664",
   "metadata": {},
   "outputs": [],
   "source": [
    "import os \n",
    "data_folder = os.path.join(\"data\", \"websites\", \"raw\")"
   ]
  },
  {
   "cell_type": "code",
   "execution_count": 17,
   "id": "2feaaa5a",
   "metadata": {},
   "outputs": [],
   "source": [
    "import hashlib"
   ]
  },
  {
   "cell_type": "code",
   "execution_count": 18,
   "id": "b1df92c2",
   "metadata": {},
   "outputs": [],
   "source": [
    "number_errors = 0"
   ]
  },
  {
   "cell_type": "code",
   "execution_count": 19,
   "id": "9afc7c12",
   "metadata": {},
   "outputs": [],
   "source": [
    "for title, url, score in stories:\n",
    "    output_filename = hashlib.md5(url.encode()).hexdigest() \n",
    "    fullpath = os.path.join(data_folder, output_filename + \".txt\")\n",
    "    try: \n",
    "        response = requests.get(url) \n",
    "        data = response.text \n",
    "        with open(fullpath, 'w') as outf: \n",
    "            outf.write(data)\n",
    "    except Exception as e:\n",
    "        number_errors += 1\n",
    "        # You can use this to view the errors, if you are getting too many:\n",
    "        #raise"
   ]
  },
  {
   "cell_type": "code",
   "execution_count": 18,
   "id": "6801b2f3",
   "metadata": {},
   "outputs": [
    {
     "name": "stdout",
     "output_type": "stream",
     "text": [
      "在資料夾中共有503個txt檔案。\n"
     ]
    }
   ],
   "source": [
    "import os\n",
    "\n",
    "folder_path =  r\"C:\\Users\\user\\Desktop\\notebook\\DATA_MINING\\HW4\\raw\" # 資料夾路徑\n",
    "file_extension = '.txt' # 檔案副檔名\n",
    "\n",
    "count = 0 # 計數器，用來統計檔案數量\n",
    "\n",
    "# 列出該資料夾下的所有檔案\n",
    "for file_name in os.listdir(folder_path):\n",
    "    # 如果該檔案的副檔名為指定的檔案副檔名\n",
    "    if file_name.endswith(file_extension):\n",
    "        count += 1 # 計數器加1\n",
    "\n",
    "print(f'在資料夾中共有{count}個{file_extension}檔案。')\n"
   ]
  },
  {
   "cell_type": "code",
   "execution_count": 19,
   "id": "ba1e26c6",
   "metadata": {},
   "outputs": [
    {
     "name": "stdout",
     "output_type": "stream",
     "text": [
      "['C:\\\\Users\\\\user\\\\Desktop\\\\notebook\\\\DATA_MINING\\\\HW4\\\\raw\\\\.DS_Store', 'C:\\\\Users\\\\user\\\\Desktop\\\\notebook\\\\DATA_MINING\\\\HW4\\\\raw\\\\002a0144e6f10a5c960f660a1b5a32f8.txt', 'C:\\\\Users\\\\user\\\\Desktop\\\\notebook\\\\DATA_MINING\\\\HW4\\\\raw\\\\002ec309254fee6bc36ca0a5579d1eae.txt', 'C:\\\\Users\\\\user\\\\Desktop\\\\notebook\\\\DATA_MINING\\\\HW4\\\\raw\\\\0164c1cb96821437d2e32002abe189dd.txt', 'C:\\\\Users\\\\user\\\\Desktop\\\\notebook\\\\DATA_MINING\\\\HW4\\\\raw\\\\01d87aee2b4af162048395c19b7862db.txt', 'C:\\\\Users\\\\user\\\\Desktop\\\\notebook\\\\DATA_MINING\\\\HW4\\\\raw\\\\02a51f38a40cdfc55ad04f59c4669009.txt', 'C:\\\\Users\\\\user\\\\Desktop\\\\notebook\\\\DATA_MINING\\\\HW4\\\\raw\\\\03586c2f246603dfbeb3e56b9387c1de.txt', 'C:\\\\Users\\\\user\\\\Desktop\\\\notebook\\\\DATA_MINING\\\\HW4\\\\raw\\\\03a303aa43802b492cdbf9362cb5f32d.txt', 'C:\\\\Users\\\\user\\\\Desktop\\\\notebook\\\\DATA_MINING\\\\HW4\\\\raw\\\\03db1be123b06d2b4e6f8fa2f7957f67.txt', 'C:\\\\Users\\\\user\\\\Desktop\\\\notebook\\\\DATA_MINING\\\\HW4\\\\raw\\\\045482edf37ef6cbf21db7f299d4329d.txt', 'C:\\\\Users\\\\user\\\\Desktop\\\\notebook\\\\DATA_MINING\\\\HW4\\\\raw\\\\047a8eb2914755539a48a38312f2eba1.txt', 'C:\\\\Users\\\\user\\\\Desktop\\\\notebook\\\\DATA_MINING\\\\HW4\\\\raw\\\\04bfa80da6a0f7e526113666e3c35da7.txt', 'C:\\\\Users\\\\user\\\\Desktop\\\\notebook\\\\DATA_MINING\\\\HW4\\\\raw\\\\0526e38c463e8a8179cb572ad7a78a8d.txt', 'C:\\\\Users\\\\user\\\\Desktop\\\\notebook\\\\DATA_MINING\\\\HW4\\\\raw\\\\05c04c6de7ac1456dd802029a7560f95.txt', 'C:\\\\Users\\\\user\\\\Desktop\\\\notebook\\\\DATA_MINING\\\\HW4\\\\raw\\\\06a07290d01fceadedf9dfbd7a0949e2.txt', 'C:\\\\Users\\\\user\\\\Desktop\\\\notebook\\\\DATA_MINING\\\\HW4\\\\raw\\\\08dc24cb8ac1ea3272418fa5c79e18a2.txt', 'C:\\\\Users\\\\user\\\\Desktop\\\\notebook\\\\DATA_MINING\\\\HW4\\\\raw\\\\0913da62b38952358403e422f94d7239.txt', 'C:\\\\Users\\\\user\\\\Desktop\\\\notebook\\\\DATA_MINING\\\\HW4\\\\raw\\\\09201e77e3800e0e540c0c58df81dc2c.txt', 'C:\\\\Users\\\\user\\\\Desktop\\\\notebook\\\\DATA_MINING\\\\HW4\\\\raw\\\\096d8d396cd42764750f99965341fac3.txt', 'C:\\\\Users\\\\user\\\\Desktop\\\\notebook\\\\DATA_MINING\\\\HW4\\\\raw\\\\0a127de448455bc6d33e4240cbd7a702.txt', 'C:\\\\Users\\\\user\\\\Desktop\\\\notebook\\\\DATA_MINING\\\\HW4\\\\raw\\\\0a5bbe5229fcb10245d9d37f1363393a.txt', 'C:\\\\Users\\\\user\\\\Desktop\\\\notebook\\\\DATA_MINING\\\\HW4\\\\raw\\\\0b119a7098ee334f12e0d07b73e6cd4f.txt', 'C:\\\\Users\\\\user\\\\Desktop\\\\notebook\\\\DATA_MINING\\\\HW4\\\\raw\\\\0b9dd7ff33ffc9c42cc99fe8ba552b35.txt', 'C:\\\\Users\\\\user\\\\Desktop\\\\notebook\\\\DATA_MINING\\\\HW4\\\\raw\\\\0bb83853dd089aac610611d80d942509.txt', 'C:\\\\Users\\\\user\\\\Desktop\\\\notebook\\\\DATA_MINING\\\\HW4\\\\raw\\\\0c5ae232a9516809efca5317d51f9b24.txt', 'C:\\\\Users\\\\user\\\\Desktop\\\\notebook\\\\DATA_MINING\\\\HW4\\\\raw\\\\0c8fe0155db76fb29e1c917ef95d447e.txt', 'C:\\\\Users\\\\user\\\\Desktop\\\\notebook\\\\DATA_MINING\\\\HW4\\\\raw\\\\0c90540928d7246146a6fdb35162f401.txt', 'C:\\\\Users\\\\user\\\\Desktop\\\\notebook\\\\DATA_MINING\\\\HW4\\\\raw\\\\0d3d2283c6f7b9ec738a8f3a8276446a.txt', 'C:\\\\Users\\\\user\\\\Desktop\\\\notebook\\\\DATA_MINING\\\\HW4\\\\raw\\\\0dbb407ec7bd772b71af904390ee32fb.txt', 'C:\\\\Users\\\\user\\\\Desktop\\\\notebook\\\\DATA_MINING\\\\HW4\\\\raw\\\\0e2de88e86391fb13ccb1417c7fa08e0.txt', 'C:\\\\Users\\\\user\\\\Desktop\\\\notebook\\\\DATA_MINING\\\\HW4\\\\raw\\\\0e8ac4b45e4d8c92aa22fac5d8dfb773.txt', 'C:\\\\Users\\\\user\\\\Desktop\\\\notebook\\\\DATA_MINING\\\\HW4\\\\raw\\\\10231e738cb2785ef9aa363831f0efac.txt', 'C:\\\\Users\\\\user\\\\Desktop\\\\notebook\\\\DATA_MINING\\\\HW4\\\\raw\\\\115af51a760fb1c780bc8304d7457bf8.txt', 'C:\\\\Users\\\\user\\\\Desktop\\\\notebook\\\\DATA_MINING\\\\HW4\\\\raw\\\\124762573a84962aa762de23d1899cd1.txt', 'C:\\\\Users\\\\user\\\\Desktop\\\\notebook\\\\DATA_MINING\\\\HW4\\\\raw\\\\1253efab142fda63c4cc5b8eb0a8ace6.txt', 'C:\\\\Users\\\\user\\\\Desktop\\\\notebook\\\\DATA_MINING\\\\HW4\\\\raw\\\\12b3107bc9dd7adaf98c1db3e8887e7b.txt', 'C:\\\\Users\\\\user\\\\Desktop\\\\notebook\\\\DATA_MINING\\\\HW4\\\\raw\\\\13a0b6c5b3120fd27cb71e4362025d3f.txt', 'C:\\\\Users\\\\user\\\\Desktop\\\\notebook\\\\DATA_MINING\\\\HW4\\\\raw\\\\13ef57d1e5117679cf2c3f141b960f06.txt', 'C:\\\\Users\\\\user\\\\Desktop\\\\notebook\\\\DATA_MINING\\\\HW4\\\\raw\\\\13f8dcdbd932be67ca004e1f1a170ee5.txt', 'C:\\\\Users\\\\user\\\\Desktop\\\\notebook\\\\DATA_MINING\\\\HW4\\\\raw\\\\154468b552cd5acda353e07b78fdc75a.txt', 'C:\\\\Users\\\\user\\\\Desktop\\\\notebook\\\\DATA_MINING\\\\HW4\\\\raw\\\\15a49dbb15a781a1d0e49a6d1432e2dc.txt', 'C:\\\\Users\\\\user\\\\Desktop\\\\notebook\\\\DATA_MINING\\\\HW4\\\\raw\\\\15e20e84a64880c341a2b2b31270dcb1.txt', 'C:\\\\Users\\\\user\\\\Desktop\\\\notebook\\\\DATA_MINING\\\\HW4\\\\raw\\\\16c20642c9656656ddc009cbe3975213.txt', 'C:\\\\Users\\\\user\\\\Desktop\\\\notebook\\\\DATA_MINING\\\\HW4\\\\raw\\\\18eaff24957934d9d8334bb7f408d3a3.txt', 'C:\\\\Users\\\\user\\\\Desktop\\\\notebook\\\\DATA_MINING\\\\HW4\\\\raw\\\\1a049ea60af18f708af618017a9ce5bf.txt', 'C:\\\\Users\\\\user\\\\Desktop\\\\notebook\\\\DATA_MINING\\\\HW4\\\\raw\\\\1a11e12e853c088f040a22d7aaf3a6ec.txt', 'C:\\\\Users\\\\user\\\\Desktop\\\\notebook\\\\DATA_MINING\\\\HW4\\\\raw\\\\1a4949bc203f5d4c2e4cff3e08dbf85b.txt', 'C:\\\\Users\\\\user\\\\Desktop\\\\notebook\\\\DATA_MINING\\\\HW4\\\\raw\\\\1a968466db2f6daeb1ffeff7fc813ef3.txt', 'C:\\\\Users\\\\user\\\\Desktop\\\\notebook\\\\DATA_MINING\\\\HW4\\\\raw\\\\1c10dfa6d5c8c6ca0c735cf3830985f5.txt', 'C:\\\\Users\\\\user\\\\Desktop\\\\notebook\\\\DATA_MINING\\\\HW4\\\\raw\\\\1c89b27d8be7b9a06c744dfd3733f897.txt', 'C:\\\\Users\\\\user\\\\Desktop\\\\notebook\\\\DATA_MINING\\\\HW4\\\\raw\\\\1d3626b08b4175f4999e09159c26c7d1.txt', 'C:\\\\Users\\\\user\\\\Desktop\\\\notebook\\\\DATA_MINING\\\\HW4\\\\raw\\\\1d3718881bbdb38b918cb307ea8a98a7.txt', 'C:\\\\Users\\\\user\\\\Desktop\\\\notebook\\\\DATA_MINING\\\\HW4\\\\raw\\\\1d7488c909a8c7973942ab30604549d1.txt', 'C:\\\\Users\\\\user\\\\Desktop\\\\notebook\\\\DATA_MINING\\\\HW4\\\\raw\\\\1d8a3fae1c2145073cf46b9695738555.txt', 'C:\\\\Users\\\\user\\\\Desktop\\\\notebook\\\\DATA_MINING\\\\HW4\\\\raw\\\\1d8d94007240a9567a35a6e69b1d457b.txt', 'C:\\\\Users\\\\user\\\\Desktop\\\\notebook\\\\DATA_MINING\\\\HW4\\\\raw\\\\1df5194f99e148d388754b36de3a27ba.txt', 'C:\\\\Users\\\\user\\\\Desktop\\\\notebook\\\\DATA_MINING\\\\HW4\\\\raw\\\\1f1787c988f0dfcfd034a2954952b98f.txt', 'C:\\\\Users\\\\user\\\\Desktop\\\\notebook\\\\DATA_MINING\\\\HW4\\\\raw\\\\20732cabfefe46632fabb73e1b51b3e3.txt', 'C:\\\\Users\\\\user\\\\Desktop\\\\notebook\\\\DATA_MINING\\\\HW4\\\\raw\\\\20fccb1bc876495f52e115fb1ca5bad7.txt', 'C:\\\\Users\\\\user\\\\Desktop\\\\notebook\\\\DATA_MINING\\\\HW4\\\\raw\\\\210b24ed6f671db4b681eeeb7e4ca6bc.txt', 'C:\\\\Users\\\\user\\\\Desktop\\\\notebook\\\\DATA_MINING\\\\HW4\\\\raw\\\\2145ef1e1598930178a201e76e9dedb8.txt', 'C:\\\\Users\\\\user\\\\Desktop\\\\notebook\\\\DATA_MINING\\\\HW4\\\\raw\\\\218ba6440a3d0c6ce3c5f5f4b7bc73f8.txt', 'C:\\\\Users\\\\user\\\\Desktop\\\\notebook\\\\DATA_MINING\\\\HW4\\\\raw\\\\2232939adf4737e8bf711a8392520650.txt', 'C:\\\\Users\\\\user\\\\Desktop\\\\notebook\\\\DATA_MINING\\\\HW4\\\\raw\\\\22b3f2c9f01edfa24f584395ceef51e5.txt', 'C:\\\\Users\\\\user\\\\Desktop\\\\notebook\\\\DATA_MINING\\\\HW4\\\\raw\\\\23177fa3970f101860ec7809200263fc.txt', 'C:\\\\Users\\\\user\\\\Desktop\\\\notebook\\\\DATA_MINING\\\\HW4\\\\raw\\\\231f53c93d3984e45ed1e4667f7930cb.txt', 'C:\\\\Users\\\\user\\\\Desktop\\\\notebook\\\\DATA_MINING\\\\HW4\\\\raw\\\\236823564dc088cf1a1c774be7c3f0ee.txt', 'C:\\\\Users\\\\user\\\\Desktop\\\\notebook\\\\DATA_MINING\\\\HW4\\\\raw\\\\238e91558266116f71c1c09358f48604.txt', 'C:\\\\Users\\\\user\\\\Desktop\\\\notebook\\\\DATA_MINING\\\\HW4\\\\raw\\\\23ed3d09c2b2673f198f5b4ee4134e83.txt', 'C:\\\\Users\\\\user\\\\Desktop\\\\notebook\\\\DATA_MINING\\\\HW4\\\\raw\\\\23ef7aafbfb0d2cbbc2693707ded326f.txt', 'C:\\\\Users\\\\user\\\\Desktop\\\\notebook\\\\DATA_MINING\\\\HW4\\\\raw\\\\240d99341f2c89f7aa5067ede8893e2a.txt', 'C:\\\\Users\\\\user\\\\Desktop\\\\notebook\\\\DATA_MINING\\\\HW4\\\\raw\\\\247f177e59016169db72ca742dff4316.txt', 'C:\\\\Users\\\\user\\\\Desktop\\\\notebook\\\\DATA_MINING\\\\HW4\\\\raw\\\\248716ee574bf7b2c5f563a27933426b.txt', 'C:\\\\Users\\\\user\\\\Desktop\\\\notebook\\\\DATA_MINING\\\\HW4\\\\raw\\\\253240b2316f1c1902ab4d421b3f7c69.txt', 'C:\\\\Users\\\\user\\\\Desktop\\\\notebook\\\\DATA_MINING\\\\HW4\\\\raw\\\\2546286d31dade01a7e3669df81a7f22.txt', 'C:\\\\Users\\\\user\\\\Desktop\\\\notebook\\\\DATA_MINING\\\\HW4\\\\raw\\\\2556b2d9a6ef2fd2abb3c11e82317f5c.txt', 'C:\\\\Users\\\\user\\\\Desktop\\\\notebook\\\\DATA_MINING\\\\HW4\\\\raw\\\\25a08a576cdfc3f7ea63583545b9739b.txt', 'C:\\\\Users\\\\user\\\\Desktop\\\\notebook\\\\DATA_MINING\\\\HW4\\\\raw\\\\2600e8385613aa4a2b688ba80f602ab4.txt', 'C:\\\\Users\\\\user\\\\Desktop\\\\notebook\\\\DATA_MINING\\\\HW4\\\\raw\\\\273e1a9b8a10b96f30cc9ea7a592a16c.txt', 'C:\\\\Users\\\\user\\\\Desktop\\\\notebook\\\\DATA_MINING\\\\HW4\\\\raw\\\\28d27136a7417caafa835e8c76447455.txt', 'C:\\\\Users\\\\user\\\\Desktop\\\\notebook\\\\DATA_MINING\\\\HW4\\\\raw\\\\28e231fdaf0d409b1d38ddb6c553ac1c.txt', 'C:\\\\Users\\\\user\\\\Desktop\\\\notebook\\\\DATA_MINING\\\\HW4\\\\raw\\\\296e97766c70384cf8d8fe711e1c2316.txt', 'C:\\\\Users\\\\user\\\\Desktop\\\\notebook\\\\DATA_MINING\\\\HW4\\\\raw\\\\2a705dc5963ebf2872d9b3ec07e4f4f0.txt', 'C:\\\\Users\\\\user\\\\Desktop\\\\notebook\\\\DATA_MINING\\\\HW4\\\\raw\\\\2aaef3e886be018fe8fb36a77af33587.txt', 'C:\\\\Users\\\\user\\\\Desktop\\\\notebook\\\\DATA_MINING\\\\HW4\\\\raw\\\\2b5f38d166db78145cc48dac9afdcccc.txt', 'C:\\\\Users\\\\user\\\\Desktop\\\\notebook\\\\DATA_MINING\\\\HW4\\\\raw\\\\2c51edf8697fd0910056d45b9d6c6891.txt', 'C:\\\\Users\\\\user\\\\Desktop\\\\notebook\\\\DATA_MINING\\\\HW4\\\\raw\\\\2cb7794bf3721808a94eab36448815d4.txt', 'C:\\\\Users\\\\user\\\\Desktop\\\\notebook\\\\DATA_MINING\\\\HW4\\\\raw\\\\2cd1d827d33443633580dd5a3ab9793c.txt', 'C:\\\\Users\\\\user\\\\Desktop\\\\notebook\\\\DATA_MINING\\\\HW4\\\\raw\\\\2cdac9399281ac66c398b4bda95eabf4.txt', 'C:\\\\Users\\\\user\\\\Desktop\\\\notebook\\\\DATA_MINING\\\\HW4\\\\raw\\\\2d00305e2c234d256bb624fa4b5becc0.txt', 'C:\\\\Users\\\\user\\\\Desktop\\\\notebook\\\\DATA_MINING\\\\HW4\\\\raw\\\\2d231e86f311f5aae3277e7ee6b3ce62.txt', 'C:\\\\Users\\\\user\\\\Desktop\\\\notebook\\\\DATA_MINING\\\\HW4\\\\raw\\\\2d4ed8e1b57276bb76ae4cd63d5108b8.txt', 'C:\\\\Users\\\\user\\\\Desktop\\\\notebook\\\\DATA_MINING\\\\HW4\\\\raw\\\\2da10b5cc6feb0a78c7d2e9df5e6928e.txt', 'C:\\\\Users\\\\user\\\\Desktop\\\\notebook\\\\DATA_MINING\\\\HW4\\\\raw\\\\2e620e00987f04742c74a36e92544ed9.txt', 'C:\\\\Users\\\\user\\\\Desktop\\\\notebook\\\\DATA_MINING\\\\HW4\\\\raw\\\\2ed0cad1897144ff31ac4965d95eb1c0.txt', 'C:\\\\Users\\\\user\\\\Desktop\\\\notebook\\\\DATA_MINING\\\\HW4\\\\raw\\\\2fb901c83252e317856122fabfb6b89d.txt', 'C:\\\\Users\\\\user\\\\Desktop\\\\notebook\\\\DATA_MINING\\\\HW4\\\\raw\\\\308a4b4e0d609b46b7671a7841783787.txt', 'C:\\\\Users\\\\user\\\\Desktop\\\\notebook\\\\DATA_MINING\\\\HW4\\\\raw\\\\324015f10f1f5eb3b2f361b6644a460e.txt', 'C:\\\\Users\\\\user\\\\Desktop\\\\notebook\\\\DATA_MINING\\\\HW4\\\\raw\\\\324b5895003c0157b5a3b33b75349301.txt', 'C:\\\\Users\\\\user\\\\Desktop\\\\notebook\\\\DATA_MINING\\\\HW4\\\\raw\\\\32e2e207a26bac065631e2e4af6c6698.txt', 'C:\\\\Users\\\\user\\\\Desktop\\\\notebook\\\\DATA_MINING\\\\HW4\\\\raw\\\\34ee1d3a14bbf29f5ddacbb061fe6fb1.txt', 'C:\\\\Users\\\\user\\\\Desktop\\\\notebook\\\\DATA_MINING\\\\HW4\\\\raw\\\\34f7ec9b750b74cf46de21fa15e8584f.txt', 'C:\\\\Users\\\\user\\\\Desktop\\\\notebook\\\\DATA_MINING\\\\HW4\\\\raw\\\\35a8fb38cca8a13bd2b77bd354fe099f.txt', 'C:\\\\Users\\\\user\\\\Desktop\\\\notebook\\\\DATA_MINING\\\\HW4\\\\raw\\\\35be5a609140a9a3fa80da52e279e53a.txt', 'C:\\\\Users\\\\user\\\\Desktop\\\\notebook\\\\DATA_MINING\\\\HW4\\\\raw\\\\35c3018c073edfa75de8a4975af013c5.txt', 'C:\\\\Users\\\\user\\\\Desktop\\\\notebook\\\\DATA_MINING\\\\HW4\\\\raw\\\\360a9c6c1ce6573550ebee02b74ddf34.txt', 'C:\\\\Users\\\\user\\\\Desktop\\\\notebook\\\\DATA_MINING\\\\HW4\\\\raw\\\\3694cbb7e5dca2b5a1c90e930d804a65.txt', 'C:\\\\Users\\\\user\\\\Desktop\\\\notebook\\\\DATA_MINING\\\\HW4\\\\raw\\\\377b7371c2567cdcb5c3fa32dfe0f408.txt', 'C:\\\\Users\\\\user\\\\Desktop\\\\notebook\\\\DATA_MINING\\\\HW4\\\\raw\\\\377bd459708748eb51e5e588d0f3ec57.txt', 'C:\\\\Users\\\\user\\\\Desktop\\\\notebook\\\\DATA_MINING\\\\HW4\\\\raw\\\\37e1a32ee52f6e379cfc48f39304ca54.txt', 'C:\\\\Users\\\\user\\\\Desktop\\\\notebook\\\\DATA_MINING\\\\HW4\\\\raw\\\\3877cb7538c3523364e0f4451dadb6fb.txt', 'C:\\\\Users\\\\user\\\\Desktop\\\\notebook\\\\DATA_MINING\\\\HW4\\\\raw\\\\388479f097509f6389ceaf181029352a.txt', 'C:\\\\Users\\\\user\\\\Desktop\\\\notebook\\\\DATA_MINING\\\\HW4\\\\raw\\\\3a854f4ebd40c998e8bd46c3836d2a9b.txt', 'C:\\\\Users\\\\user\\\\Desktop\\\\notebook\\\\DATA_MINING\\\\HW4\\\\raw\\\\3af391dbe5e29b1a730eaab24530c68a.txt', 'C:\\\\Users\\\\user\\\\Desktop\\\\notebook\\\\DATA_MINING\\\\HW4\\\\raw\\\\3b27ca314718f20eb4280b0f48b4e071.txt', 'C:\\\\Users\\\\user\\\\Desktop\\\\notebook\\\\DATA_MINING\\\\HW4\\\\raw\\\\3b6f480f92f0586b3855a6babae04b8f.txt', 'C:\\\\Users\\\\user\\\\Desktop\\\\notebook\\\\DATA_MINING\\\\HW4\\\\raw\\\\3cab1c09e704e7b1e8164b24287915ce.txt', 'C:\\\\Users\\\\user\\\\Desktop\\\\notebook\\\\DATA_MINING\\\\HW4\\\\raw\\\\3fab7267d363a132b9ab728e5645c0bd.txt', 'C:\\\\Users\\\\user\\\\Desktop\\\\notebook\\\\DATA_MINING\\\\HW4\\\\raw\\\\404ac667ec36fd1b78ca91eb89219556.txt', 'C:\\\\Users\\\\user\\\\Desktop\\\\notebook\\\\DATA_MINING\\\\HW4\\\\raw\\\\42e326a06f5286c58286dda2a3c9eef2.txt', 'C:\\\\Users\\\\user\\\\Desktop\\\\notebook\\\\DATA_MINING\\\\HW4\\\\raw\\\\432bb9dcf0b7d86044a741e898d812f0.txt', 'C:\\\\Users\\\\user\\\\Desktop\\\\notebook\\\\DATA_MINING\\\\HW4\\\\raw\\\\43657b163302f2bcc19b863ce61fdd2c.txt', 'C:\\\\Users\\\\user\\\\Desktop\\\\notebook\\\\DATA_MINING\\\\HW4\\\\raw\\\\450e94bd2b7a97093405ca4e95308710.txt', 'C:\\\\Users\\\\user\\\\Desktop\\\\notebook\\\\DATA_MINING\\\\HW4\\\\raw\\\\453306efe63fc26cafc04da1993838cb.txt', 'C:\\\\Users\\\\user\\\\Desktop\\\\notebook\\\\DATA_MINING\\\\HW4\\\\raw\\\\454075bfd01770c9c58c311503c4d997.txt', 'C:\\\\Users\\\\user\\\\Desktop\\\\notebook\\\\DATA_MINING\\\\HW4\\\\raw\\\\45530132a4c2dd6bbad32ab6dad723f5.txt', 'C:\\\\Users\\\\user\\\\Desktop\\\\notebook\\\\DATA_MINING\\\\HW4\\\\raw\\\\457cc86b3724eeb2fcf9cad6de0ff186.txt', 'C:\\\\Users\\\\user\\\\Desktop\\\\notebook\\\\DATA_MINING\\\\HW4\\\\raw\\\\45a200f94e02370ffc28ccbbc85ee560.txt', 'C:\\\\Users\\\\user\\\\Desktop\\\\notebook\\\\DATA_MINING\\\\HW4\\\\raw\\\\46b2d41cac8c676945403758c020be74.txt', 'C:\\\\Users\\\\user\\\\Desktop\\\\notebook\\\\DATA_MINING\\\\HW4\\\\raw\\\\46c2199be8ccc5b2d1be91bd6232352a.txt', 'C:\\\\Users\\\\user\\\\Desktop\\\\notebook\\\\DATA_MINING\\\\HW4\\\\raw\\\\47df224560586166c6e5f8925373eb12.txt', 'C:\\\\Users\\\\user\\\\Desktop\\\\notebook\\\\DATA_MINING\\\\HW4\\\\raw\\\\488f4af0683d793c2a31fb373aa8b636.txt', 'C:\\\\Users\\\\user\\\\Desktop\\\\notebook\\\\DATA_MINING\\\\HW4\\\\raw\\\\49e94a0800f9e490ce03fec79748b4ea.txt', 'C:\\\\Users\\\\user\\\\Desktop\\\\notebook\\\\DATA_MINING\\\\HW4\\\\raw\\\\4a508b3a61233e84b75fb9496c599052.txt', 'C:\\\\Users\\\\user\\\\Desktop\\\\notebook\\\\DATA_MINING\\\\HW4\\\\raw\\\\4a9d0432c96a3e948bec2c9b154f94b9.txt', 'C:\\\\Users\\\\user\\\\Desktop\\\\notebook\\\\DATA_MINING\\\\HW4\\\\raw\\\\4b3154b2ed22abc1fa95eaed039b11ff.txt', 'C:\\\\Users\\\\user\\\\Desktop\\\\notebook\\\\DATA_MINING\\\\HW4\\\\raw\\\\4b62eec23209b03d095e2ed4f623a1c7.txt', 'C:\\\\Users\\\\user\\\\Desktop\\\\notebook\\\\DATA_MINING\\\\HW4\\\\raw\\\\4c4bd2067ac78e33506891d9386af796.txt', 'C:\\\\Users\\\\user\\\\Desktop\\\\notebook\\\\DATA_MINING\\\\HW4\\\\raw\\\\4cc8c6607fa3e3e3636ce29629931b38.txt', 'C:\\\\Users\\\\user\\\\Desktop\\\\notebook\\\\DATA_MINING\\\\HW4\\\\raw\\\\4d268ea7356b08fe8b33f5f8511608c6.txt', 'C:\\\\Users\\\\user\\\\Desktop\\\\notebook\\\\DATA_MINING\\\\HW4\\\\raw\\\\4d7c1567d2b497fee0709d5337d2664f.txt', 'C:\\\\Users\\\\user\\\\Desktop\\\\notebook\\\\DATA_MINING\\\\HW4\\\\raw\\\\4e1d57075671af220e96cb5287c4459d.txt', 'C:\\\\Users\\\\user\\\\Desktop\\\\notebook\\\\DATA_MINING\\\\HW4\\\\raw\\\\4e7024a294c5ca99b9b19ee4e7355a10.txt', 'C:\\\\Users\\\\user\\\\Desktop\\\\notebook\\\\DATA_MINING\\\\HW4\\\\raw\\\\4eff45161f6fe4aabf365000ff73245e.txt', 'C:\\\\Users\\\\user\\\\Desktop\\\\notebook\\\\DATA_MINING\\\\HW4\\\\raw\\\\4f3e5fa1888d6c6ae8de643dbbae1cde.txt', 'C:\\\\Users\\\\user\\\\Desktop\\\\notebook\\\\DATA_MINING\\\\HW4\\\\raw\\\\50dc1ea24479324ba22878824f16c6c1.txt', 'C:\\\\Users\\\\user\\\\Desktop\\\\notebook\\\\DATA_MINING\\\\HW4\\\\raw\\\\52952631f4c12723627df2aea9e7f366.txt', 'C:\\\\Users\\\\user\\\\Desktop\\\\notebook\\\\DATA_MINING\\\\HW4\\\\raw\\\\540716a16925fbe9bcd8a5a82c49c5f6.txt', 'C:\\\\Users\\\\user\\\\Desktop\\\\notebook\\\\DATA_MINING\\\\HW4\\\\raw\\\\54475af0aa26805b38b687785036ba4d.txt', 'C:\\\\Users\\\\user\\\\Desktop\\\\notebook\\\\DATA_MINING\\\\HW4\\\\raw\\\\554d48309fcee0a7fd7fc527367f5ff8.txt', 'C:\\\\Users\\\\user\\\\Desktop\\\\notebook\\\\DATA_MINING\\\\HW4\\\\raw\\\\55a2d1b9f16f82ed731a0c0fce36ca42.txt', 'C:\\\\Users\\\\user\\\\Desktop\\\\notebook\\\\DATA_MINING\\\\HW4\\\\raw\\\\56d3031e8be575aa960ec977879cc9fa.txt', 'C:\\\\Users\\\\user\\\\Desktop\\\\notebook\\\\DATA_MINING\\\\HW4\\\\raw\\\\571891296bc35d7d26aea865079d8e2b.txt', 'C:\\\\Users\\\\user\\\\Desktop\\\\notebook\\\\DATA_MINING\\\\HW4\\\\raw\\\\575e445ce30cf0b8e97f708045bcf1e9.txt', 'C:\\\\Users\\\\user\\\\Desktop\\\\notebook\\\\DATA_MINING\\\\HW4\\\\raw\\\\57767896fcfe982f5a8db93b5311dc02.txt', 'C:\\\\Users\\\\user\\\\Desktop\\\\notebook\\\\DATA_MINING\\\\HW4\\\\raw\\\\583101a4aefbd170961c62172497c4e6.txt', 'C:\\\\Users\\\\user\\\\Desktop\\\\notebook\\\\DATA_MINING\\\\HW4\\\\raw\\\\5832dad759cad4311dd916cd93ae2604.txt', 'C:\\\\Users\\\\user\\\\Desktop\\\\notebook\\\\DATA_MINING\\\\HW4\\\\raw\\\\584dbcb66df82235c182347d022ad372.txt', 'C:\\\\Users\\\\user\\\\Desktop\\\\notebook\\\\DATA_MINING\\\\HW4\\\\raw\\\\58b6681b35fd803a1dcb821ccd78532c.txt', 'C:\\\\Users\\\\user\\\\Desktop\\\\notebook\\\\DATA_MINING\\\\HW4\\\\raw\\\\58e4f167b0faa2eec1666f3a3164978d.txt', 'C:\\\\Users\\\\user\\\\Desktop\\\\notebook\\\\DATA_MINING\\\\HW4\\\\raw\\\\58f44a37329d32c4f8eb8eea05aa7fad.txt', 'C:\\\\Users\\\\user\\\\Desktop\\\\notebook\\\\DATA_MINING\\\\HW4\\\\raw\\\\5a412b9da4b959fc2cecbb3b1f2daf1d.txt', 'C:\\\\Users\\\\user\\\\Desktop\\\\notebook\\\\DATA_MINING\\\\HW4\\\\raw\\\\5a65b13621fd313969d21867b54eed29.txt', 'C:\\\\Users\\\\user\\\\Desktop\\\\notebook\\\\DATA_MINING\\\\HW4\\\\raw\\\\5b3de0cffe5136db5b9a8eb80c0f1857.txt', 'C:\\\\Users\\\\user\\\\Desktop\\\\notebook\\\\DATA_MINING\\\\HW4\\\\raw\\\\5c07132953b724d84ae24f3f6cd0d995.txt', 'C:\\\\Users\\\\user\\\\Desktop\\\\notebook\\\\DATA_MINING\\\\HW4\\\\raw\\\\5c3f06290f22c3ad9fa7588994306206.txt', 'C:\\\\Users\\\\user\\\\Desktop\\\\notebook\\\\DATA_MINING\\\\HW4\\\\raw\\\\5cb4544be0d3811fdc1a1cd300a5485b.txt', 'C:\\\\Users\\\\user\\\\Desktop\\\\notebook\\\\DATA_MINING\\\\HW4\\\\raw\\\\5d104c95ddea01f2ed02c6a22400a0d2.txt', 'C:\\\\Users\\\\user\\\\Desktop\\\\notebook\\\\DATA_MINING\\\\HW4\\\\raw\\\\5dfd521c43827215594ab8621dc8a069.txt', 'C:\\\\Users\\\\user\\\\Desktop\\\\notebook\\\\DATA_MINING\\\\HW4\\\\raw\\\\5e088ac7f2c48511be0ac00b730bb166.txt', 'C:\\\\Users\\\\user\\\\Desktop\\\\notebook\\\\DATA_MINING\\\\HW4\\\\raw\\\\5f1d385fa8d7d670684f30a552b6a2f9.txt', 'C:\\\\Users\\\\user\\\\Desktop\\\\notebook\\\\DATA_MINING\\\\HW4\\\\raw\\\\5f2dd9ffba112395ad59416fa1cc22ad.txt', 'C:\\\\Users\\\\user\\\\Desktop\\\\notebook\\\\DATA_MINING\\\\HW4\\\\raw\\\\5fae0f240c679e085a473b7799378a05.txt', 'C:\\\\Users\\\\user\\\\Desktop\\\\notebook\\\\DATA_MINING\\\\HW4\\\\raw\\\\6014d5fa3488865d07b30480a7cbe1f0.txt', 'C:\\\\Users\\\\user\\\\Desktop\\\\notebook\\\\DATA_MINING\\\\HW4\\\\raw\\\\607bab6cfeec9223328c221833c6ad0c.txt', 'C:\\\\Users\\\\user\\\\Desktop\\\\notebook\\\\DATA_MINING\\\\HW4\\\\raw\\\\62660ae828a9e7047684ec61a60377c4.txt', 'C:\\\\Users\\\\user\\\\Desktop\\\\notebook\\\\DATA_MINING\\\\HW4\\\\raw\\\\629d18039baa040e49fb7602a36b699c.txt', 'C:\\\\Users\\\\user\\\\Desktop\\\\notebook\\\\DATA_MINING\\\\HW4\\\\raw\\\\634f49c7e30edcd651224ed8abb03379.txt', 'C:\\\\Users\\\\user\\\\Desktop\\\\notebook\\\\DATA_MINING\\\\HW4\\\\raw\\\\635f6353bc922c89df386fb2af008fba.txt', 'C:\\\\Users\\\\user\\\\Desktop\\\\notebook\\\\DATA_MINING\\\\HW4\\\\raw\\\\63e0a4be68c7574f7cff5a83a60eb0d1.txt', 'C:\\\\Users\\\\user\\\\Desktop\\\\notebook\\\\DATA_MINING\\\\HW4\\\\raw\\\\64aeeadb62b42e3ae9fdff9585aee22d.txt', 'C:\\\\Users\\\\user\\\\Desktop\\\\notebook\\\\DATA_MINING\\\\HW4\\\\raw\\\\6528405b4115889be87dc335d9d5c2d3.txt', 'C:\\\\Users\\\\user\\\\Desktop\\\\notebook\\\\DATA_MINING\\\\HW4\\\\raw\\\\655b5b30a71c251946de4b92be1e8760.txt', 'C:\\\\Users\\\\user\\\\Desktop\\\\notebook\\\\DATA_MINING\\\\HW4\\\\raw\\\\65dbb56e652a4bc686d949c019863e97.txt', 'C:\\\\Users\\\\user\\\\Desktop\\\\notebook\\\\DATA_MINING\\\\HW4\\\\raw\\\\65f72a9d05359d94b9e00a1fb0506ce5.txt', 'C:\\\\Users\\\\user\\\\Desktop\\\\notebook\\\\DATA_MINING\\\\HW4\\\\raw\\\\675c1e6064c00882be67e9a8f69cf1d8.txt', 'C:\\\\Users\\\\user\\\\Desktop\\\\notebook\\\\DATA_MINING\\\\HW4\\\\raw\\\\67da6eba544c843dfc838f81c1ccb863.txt', 'C:\\\\Users\\\\user\\\\Desktop\\\\notebook\\\\DATA_MINING\\\\HW4\\\\raw\\\\67dc94a5534ec349d460e428a60d338d.txt', 'C:\\\\Users\\\\user\\\\Desktop\\\\notebook\\\\DATA_MINING\\\\HW4\\\\raw\\\\67dd5de3adbb415586a9b7075fad2cf8.txt', 'C:\\\\Users\\\\user\\\\Desktop\\\\notebook\\\\DATA_MINING\\\\HW4\\\\raw\\\\67fefb7d6f477076127238934136f911.txt', 'C:\\\\Users\\\\user\\\\Desktop\\\\notebook\\\\DATA_MINING\\\\HW4\\\\raw\\\\6800feacf4f964e9d869e4c4e21bb90b.txt', 'C:\\\\Users\\\\user\\\\Desktop\\\\notebook\\\\DATA_MINING\\\\HW4\\\\raw\\\\687e8b70b70aa8011402722600a062a8.txt', 'C:\\\\Users\\\\user\\\\Desktop\\\\notebook\\\\DATA_MINING\\\\HW4\\\\raw\\\\69fba9e616c013bf73ce60a5ed259396.txt', 'C:\\\\Users\\\\user\\\\Desktop\\\\notebook\\\\DATA_MINING\\\\HW4\\\\raw\\\\6aa6e59e2dcce7d143a868f3aa0b6b64.txt', 'C:\\\\Users\\\\user\\\\Desktop\\\\notebook\\\\DATA_MINING\\\\HW4\\\\raw\\\\6ade3a3f51c5488aa283ed30fade3912.txt', 'C:\\\\Users\\\\user\\\\Desktop\\\\notebook\\\\DATA_MINING\\\\HW4\\\\raw\\\\6b2098ea9f08fd68e1f10de97c0c28e1.txt', 'C:\\\\Users\\\\user\\\\Desktop\\\\notebook\\\\DATA_MINING\\\\HW4\\\\raw\\\\6c3df502bd144a4ec4050cd6050f2875.txt', 'C:\\\\Users\\\\user\\\\Desktop\\\\notebook\\\\DATA_MINING\\\\HW4\\\\raw\\\\6d34d53ae753ee904cfe0f5d34d6ae67.txt', 'C:\\\\Users\\\\user\\\\Desktop\\\\notebook\\\\DATA_MINING\\\\HW4\\\\raw\\\\6f04a4307d0877b40179e960319932c5.txt', 'C:\\\\Users\\\\user\\\\Desktop\\\\notebook\\\\DATA_MINING\\\\HW4\\\\raw\\\\6f786077ac77cbabfc6f3b85caa3a966.txt', 'C:\\\\Users\\\\user\\\\Desktop\\\\notebook\\\\DATA_MINING\\\\HW4\\\\raw\\\\6f8ae403e7fd59661e2c88c8e5495cb8.txt', 'C:\\\\Users\\\\user\\\\Desktop\\\\notebook\\\\DATA_MINING\\\\HW4\\\\raw\\\\6fa52ef139aeeeecb02c143f3ac49c4b.txt', 'C:\\\\Users\\\\user\\\\Desktop\\\\notebook\\\\DATA_MINING\\\\HW4\\\\raw\\\\70ad56b86d3482e9cb2dc96c5df9a6bc.txt', 'C:\\\\Users\\\\user\\\\Desktop\\\\notebook\\\\DATA_MINING\\\\HW4\\\\raw\\\\7136cf8a774657b207c2d42c47d11742.txt', 'C:\\\\Users\\\\user\\\\Desktop\\\\notebook\\\\DATA_MINING\\\\HW4\\\\raw\\\\71520001f0df282dfe5b8949cbfb6f46.txt', 'C:\\\\Users\\\\user\\\\Desktop\\\\notebook\\\\DATA_MINING\\\\HW4\\\\raw\\\\723c2ad3d2b023f47567de392865b8fb.txt', 'C:\\\\Users\\\\user\\\\Desktop\\\\notebook\\\\DATA_MINING\\\\HW4\\\\raw\\\\742af44133e4bc72c3080c8bbd8c7da5.txt', 'C:\\\\Users\\\\user\\\\Desktop\\\\notebook\\\\DATA_MINING\\\\HW4\\\\raw\\\\749883cb3cd560c4e1c6c4f25a2619b9.txt', 'C:\\\\Users\\\\user\\\\Desktop\\\\notebook\\\\DATA_MINING\\\\HW4\\\\raw\\\\7602a53dfc1be84d3aee1c50273d88d3.txt', 'C:\\\\Users\\\\user\\\\Desktop\\\\notebook\\\\DATA_MINING\\\\HW4\\\\raw\\\\76287eef2acf2db8cae45cdf0ce569f8.txt', 'C:\\\\Users\\\\user\\\\Desktop\\\\notebook\\\\DATA_MINING\\\\HW4\\\\raw\\\\77a4879b0bee066a13ad5451ece4e96a.txt', 'C:\\\\Users\\\\user\\\\Desktop\\\\notebook\\\\DATA_MINING\\\\HW4\\\\raw\\\\7861151a9f1362aa7501382aaac0571d.txt', 'C:\\\\Users\\\\user\\\\Desktop\\\\notebook\\\\DATA_MINING\\\\HW4\\\\raw\\\\78e39a6d73d97c681819163dbefdfee3.txt', 'C:\\\\Users\\\\user\\\\Desktop\\\\notebook\\\\DATA_MINING\\\\HW4\\\\raw\\\\78ecf0287232e79dcfdbd922c60bd1f6.txt', 'C:\\\\Users\\\\user\\\\Desktop\\\\notebook\\\\DATA_MINING\\\\HW4\\\\raw\\\\790535fc5887f5a90fd6f029382c27ad.txt', 'C:\\\\Users\\\\user\\\\Desktop\\\\notebook\\\\DATA_MINING\\\\HW4\\\\raw\\\\794a8e854620061721097067fab4a061.txt', 'C:\\\\Users\\\\user\\\\Desktop\\\\notebook\\\\DATA_MINING\\\\HW4\\\\raw\\\\7957baabfe78089e7a836c8b80a6bdec.txt', 'C:\\\\Users\\\\user\\\\Desktop\\\\notebook\\\\DATA_MINING\\\\HW4\\\\raw\\\\79fd9859f6c81f6a9b84e62e1f417cf1.txt', 'C:\\\\Users\\\\user\\\\Desktop\\\\notebook\\\\DATA_MINING\\\\HW4\\\\raw\\\\7a329d5edae16fb720c87b9077a232b1.txt', 'C:\\\\Users\\\\user\\\\Desktop\\\\notebook\\\\DATA_MINING\\\\HW4\\\\raw\\\\7ab6d53bb6b647cb6ffba1a410e9f958.txt', 'C:\\\\Users\\\\user\\\\Desktop\\\\notebook\\\\DATA_MINING\\\\HW4\\\\raw\\\\7ac511499aea8aaa63fdf68696a544c8.txt', 'C:\\\\Users\\\\user\\\\Desktop\\\\notebook\\\\DATA_MINING\\\\HW4\\\\raw\\\\7b3900ecbf53bf0124dca249d48227c4.txt', 'C:\\\\Users\\\\user\\\\Desktop\\\\notebook\\\\DATA_MINING\\\\HW4\\\\raw\\\\7c2bef37d141b3525019792f97a7cb04.txt', 'C:\\\\Users\\\\user\\\\Desktop\\\\notebook\\\\DATA_MINING\\\\HW4\\\\raw\\\\7cf6124315d2e4178486b52fbe5d4346.txt', 'C:\\\\Users\\\\user\\\\Desktop\\\\notebook\\\\DATA_MINING\\\\HW4\\\\raw\\\\7cff658ba259fc40fe0f82e365fd97d7.txt', 'C:\\\\Users\\\\user\\\\Desktop\\\\notebook\\\\DATA_MINING\\\\HW4\\\\raw\\\\7d2bfeeff44d52fd6510ea8b2cc987d5.txt', 'C:\\\\Users\\\\user\\\\Desktop\\\\notebook\\\\DATA_MINING\\\\HW4\\\\raw\\\\7deebbb8eddb2355dbc16ecc937f09fe.txt', 'C:\\\\Users\\\\user\\\\Desktop\\\\notebook\\\\DATA_MINING\\\\HW4\\\\raw\\\\7eb68248d2e1d52f787edd71eed5c964.txt', 'C:\\\\Users\\\\user\\\\Desktop\\\\notebook\\\\DATA_MINING\\\\HW4\\\\raw\\\\81628bf3f9cb443e0a84baee63ce7507.txt', 'C:\\\\Users\\\\user\\\\Desktop\\\\notebook\\\\DATA_MINING\\\\HW4\\\\raw\\\\81a23baef73eb4b350aed1d11205884b.txt', 'C:\\\\Users\\\\user\\\\Desktop\\\\notebook\\\\DATA_MINING\\\\HW4\\\\raw\\\\825fb050b48b9728a91c2907b029d27d.txt', 'C:\\\\Users\\\\user\\\\Desktop\\\\notebook\\\\DATA_MINING\\\\HW4\\\\raw\\\\831a3991f83e7f682e1bdf392fc578ab.txt', 'C:\\\\Users\\\\user\\\\Desktop\\\\notebook\\\\DATA_MINING\\\\HW4\\\\raw\\\\86259f0f5c74570ec918727ee04db582.txt', 'C:\\\\Users\\\\user\\\\Desktop\\\\notebook\\\\DATA_MINING\\\\HW4\\\\raw\\\\878a37b59bd6056cb71f43bfdd71858a.txt', 'C:\\\\Users\\\\user\\\\Desktop\\\\notebook\\\\DATA_MINING\\\\HW4\\\\raw\\\\87dd653e411b3311dacd7f5bb5f88dea.txt', 'C:\\\\Users\\\\user\\\\Desktop\\\\notebook\\\\DATA_MINING\\\\HW4\\\\raw\\\\87e714ca26e868fdd22ba9278640d482.txt', 'C:\\\\Users\\\\user\\\\Desktop\\\\notebook\\\\DATA_MINING\\\\HW4\\\\raw\\\\87ff02ba40dc1b83e0ec59bce5707fd6.txt', 'C:\\\\Users\\\\user\\\\Desktop\\\\notebook\\\\DATA_MINING\\\\HW4\\\\raw\\\\88142a6f596d38b008cd443ec436ddae.txt', 'C:\\\\Users\\\\user\\\\Desktop\\\\notebook\\\\DATA_MINING\\\\HW4\\\\raw\\\\886cccfb717e6bc54ee46a82214735b3.txt', 'C:\\\\Users\\\\user\\\\Desktop\\\\notebook\\\\DATA_MINING\\\\HW4\\\\raw\\\\8a0cd512778650bc1c7ae73ec2586b24.txt', 'C:\\\\Users\\\\user\\\\Desktop\\\\notebook\\\\DATA_MINING\\\\HW4\\\\raw\\\\8a4387b26097813c929e664188b81df4.txt', 'C:\\\\Users\\\\user\\\\Desktop\\\\notebook\\\\DATA_MINING\\\\HW4\\\\raw\\\\8af9306a2f52a19d7cc3a13a71e9d1f9.txt', 'C:\\\\Users\\\\user\\\\Desktop\\\\notebook\\\\DATA_MINING\\\\HW4\\\\raw\\\\8bdfe8a8bbc325a309dc4bf0e2115d1d.txt', 'C:\\\\Users\\\\user\\\\Desktop\\\\notebook\\\\DATA_MINING\\\\HW4\\\\raw\\\\8be8be443c5a66845a59ef29ecb61b16.txt', 'C:\\\\Users\\\\user\\\\Desktop\\\\notebook\\\\DATA_MINING\\\\HW4\\\\raw\\\\8bfa05df508da5d98643130da3b7c71a.txt', 'C:\\\\Users\\\\user\\\\Desktop\\\\notebook\\\\DATA_MINING\\\\HW4\\\\raw\\\\8c1da5af32fbd8e39fe67187e19bd10d.txt', 'C:\\\\Users\\\\user\\\\Desktop\\\\notebook\\\\DATA_MINING\\\\HW4\\\\raw\\\\8d30b25d84fdb49b4864e1e83148eb61.txt', 'C:\\\\Users\\\\user\\\\Desktop\\\\notebook\\\\DATA_MINING\\\\HW4\\\\raw\\\\8d400aeb220f9a2616cc8f992f0dc347.txt', 'C:\\\\Users\\\\user\\\\Desktop\\\\notebook\\\\DATA_MINING\\\\HW4\\\\raw\\\\8fcc27fa990ceb49b21059a3279fe8a8.txt', 'C:\\\\Users\\\\user\\\\Desktop\\\\notebook\\\\DATA_MINING\\\\HW4\\\\raw\\\\9039e29f17c4212ece21e97638c1e2ea.txt', 'C:\\\\Users\\\\user\\\\Desktop\\\\notebook\\\\DATA_MINING\\\\HW4\\\\raw\\\\906635cf00df938b88103936fe41446b.txt', 'C:\\\\Users\\\\user\\\\Desktop\\\\notebook\\\\DATA_MINING\\\\HW4\\\\raw\\\\916e02dccb8e8f8c9d759d75f24f9ac6.txt', 'C:\\\\Users\\\\user\\\\Desktop\\\\notebook\\\\DATA_MINING\\\\HW4\\\\raw\\\\91739da651c4c277b0e1edeb45fb7618.txt', 'C:\\\\Users\\\\user\\\\Desktop\\\\notebook\\\\DATA_MINING\\\\HW4\\\\raw\\\\92f1ef46a638314a82c8f5c10522ebd3.txt', 'C:\\\\Users\\\\user\\\\Desktop\\\\notebook\\\\DATA_MINING\\\\HW4\\\\raw\\\\9374bde62df770040cc3210a7b74e66e.txt', 'C:\\\\Users\\\\user\\\\Desktop\\\\notebook\\\\DATA_MINING\\\\HW4\\\\raw\\\\93888a57af1bca50858d09ecd896a584.txt', 'C:\\\\Users\\\\user\\\\Desktop\\\\notebook\\\\DATA_MINING\\\\HW4\\\\raw\\\\9422224d2a752c7dae05a0cf7a0aa0e8.txt', 'C:\\\\Users\\\\user\\\\Desktop\\\\notebook\\\\DATA_MINING\\\\HW4\\\\raw\\\\94d4fd91bb3f87c96dca19b85832b190.txt', 'C:\\\\Users\\\\user\\\\Desktop\\\\notebook\\\\DATA_MINING\\\\HW4\\\\raw\\\\94df4a2c3de6f348232fae3d6ab5b7c9.txt', 'C:\\\\Users\\\\user\\\\Desktop\\\\notebook\\\\DATA_MINING\\\\HW4\\\\raw\\\\95206845f2aac5b6701f8588b1e1388b.txt', 'C:\\\\Users\\\\user\\\\Desktop\\\\notebook\\\\DATA_MINING\\\\HW4\\\\raw\\\\9692b7a02ed51aaef0cc0bdca604f9ee.txt', 'C:\\\\Users\\\\user\\\\Desktop\\\\notebook\\\\DATA_MINING\\\\HW4\\\\raw\\\\96a182b2bebb22e008cf5acd807752b5.txt', 'C:\\\\Users\\\\user\\\\Desktop\\\\notebook\\\\DATA_MINING\\\\HW4\\\\raw\\\\96e0a842012e7fc596c22357ab33e5a2.txt', 'C:\\\\Users\\\\user\\\\Desktop\\\\notebook\\\\DATA_MINING\\\\HW4\\\\raw\\\\972b3ba02efc041bdf8326ad676c75d1.txt', 'C:\\\\Users\\\\user\\\\Desktop\\\\notebook\\\\DATA_MINING\\\\HW4\\\\raw\\\\978ddfb08a94de9871fc444b6abe2dcf.txt', 'C:\\\\Users\\\\user\\\\Desktop\\\\notebook\\\\DATA_MINING\\\\HW4\\\\raw\\\\97ddfaa7066770c1b3e3f92db0645a58.txt', 'C:\\\\Users\\\\user\\\\Desktop\\\\notebook\\\\DATA_MINING\\\\HW4\\\\raw\\\\98e3cc830deb23c4c312058584e24394.txt', 'C:\\\\Users\\\\user\\\\Desktop\\\\notebook\\\\DATA_MINING\\\\HW4\\\\raw\\\\998ea89bee4fe07df6f8311e390abc09.txt', 'C:\\\\Users\\\\user\\\\Desktop\\\\notebook\\\\DATA_MINING\\\\HW4\\\\raw\\\\9a3f51c8ba301c3e410c71e3ceae4ce1.txt', 'C:\\\\Users\\\\user\\\\Desktop\\\\notebook\\\\DATA_MINING\\\\HW4\\\\raw\\\\9b4fd8f0d38cb69b302aff8bc64112e2.txt', 'C:\\\\Users\\\\user\\\\Desktop\\\\notebook\\\\DATA_MINING\\\\HW4\\\\raw\\\\9b6d7f4b0f820d1e55d9152d89824734.txt', 'C:\\\\Users\\\\user\\\\Desktop\\\\notebook\\\\DATA_MINING\\\\HW4\\\\raw\\\\9c174d1dc90389f4b8a594916fbab60c.txt', 'C:\\\\Users\\\\user\\\\Desktop\\\\notebook\\\\DATA_MINING\\\\HW4\\\\raw\\\\9c23c7bbda16f6d84b0d9bc90c39c9e3.txt', 'C:\\\\Users\\\\user\\\\Desktop\\\\notebook\\\\DATA_MINING\\\\HW4\\\\raw\\\\9c2b38d209a26464d4503d5cb6bd1f2f.txt', 'C:\\\\Users\\\\user\\\\Desktop\\\\notebook\\\\DATA_MINING\\\\HW4\\\\raw\\\\9cf7f5e86ccb4f82fd3a07eb320c16bb.txt', 'C:\\\\Users\\\\user\\\\Desktop\\\\notebook\\\\DATA_MINING\\\\HW4\\\\raw\\\\9d5a8f989361679da11a2889fa68e090.txt', 'C:\\\\Users\\\\user\\\\Desktop\\\\notebook\\\\DATA_MINING\\\\HW4\\\\raw\\\\9e7b4044c9dc1680f4224a1589437e1f.txt', 'C:\\\\Users\\\\user\\\\Desktop\\\\notebook\\\\DATA_MINING\\\\HW4\\\\raw\\\\9e7b858b889c92469248a897d8c3fe68.txt', 'C:\\\\Users\\\\user\\\\Desktop\\\\notebook\\\\DATA_MINING\\\\HW4\\\\raw\\\\9f2493e74a1609fe1aff3ec743b07f3b.txt', 'C:\\\\Users\\\\user\\\\Desktop\\\\notebook\\\\DATA_MINING\\\\HW4\\\\raw\\\\9f312a1fb8287b34fc404966a527bdcc.txt', 'C:\\\\Users\\\\user\\\\Desktop\\\\notebook\\\\DATA_MINING\\\\HW4\\\\raw\\\\9f8333ccade206ea01ddc886266e8725.txt', 'C:\\\\Users\\\\user\\\\Desktop\\\\notebook\\\\DATA_MINING\\\\HW4\\\\raw\\\\9f9739e6c2761807f409ce937bd26757.txt', 'C:\\\\Users\\\\user\\\\Desktop\\\\notebook\\\\DATA_MINING\\\\HW4\\\\raw\\\\a067b5923728297584e5ba337f9718d7.txt', 'C:\\\\Users\\\\user\\\\Desktop\\\\notebook\\\\DATA_MINING\\\\HW4\\\\raw\\\\a0be7a63e6fa81de90fe3e1ee1a43b45.txt', 'C:\\\\Users\\\\user\\\\Desktop\\\\notebook\\\\DATA_MINING\\\\HW4\\\\raw\\\\a13f6e00ffc7f89d5465315df5dd8020.txt', 'C:\\\\Users\\\\user\\\\Desktop\\\\notebook\\\\DATA_MINING\\\\HW4\\\\raw\\\\a1529f66c85e1e9a477e13d6fde310a0.txt', 'C:\\\\Users\\\\user\\\\Desktop\\\\notebook\\\\DATA_MINING\\\\HW4\\\\raw\\\\a1d99841211aa4607c26788df49c13f6.txt', 'C:\\\\Users\\\\user\\\\Desktop\\\\notebook\\\\DATA_MINING\\\\HW4\\\\raw\\\\a202e9834ee41a1d8b93d2d22f9cda0f.txt', 'C:\\\\Users\\\\user\\\\Desktop\\\\notebook\\\\DATA_MINING\\\\HW4\\\\raw\\\\a24f7d43fdeb8741f10e1b7e90134d31.txt', 'C:\\\\Users\\\\user\\\\Desktop\\\\notebook\\\\DATA_MINING\\\\HW4\\\\raw\\\\a33fcbedec084262a7fa56f2b7634fed.txt', 'C:\\\\Users\\\\user\\\\Desktop\\\\notebook\\\\DATA_MINING\\\\HW4\\\\raw\\\\a37c7081172c098702c67f92a6f8f464.txt', 'C:\\\\Users\\\\user\\\\Desktop\\\\notebook\\\\DATA_MINING\\\\HW4\\\\raw\\\\a5253811c05cbf3474e57e6a254a65ad.txt', 'C:\\\\Users\\\\user\\\\Desktop\\\\notebook\\\\DATA_MINING\\\\HW4\\\\raw\\\\a599585735dfa2c1a68fc526a81d7a0e.txt', 'C:\\\\Users\\\\user\\\\Desktop\\\\notebook\\\\DATA_MINING\\\\HW4\\\\raw\\\\a6a6f896d544ab21c3002e3a5657242f.txt', 'C:\\\\Users\\\\user\\\\Desktop\\\\notebook\\\\DATA_MINING\\\\HW4\\\\raw\\\\a6bb2e887b259aa1556e193aaf8f070f.txt', 'C:\\\\Users\\\\user\\\\Desktop\\\\notebook\\\\DATA_MINING\\\\HW4\\\\raw\\\\a6bbf627ed80e898b734746a6e3a8550.txt', 'C:\\\\Users\\\\user\\\\Desktop\\\\notebook\\\\DATA_MINING\\\\HW4\\\\raw\\\\a6ef30755c8c64a54f6f0445d0c6edfb.txt', 'C:\\\\Users\\\\user\\\\Desktop\\\\notebook\\\\DATA_MINING\\\\HW4\\\\raw\\\\a703617c9b33957bd243187506d3fb78.txt', 'C:\\\\Users\\\\user\\\\Desktop\\\\notebook\\\\DATA_MINING\\\\HW4\\\\raw\\\\a82dddd6ed3b40d4726aa5c46b0a210e.txt', 'C:\\\\Users\\\\user\\\\Desktop\\\\notebook\\\\DATA_MINING\\\\HW4\\\\raw\\\\a928383985c8c5d360e27ace14b4bc7b.txt', 'C:\\\\Users\\\\user\\\\Desktop\\\\notebook\\\\DATA_MINING\\\\HW4\\\\raw\\\\a9d573ba00f20e103dfd33f52a4bacb4.txt', 'C:\\\\Users\\\\user\\\\Desktop\\\\notebook\\\\DATA_MINING\\\\HW4\\\\raw\\\\aa09303bd5433416a3c1e0dfbe27a3a5.txt', 'C:\\\\Users\\\\user\\\\Desktop\\\\notebook\\\\DATA_MINING\\\\HW4\\\\raw\\\\aa5657a918079664d0341c6dfe4c456f.txt', 'C:\\\\Users\\\\user\\\\Desktop\\\\notebook\\\\DATA_MINING\\\\HW4\\\\raw\\\\aa571adcc4711b5c8f47db81d614f3a3.txt', 'C:\\\\Users\\\\user\\\\Desktop\\\\notebook\\\\DATA_MINING\\\\HW4\\\\raw\\\\aa62a3b100fc20b4596cd73ac72ec524.txt', 'C:\\\\Users\\\\user\\\\Desktop\\\\notebook\\\\DATA_MINING\\\\HW4\\\\raw\\\\ab7424c95c58f55a571d10a735a6aa3d.txt', 'C:\\\\Users\\\\user\\\\Desktop\\\\notebook\\\\DATA_MINING\\\\HW4\\\\raw\\\\abfd4c71996163566a5a1b8b9d796399.txt', 'C:\\\\Users\\\\user\\\\Desktop\\\\notebook\\\\DATA_MINING\\\\HW4\\\\raw\\\\aca3a8e6d5ba621a524875f87239d676.txt', 'C:\\\\Users\\\\user\\\\Desktop\\\\notebook\\\\DATA_MINING\\\\HW4\\\\raw\\\\acf880aa6266c8f0d04d78dc78e15361.txt', 'C:\\\\Users\\\\user\\\\Desktop\\\\notebook\\\\DATA_MINING\\\\HW4\\\\raw\\\\ad39ab00bc04f8f67c94b19b05335a40.txt', 'C:\\\\Users\\\\user\\\\Desktop\\\\notebook\\\\DATA_MINING\\\\HW4\\\\raw\\\\ada04a393bcc1019304bb7c312b6f146.txt', 'C:\\\\Users\\\\user\\\\Desktop\\\\notebook\\\\DATA_MINING\\\\HW4\\\\raw\\\\adcf7944e5d8b2e863464ea57a6033a8.txt', 'C:\\\\Users\\\\user\\\\Desktop\\\\notebook\\\\DATA_MINING\\\\HW4\\\\raw\\\\ae60049f03522e78b49d2bf38670a5b4.txt', 'C:\\\\Users\\\\user\\\\Desktop\\\\notebook\\\\DATA_MINING\\\\HW4\\\\raw\\\\ae68ec8ee61fad3c7d93f39f4482d14c.txt', 'C:\\\\Users\\\\user\\\\Desktop\\\\notebook\\\\DATA_MINING\\\\HW4\\\\raw\\\\afb5019f4dd002d902d45bc3fcf70cad.txt', 'C:\\\\Users\\\\user\\\\Desktop\\\\notebook\\\\DATA_MINING\\\\HW4\\\\raw\\\\afc93048115ee0333d47082fabc1e8f7.txt', 'C:\\\\Users\\\\user\\\\Desktop\\\\notebook\\\\DATA_MINING\\\\HW4\\\\raw\\\\b00e8c78e026a528bd6e3c16cdb12d19.txt', 'C:\\\\Users\\\\user\\\\Desktop\\\\notebook\\\\DATA_MINING\\\\HW4\\\\raw\\\\b02ae6c148ba2bf89ce3ace6014fe840.txt', 'C:\\\\Users\\\\user\\\\Desktop\\\\notebook\\\\DATA_MINING\\\\HW4\\\\raw\\\\b09be347a67809145d1319d88522d3c5.txt', 'C:\\\\Users\\\\user\\\\Desktop\\\\notebook\\\\DATA_MINING\\\\HW4\\\\raw\\\\b0dce5f2e206c7460594dcfc8cc25420.txt', 'C:\\\\Users\\\\user\\\\Desktop\\\\notebook\\\\DATA_MINING\\\\HW4\\\\raw\\\\b15390f580cac3b9b074d169f145c27c.txt', 'C:\\\\Users\\\\user\\\\Desktop\\\\notebook\\\\DATA_MINING\\\\HW4\\\\raw\\\\b1edfe6445411d2efd6e0597a4191e71.txt', 'C:\\\\Users\\\\user\\\\Desktop\\\\notebook\\\\DATA_MINING\\\\HW4\\\\raw\\\\b27b0aaf78e734238f83ce1b443c2c90.txt', 'C:\\\\Users\\\\user\\\\Desktop\\\\notebook\\\\DATA_MINING\\\\HW4\\\\raw\\\\b34ca5ae975fc22dad2f681a706399c3.txt', 'C:\\\\Users\\\\user\\\\Desktop\\\\notebook\\\\DATA_MINING\\\\HW4\\\\raw\\\\b4c2144d777c146e20a4581a0291b3df.txt', 'C:\\\\Users\\\\user\\\\Desktop\\\\notebook\\\\DATA_MINING\\\\HW4\\\\raw\\\\b523caf05015da48f6ccd218c55edf9d.txt', 'C:\\\\Users\\\\user\\\\Desktop\\\\notebook\\\\DATA_MINING\\\\HW4\\\\raw\\\\b6adf8a9ebc3b173bc8c6223606159df.txt', 'C:\\\\Users\\\\user\\\\Desktop\\\\notebook\\\\DATA_MINING\\\\HW4\\\\raw\\\\b75290ee811b9158d1ca34efc22b67ac.txt', 'C:\\\\Users\\\\user\\\\Desktop\\\\notebook\\\\DATA_MINING\\\\HW4\\\\raw\\\\b8712ba71d119ae8b44b0cb8a904ef6e.txt', 'C:\\\\Users\\\\user\\\\Desktop\\\\notebook\\\\DATA_MINING\\\\HW4\\\\raw\\\\b899d76ca872f5293addf3826afb247c.txt', 'C:\\\\Users\\\\user\\\\Desktop\\\\notebook\\\\DATA_MINING\\\\HW4\\\\raw\\\\b89bf3619bd72b34fbef51ccbebe3818.txt', 'C:\\\\Users\\\\user\\\\Desktop\\\\notebook\\\\DATA_MINING\\\\HW4\\\\raw\\\\b8aa42a31007a1a1e29afeb260419768.txt', 'C:\\\\Users\\\\user\\\\Desktop\\\\notebook\\\\DATA_MINING\\\\HW4\\\\raw\\\\b8fb4d6c4274378c6e69c8acbea3ede1.txt', 'C:\\\\Users\\\\user\\\\Desktop\\\\notebook\\\\DATA_MINING\\\\HW4\\\\raw\\\\b95df0d86c95d3d273deafa5ef450458.txt', 'C:\\\\Users\\\\user\\\\Desktop\\\\notebook\\\\DATA_MINING\\\\HW4\\\\raw\\\\b96f199dcd53d9ee4d7dc792fd742e1f.txt', 'C:\\\\Users\\\\user\\\\Desktop\\\\notebook\\\\DATA_MINING\\\\HW4\\\\raw\\\\ba09e3fc254cf51e18d40ddde5685848.txt', 'C:\\\\Users\\\\user\\\\Desktop\\\\notebook\\\\DATA_MINING\\\\HW4\\\\raw\\\\baf6761154c0cc64b18cfbf65fae410f.txt', 'C:\\\\Users\\\\user\\\\Desktop\\\\notebook\\\\DATA_MINING\\\\HW4\\\\raw\\\\bb9cc5962d250ffcaceb96f55c74421a.txt', 'C:\\\\Users\\\\user\\\\Desktop\\\\notebook\\\\DATA_MINING\\\\HW4\\\\raw\\\\bbda18a34c60891d83bdd538486fcfc2.txt', 'C:\\\\Users\\\\user\\\\Desktop\\\\notebook\\\\DATA_MINING\\\\HW4\\\\raw\\\\bbdd4a7670db4b3a9b19ab8476384e4b.txt', 'C:\\\\Users\\\\user\\\\Desktop\\\\notebook\\\\DATA_MINING\\\\HW4\\\\raw\\\\bc465c8c056aad6cff690f7be287e4af.txt', 'C:\\\\Users\\\\user\\\\Desktop\\\\notebook\\\\DATA_MINING\\\\HW4\\\\raw\\\\bcacc3ab69ed73f1d4f29bb303281a4f.txt', 'C:\\\\Users\\\\user\\\\Desktop\\\\notebook\\\\DATA_MINING\\\\HW4\\\\raw\\\\bd8726ff20de02dd9bbdf29c74d32e1f.txt', 'C:\\\\Users\\\\user\\\\Desktop\\\\notebook\\\\DATA_MINING\\\\HW4\\\\raw\\\\bdf6d349a13206c347373e4b2ccb68ce.txt', 'C:\\\\Users\\\\user\\\\Desktop\\\\notebook\\\\DATA_MINING\\\\HW4\\\\raw\\\\be2f2a7d61f6d1005576dac8c5bb63e0.txt', 'C:\\\\Users\\\\user\\\\Desktop\\\\notebook\\\\DATA_MINING\\\\HW4\\\\raw\\\\bfcc833bf0b0b12926da14cd10107f6b.txt', 'C:\\\\Users\\\\user\\\\Desktop\\\\notebook\\\\DATA_MINING\\\\HW4\\\\raw\\\\bffb2905fa32199768b04037e49fd9ab.txt', 'C:\\\\Users\\\\user\\\\Desktop\\\\notebook\\\\DATA_MINING\\\\HW4\\\\raw\\\\c02c9950082daddb3a25e6184f46be44.txt', 'C:\\\\Users\\\\user\\\\Desktop\\\\notebook\\\\DATA_MINING\\\\HW4\\\\raw\\\\c0ff7840edbd7d98067c02e0c6966f02.txt', 'C:\\\\Users\\\\user\\\\Desktop\\\\notebook\\\\DATA_MINING\\\\HW4\\\\raw\\\\c1d7c99310c9809d7af24be03d002093.txt', 'C:\\\\Users\\\\user\\\\Desktop\\\\notebook\\\\DATA_MINING\\\\HW4\\\\raw\\\\c2a5b84b83492c6b18e976072375110d.txt', 'C:\\\\Users\\\\user\\\\Desktop\\\\notebook\\\\DATA_MINING\\\\HW4\\\\raw\\\\c2c14c2edb6679a2235c8a6f64989ccb.txt', 'C:\\\\Users\\\\user\\\\Desktop\\\\notebook\\\\DATA_MINING\\\\HW4\\\\raw\\\\c398baaf471ddb252d5e418bfe895242.txt', 'C:\\\\Users\\\\user\\\\Desktop\\\\notebook\\\\DATA_MINING\\\\HW4\\\\raw\\\\c3ee4839b2095ec9c30428960a7d4b08.txt', 'C:\\\\Users\\\\user\\\\Desktop\\\\notebook\\\\DATA_MINING\\\\HW4\\\\raw\\\\c41b8d256ec3180fdf2a0bd9e1fb3b0e.txt', 'C:\\\\Users\\\\user\\\\Desktop\\\\notebook\\\\DATA_MINING\\\\HW4\\\\raw\\\\c46eb9ce441e776192b5010236b6c5f4.txt', 'C:\\\\Users\\\\user\\\\Desktop\\\\notebook\\\\DATA_MINING\\\\HW4\\\\raw\\\\c4cd6be9415c8c504d3fac5efba7ba99.txt', 'C:\\\\Users\\\\user\\\\Desktop\\\\notebook\\\\DATA_MINING\\\\HW4\\\\raw\\\\c5ca0b712d516b29ffed5de70dd8c0b1.txt', 'C:\\\\Users\\\\user\\\\Desktop\\\\notebook\\\\DATA_MINING\\\\HW4\\\\raw\\\\c79079a561e3cb2f96c38ec53f3adc43.txt', 'C:\\\\Users\\\\user\\\\Desktop\\\\notebook\\\\DATA_MINING\\\\HW4\\\\raw\\\\c926ef78c039f8ff7120093c4f81d171.txt', 'C:\\\\Users\\\\user\\\\Desktop\\\\notebook\\\\DATA_MINING\\\\HW4\\\\raw\\\\c98e408f45b45598c40732b148a25abb.txt', 'C:\\\\Users\\\\user\\\\Desktop\\\\notebook\\\\DATA_MINING\\\\HW4\\\\raw\\\\ca00105214e0993e534aad29350ff125.txt', 'C:\\\\Users\\\\user\\\\Desktop\\\\notebook\\\\DATA_MINING\\\\HW4\\\\raw\\\\ca57fc9d652fae337c471ab96a925390.txt', 'C:\\\\Users\\\\user\\\\Desktop\\\\notebook\\\\DATA_MINING\\\\HW4\\\\raw\\\\ca5bc58dfdeaa7886c5d8e48c813147b.txt', 'C:\\\\Users\\\\user\\\\Desktop\\\\notebook\\\\DATA_MINING\\\\HW4\\\\raw\\\\cb05c3b817bddc97fcb771ab6de6f6af.txt', 'C:\\\\Users\\\\user\\\\Desktop\\\\notebook\\\\DATA_MINING\\\\HW4\\\\raw\\\\cb1159b56c7ce0da49120ad6ba2a7c5b.txt', 'C:\\\\Users\\\\user\\\\Desktop\\\\notebook\\\\DATA_MINING\\\\HW4\\\\raw\\\\cc28287a2c306442df31493582d9c7d4.txt', 'C:\\\\Users\\\\user\\\\Desktop\\\\notebook\\\\DATA_MINING\\\\HW4\\\\raw\\\\cc345be48d40213811acdd24ebdb18c4.txt', 'C:\\\\Users\\\\user\\\\Desktop\\\\notebook\\\\DATA_MINING\\\\HW4\\\\raw\\\\ccd2b79cc63fcc27b842595a0b1ab6e1.txt', 'C:\\\\Users\\\\user\\\\Desktop\\\\notebook\\\\DATA_MINING\\\\HW4\\\\raw\\\\ce11ca0f5b57ebfc3c8ee760e04803d3.txt', 'C:\\\\Users\\\\user\\\\Desktop\\\\notebook\\\\DATA_MINING\\\\HW4\\\\raw\\\\cec08e5d4403cb2095ecb30717739873.txt', 'C:\\\\Users\\\\user\\\\Desktop\\\\notebook\\\\DATA_MINING\\\\HW4\\\\raw\\\\cf2c1f6324340ca3e88fe6071c5df8b3.txt', 'C:\\\\Users\\\\user\\\\Desktop\\\\notebook\\\\DATA_MINING\\\\HW4\\\\raw\\\\cfa58f696277f1e80fe4899e2ae29cc8.txt', 'C:\\\\Users\\\\user\\\\Desktop\\\\notebook\\\\DATA_MINING\\\\HW4\\\\raw\\\\cfdc06b613ad90049b6fc1be9af841de.txt', 'C:\\\\Users\\\\user\\\\Desktop\\\\notebook\\\\DATA_MINING\\\\HW4\\\\raw\\\\d0987d472316ab5da16dc6c38bc033b7.txt', 'C:\\\\Users\\\\user\\\\Desktop\\\\notebook\\\\DATA_MINING\\\\HW4\\\\raw\\\\d0c7b864586bf0f292749248531cb03d.txt', 'C:\\\\Users\\\\user\\\\Desktop\\\\notebook\\\\DATA_MINING\\\\HW4\\\\raw\\\\d107413e7aab10db4189ed4f08b66d02.txt', 'C:\\\\Users\\\\user\\\\Desktop\\\\notebook\\\\DATA_MINING\\\\HW4\\\\raw\\\\d182fce4ba56da9f707d2f422cd0986c.txt', 'C:\\\\Users\\\\user\\\\Desktop\\\\notebook\\\\DATA_MINING\\\\HW4\\\\raw\\\\d1830d551cc8160b9f20c4b8b802b77f.txt', 'C:\\\\Users\\\\user\\\\Desktop\\\\notebook\\\\DATA_MINING\\\\HW4\\\\raw\\\\d2a4aae0cc5f7c8620d9be7407e2d7b9.txt', 'C:\\\\Users\\\\user\\\\Desktop\\\\notebook\\\\DATA_MINING\\\\HW4\\\\raw\\\\d2beb9e12c6f3e89cc82f643aae29521.txt', 'C:\\\\Users\\\\user\\\\Desktop\\\\notebook\\\\DATA_MINING\\\\HW4\\\\raw\\\\d32cd085eba0c7ef26a7c194156b3feb.txt', 'C:\\\\Users\\\\user\\\\Desktop\\\\notebook\\\\DATA_MINING\\\\HW4\\\\raw\\\\d38c22986acaaa29b203a938264bc27c.txt', 'C:\\\\Users\\\\user\\\\Desktop\\\\notebook\\\\DATA_MINING\\\\HW4\\\\raw\\\\d3af4d06a15ddff482c2a7c770603a58.txt', 'C:\\\\Users\\\\user\\\\Desktop\\\\notebook\\\\DATA_MINING\\\\HW4\\\\raw\\\\d43d81b225044976474f6f0daf44f55a.txt', 'C:\\\\Users\\\\user\\\\Desktop\\\\notebook\\\\DATA_MINING\\\\HW4\\\\raw\\\\d538e12e5344470a8c6ca0ebbd9262b3.txt', 'C:\\\\Users\\\\user\\\\Desktop\\\\notebook\\\\DATA_MINING\\\\HW4\\\\raw\\\\d56d3e59bc78577a43f1f1d21a4b55d7.txt', 'C:\\\\Users\\\\user\\\\Desktop\\\\notebook\\\\DATA_MINING\\\\HW4\\\\raw\\\\d6434d95cc5ae7aa521e745b24db0cf5.txt', 'C:\\\\Users\\\\user\\\\Desktop\\\\notebook\\\\DATA_MINING\\\\HW4\\\\raw\\\\d6c6f50cf40944e276aa8022ce027812.txt', 'C:\\\\Users\\\\user\\\\Desktop\\\\notebook\\\\DATA_MINING\\\\HW4\\\\raw\\\\d6f34b1f0831f8db012fafe1d36bb5f1.txt', 'C:\\\\Users\\\\user\\\\Desktop\\\\notebook\\\\DATA_MINING\\\\HW4\\\\raw\\\\d70b603f9684c82567f13620d458cc8f.txt', 'C:\\\\Users\\\\user\\\\Desktop\\\\notebook\\\\DATA_MINING\\\\HW4\\\\raw\\\\d7d2a836ecf6f3ab3d3f899e41273333.txt', 'C:\\\\Users\\\\user\\\\Desktop\\\\notebook\\\\DATA_MINING\\\\HW4\\\\raw\\\\d837d1bb9d1113ee64c16cf6907cac97.txt', 'C:\\\\Users\\\\user\\\\Desktop\\\\notebook\\\\DATA_MINING\\\\HW4\\\\raw\\\\d850f5ad864a3279e45849d72a3f598a.txt', 'C:\\\\Users\\\\user\\\\Desktop\\\\notebook\\\\DATA_MINING\\\\HW4\\\\raw\\\\d86e0f15fce3078edbe9b4e94635117d.txt', 'C:\\\\Users\\\\user\\\\Desktop\\\\notebook\\\\DATA_MINING\\\\HW4\\\\raw\\\\d8d8d50b9c68db54674432815bf8c214.txt', 'C:\\\\Users\\\\user\\\\Desktop\\\\notebook\\\\DATA_MINING\\\\HW4\\\\raw\\\\d9ff83dcc4eaff5b8768f4233f50c25f.txt', 'C:\\\\Users\\\\user\\\\Desktop\\\\notebook\\\\DATA_MINING\\\\HW4\\\\raw\\\\da64aeacf594abda35e03bde24ca930b.txt', 'C:\\\\Users\\\\user\\\\Desktop\\\\notebook\\\\DATA_MINING\\\\HW4\\\\raw\\\\dbe65d5c8720c826578e38e7b4e5d1e3.txt', 'C:\\\\Users\\\\user\\\\Desktop\\\\notebook\\\\DATA_MINING\\\\HW4\\\\raw\\\\dc0291e2bfacb8442d1c2eaa577c6dfe.txt', 'C:\\\\Users\\\\user\\\\Desktop\\\\notebook\\\\DATA_MINING\\\\HW4\\\\raw\\\\dd0ba853e22142008364a2a3246246d1.txt', 'C:\\\\Users\\\\user\\\\Desktop\\\\notebook\\\\DATA_MINING\\\\HW4\\\\raw\\\\dd51323231b4b3a264d2dbef13878abe.txt', 'C:\\\\Users\\\\user\\\\Desktop\\\\notebook\\\\DATA_MINING\\\\HW4\\\\raw\\\\de03e3406651bd2503f1c58385bbd9f4.txt', 'C:\\\\Users\\\\user\\\\Desktop\\\\notebook\\\\DATA_MINING\\\\HW4\\\\raw\\\\debeec41992e714de22f741306cb5539.txt', 'C:\\\\Users\\\\user\\\\Desktop\\\\notebook\\\\DATA_MINING\\\\HW4\\\\raw\\\\df4837a0d8f29df9988f864bbe958c7f.txt', 'C:\\\\Users\\\\user\\\\Desktop\\\\notebook\\\\DATA_MINING\\\\HW4\\\\raw\\\\df9891f8081dee3228ed77543a92f860.txt', 'C:\\\\Users\\\\user\\\\Desktop\\\\notebook\\\\DATA_MINING\\\\HW4\\\\raw\\\\dfc9268945500dd3005aa88f707080fa.txt', 'C:\\\\Users\\\\user\\\\Desktop\\\\notebook\\\\DATA_MINING\\\\HW4\\\\raw\\\\dfddce3e24464eb182444b6b4696f047.txt', 'C:\\\\Users\\\\user\\\\Desktop\\\\notebook\\\\DATA_MINING\\\\HW4\\\\raw\\\\e00a6ae7d6b2102b3ba65c8aad348cbb.txt', 'C:\\\\Users\\\\user\\\\Desktop\\\\notebook\\\\DATA_MINING\\\\HW4\\\\raw\\\\e05c7fcd03713e35fb83107dd0f39b17.txt', 'C:\\\\Users\\\\user\\\\Desktop\\\\notebook\\\\DATA_MINING\\\\HW4\\\\raw\\\\e09f27d1dd195ee7d63b3a953ef39507.txt', 'C:\\\\Users\\\\user\\\\Desktop\\\\notebook\\\\DATA_MINING\\\\HW4\\\\raw\\\\e13d6ef99fdabf93b0a2ea519a6b0184.txt', 'C:\\\\Users\\\\user\\\\Desktop\\\\notebook\\\\DATA_MINING\\\\HW4\\\\raw\\\\e1d90b58189ec7d6e491c6409ebc3cde.txt', 'C:\\\\Users\\\\user\\\\Desktop\\\\notebook\\\\DATA_MINING\\\\HW4\\\\raw\\\\e1eb61d9aadddb65dcc7f498b1e99be5.txt', 'C:\\\\Users\\\\user\\\\Desktop\\\\notebook\\\\DATA_MINING\\\\HW4\\\\raw\\\\e20d02108d0d7939b84a0bfb8d5f12b0.txt', 'C:\\\\Users\\\\user\\\\Desktop\\\\notebook\\\\DATA_MINING\\\\HW4\\\\raw\\\\e2424a49de129f2cd541f3f0a24c0b36.txt', 'C:\\\\Users\\\\user\\\\Desktop\\\\notebook\\\\DATA_MINING\\\\HW4\\\\raw\\\\e26ea6d8559a739ea1674bc1896d2832.txt', 'C:\\\\Users\\\\user\\\\Desktop\\\\notebook\\\\DATA_MINING\\\\HW4\\\\raw\\\\e2875636773b3f76e6fa5262afaa784c.txt', 'C:\\\\Users\\\\user\\\\Desktop\\\\notebook\\\\DATA_MINING\\\\HW4\\\\raw\\\\e2a572e239e77c725bc8b8a8f29c83a1.txt', 'C:\\\\Users\\\\user\\\\Desktop\\\\notebook\\\\DATA_MINING\\\\HW4\\\\raw\\\\e2eb3585823523753c36942e9c5e3b8d.txt', 'C:\\\\Users\\\\user\\\\Desktop\\\\notebook\\\\DATA_MINING\\\\HW4\\\\raw\\\\e32fcd4379aace51f1d5550af6be6ef2.txt', 'C:\\\\Users\\\\user\\\\Desktop\\\\notebook\\\\DATA_MINING\\\\HW4\\\\raw\\\\e33a2bf0a762dfde030994955a2f9f1e.txt', 'C:\\\\Users\\\\user\\\\Desktop\\\\notebook\\\\DATA_MINING\\\\HW4\\\\raw\\\\e35f6a6cb96c4af311424c199b17e448.txt', 'C:\\\\Users\\\\user\\\\Desktop\\\\notebook\\\\DATA_MINING\\\\HW4\\\\raw\\\\e3e439ab437b9f349188721dfe814e9e.txt', 'C:\\\\Users\\\\user\\\\Desktop\\\\notebook\\\\DATA_MINING\\\\HW4\\\\raw\\\\e40f8bb1c53b020ce662497d3c1ad9a7.txt', 'C:\\\\Users\\\\user\\\\Desktop\\\\notebook\\\\DATA_MINING\\\\HW4\\\\raw\\\\e435580c94d162da115df5d7f98d5b2c.txt', 'C:\\\\Users\\\\user\\\\Desktop\\\\notebook\\\\DATA_MINING\\\\HW4\\\\raw\\\\e58e433bc005f14effdb3cb98ec55027.txt', 'C:\\\\Users\\\\user\\\\Desktop\\\\notebook\\\\DATA_MINING\\\\HW4\\\\raw\\\\e6512d8f670bc23cda3f3fe146d439d7.txt', 'C:\\\\Users\\\\user\\\\Desktop\\\\notebook\\\\DATA_MINING\\\\HW4\\\\raw\\\\e6985b21f5dfd9586c6345df45ddd75a.txt', 'C:\\\\Users\\\\user\\\\Desktop\\\\notebook\\\\DATA_MINING\\\\HW4\\\\raw\\\\e7167d1e3982dfd9d76e84688588977f.txt', 'C:\\\\Users\\\\user\\\\Desktop\\\\notebook\\\\DATA_MINING\\\\HW4\\\\raw\\\\e71e48081d4943c692c2b14a4befabf3.txt', 'C:\\\\Users\\\\user\\\\Desktop\\\\notebook\\\\DATA_MINING\\\\HW4\\\\raw\\\\e81e3f1d1a5a28c4c1ba62c345ba3282.txt', 'C:\\\\Users\\\\user\\\\Desktop\\\\notebook\\\\DATA_MINING\\\\HW4\\\\raw\\\\e9ddf6fae703cde14586c350e31350e4.txt', 'C:\\\\Users\\\\user\\\\Desktop\\\\notebook\\\\DATA_MINING\\\\HW4\\\\raw\\\\ea41c3882cfcdd43067d575a59cee3cc.txt', 'C:\\\\Users\\\\user\\\\Desktop\\\\notebook\\\\DATA_MINING\\\\HW4\\\\raw\\\\ea6330fb642d1cfc3a311e5b39c3e93f.txt', 'C:\\\\Users\\\\user\\\\Desktop\\\\notebook\\\\DATA_MINING\\\\HW4\\\\raw\\\\eabc09e991da15d8169eb156aceae7ac.txt', 'C:\\\\Users\\\\user\\\\Desktop\\\\notebook\\\\DATA_MINING\\\\HW4\\\\raw\\\\eb56929880b83324c735889ce414daa5.txt', 'C:\\\\Users\\\\user\\\\Desktop\\\\notebook\\\\DATA_MINING\\\\HW4\\\\raw\\\\ec7367bcdc2b86f91be7896633524c2b.txt', 'C:\\\\Users\\\\user\\\\Desktop\\\\notebook\\\\DATA_MINING\\\\HW4\\\\raw\\\\ecbe027d3fd5373948ecd4c71df07f25.txt', 'C:\\\\Users\\\\user\\\\Desktop\\\\notebook\\\\DATA_MINING\\\\HW4\\\\raw\\\\ed6350fd11502307d22afeb15b2a73a0.txt', 'C:\\\\Users\\\\user\\\\Desktop\\\\notebook\\\\DATA_MINING\\\\HW4\\\\raw\\\\ed68f1b547fc3e1b4caf2db4f58042fa.txt', 'C:\\\\Users\\\\user\\\\Desktop\\\\notebook\\\\DATA_MINING\\\\HW4\\\\raw\\\\ed9460fd084b182d3d10535ff6cc4bf7.txt', 'C:\\\\Users\\\\user\\\\Desktop\\\\notebook\\\\DATA_MINING\\\\HW4\\\\raw\\\\ef416d94ec169e33881d16c34a54e5e2.txt', 'C:\\\\Users\\\\user\\\\Desktop\\\\notebook\\\\DATA_MINING\\\\HW4\\\\raw\\\\efc0a02a796661479cde326bda204e69.txt', 'C:\\\\Users\\\\user\\\\Desktop\\\\notebook\\\\DATA_MINING\\\\HW4\\\\raw\\\\efc1f89b9bb5f9c818c6064b86c94bff.txt', 'C:\\\\Users\\\\user\\\\Desktop\\\\notebook\\\\DATA_MINING\\\\HW4\\\\raw\\\\f05ae2fbdc48b710b85dda19f60b48e8.txt', 'C:\\\\Users\\\\user\\\\Desktop\\\\notebook\\\\DATA_MINING\\\\HW4\\\\raw\\\\f09c6257227a15ea174ac0d2f3771671.txt', 'C:\\\\Users\\\\user\\\\Desktop\\\\notebook\\\\DATA_MINING\\\\HW4\\\\raw\\\\f0bf084c2586625f4b37d74630012e42.txt', 'C:\\\\Users\\\\user\\\\Desktop\\\\notebook\\\\DATA_MINING\\\\HW4\\\\raw\\\\f0fdfd94520931bd10611a27d43ec792.txt', 'C:\\\\Users\\\\user\\\\Desktop\\\\notebook\\\\DATA_MINING\\\\HW4\\\\raw\\\\f10915e93d41ba062a56e0067bd53910.txt', 'C:\\\\Users\\\\user\\\\Desktop\\\\notebook\\\\DATA_MINING\\\\HW4\\\\raw\\\\f176da5699ae1196f6e5f926cc27b1e7.txt', 'C:\\\\Users\\\\user\\\\Desktop\\\\notebook\\\\DATA_MINING\\\\HW4\\\\raw\\\\f1f41676e07b39227fda24b06f7f9421.txt', 'C:\\\\Users\\\\user\\\\Desktop\\\\notebook\\\\DATA_MINING\\\\HW4\\\\raw\\\\f2cce615053a3997941daf0e2374cf08.txt', 'C:\\\\Users\\\\user\\\\Desktop\\\\notebook\\\\DATA_MINING\\\\HW4\\\\raw\\\\f2cf1e6dbc5bf98c91bdaf49bbc0078f.txt', 'C:\\\\Users\\\\user\\\\Desktop\\\\notebook\\\\DATA_MINING\\\\HW4\\\\raw\\\\f2dfc3f4e7abde33018bb734ed361714.txt', 'C:\\\\Users\\\\user\\\\Desktop\\\\notebook\\\\DATA_MINING\\\\HW4\\\\raw\\\\f40d2cc700a9c7d12cc033fdf40315c4.txt', 'C:\\\\Users\\\\user\\\\Desktop\\\\notebook\\\\DATA_MINING\\\\HW4\\\\raw\\\\f429ca3b277a712bd2d4b171926a73fa.txt', 'C:\\\\Users\\\\user\\\\Desktop\\\\notebook\\\\DATA_MINING\\\\HW4\\\\raw\\\\f449541b0dccf23efc0dffc9b0b5354c.txt', 'C:\\\\Users\\\\user\\\\Desktop\\\\notebook\\\\DATA_MINING\\\\HW4\\\\raw\\\\f489a7c30ebbdb939c7a06cf123fe93a.txt', 'C:\\\\Users\\\\user\\\\Desktop\\\\notebook\\\\DATA_MINING\\\\HW4\\\\raw\\\\f66c4fb919952d5af3d4b7715c1469c9.txt', 'C:\\\\Users\\\\user\\\\Desktop\\\\notebook\\\\DATA_MINING\\\\HW4\\\\raw\\\\f68681e43007e9062a78a95551638443.txt', 'C:\\\\Users\\\\user\\\\Desktop\\\\notebook\\\\DATA_MINING\\\\HW4\\\\raw\\\\f8cd6631b3e38e3b0d48f603e660ad64.txt', 'C:\\\\Users\\\\user\\\\Desktop\\\\notebook\\\\DATA_MINING\\\\HW4\\\\raw\\\\f8ded130ae0e4f737dbd040555e5a4ef.txt', 'C:\\\\Users\\\\user\\\\Desktop\\\\notebook\\\\DATA_MINING\\\\HW4\\\\raw\\\\fa06d3d87d3483e26e5794829b0449f7.txt', 'C:\\\\Users\\\\user\\\\Desktop\\\\notebook\\\\DATA_MINING\\\\HW4\\\\raw\\\\fa55ac4a18aa791cd3381c933a3ae0ad.txt', 'C:\\\\Users\\\\user\\\\Desktop\\\\notebook\\\\DATA_MINING\\\\HW4\\\\raw\\\\fa64eefb65f88d1b5b7838040e0c3c46.txt', 'C:\\\\Users\\\\user\\\\Desktop\\\\notebook\\\\DATA_MINING\\\\HW4\\\\raw\\\\faa0958cd32706cc8c43542c0e3e2380.txt', 'C:\\\\Users\\\\user\\\\Desktop\\\\notebook\\\\DATA_MINING\\\\HW4\\\\raw\\\\fac3f765b5d7ec8f0e9dd50c7825fa15.txt', 'C:\\\\Users\\\\user\\\\Desktop\\\\notebook\\\\DATA_MINING\\\\HW4\\\\raw\\\\fb4e5613bacd6e2dbfc04a2e4a784163.txt', 'C:\\\\Users\\\\user\\\\Desktop\\\\notebook\\\\DATA_MINING\\\\HW4\\\\raw\\\\fb69aa2fd296d7a8ed8a8d7bebdc9f33.txt', 'C:\\\\Users\\\\user\\\\Desktop\\\\notebook\\\\DATA_MINING\\\\HW4\\\\raw\\\\fb90fd4982fc0401dac06154157d5af8.txt', 'C:\\\\Users\\\\user\\\\Desktop\\\\notebook\\\\DATA_MINING\\\\HW4\\\\raw\\\\fc35ee447020f94f5108aca8fe12dc96.txt', 'C:\\\\Users\\\\user\\\\Desktop\\\\notebook\\\\DATA_MINING\\\\HW4\\\\raw\\\\fcc0cc0f911b5abcca7f17bb9a1437da.txt', 'C:\\\\Users\\\\user\\\\Desktop\\\\notebook\\\\DATA_MINING\\\\HW4\\\\raw\\\\fd717524a298a9fcbc58c6190f2d759b.txt', 'C:\\\\Users\\\\user\\\\Desktop\\\\notebook\\\\DATA_MINING\\\\HW4\\\\raw\\\\fe514217c5107203a2ddfdd6ca0cd2e2.txt', 'C:\\\\Users\\\\user\\\\Desktop\\\\notebook\\\\DATA_MINING\\\\HW4\\\\raw\\\\fe59d53fcc0c4013cfcbe6e0fd7dd3b1.txt', 'C:\\\\Users\\\\user\\\\Desktop\\\\notebook\\\\DATA_MINING\\\\HW4\\\\raw\\\\ff08e15872096033ec570edd81d1fa10.txt', 'C:\\\\Users\\\\user\\\\Desktop\\\\notebook\\\\DATA_MINING\\\\HW4\\\\raw\\\\ff16e2fcd0735f733c9c078581215723.txt', 'C:\\\\Users\\\\user\\\\Desktop\\\\notebook\\\\DATA_MINING\\\\HW4\\\\raw\\\\ff6777833d8b9972f846ee46caf1af07.txt']\n"
     ]
    }
   ],
   "source": [
    "data_folder = r\"C:\\Users\\user\\Desktop\\notebook\\DATA_MINING\\HW4\\raw\"\n",
    "filenames = [os.path.join(data_folder, filename) for filename in os.listdir(data_folder)]\n",
    "print(filenames)"
   ]
  },
  {
   "cell_type": "code",
   "execution_count": 20,
   "id": "7fc43988",
   "metadata": {},
   "outputs": [
    {
     "name": "stdout",
     "output_type": "stream",
     "text": [
      "C:\\Users\\user\\Desktop\\notebook\\DATA_MINING\\HW4\\data\\websites\\textonly\n"
     ]
    }
   ],
   "source": [
    "text_output_folder = r\"C:\\Users\\user\\Desktop\\notebook\\DATA_MINING\\HW4\\data\\websites\\textonly\"\n",
    "print(text_output_folder)"
   ]
  },
  {
   "cell_type": "code",
   "execution_count": 21,
   "id": "9fd5605e",
   "metadata": {},
   "outputs": [],
   "source": [
    "import lxml\n",
    "from lxml import etree\n"
   ]
  },
  {
   "cell_type": "code",
   "execution_count": 22,
   "id": "bdf6224e",
   "metadata": {},
   "outputs": [],
   "source": [
    "skip_node_types = [\"script\", \"head\", \"style\", etree.Comment]"
   ]
  },
  {
   "cell_type": "code",
   "execution_count": 23,
   "id": "6f2c1acd",
   "metadata": {},
   "outputs": [],
   "source": [
    "parser = etree.HTMLParser()\n",
    "\n",
    "import chardet\n",
    "\n",
    "def get_text_from_file(filename):\n",
    "    with open(filename, 'rb') as f:\n",
    "        result = chardet.detect(f.read())\n",
    "        encoding = result['encoding']\n",
    "    with open(filename, encoding=encoding, errors='ignore') as inf:\n",
    "        html_tree = etree.parse(inf, parser)\n",
    "    root = html_tree.getroot()\n",
    "    if root is None:\n",
    "        return \"\"\n",
    "    return get_text_from_node(root)\n"
   ]
  },
  {
   "cell_type": "code",
   "execution_count": 24,
   "id": "58097476",
   "metadata": {},
   "outputs": [],
   "source": [
    "def get_text_from_node(node):\n",
    "    if len(node) == 0: \n",
    "        # No children, just return text from this item\n",
    "        if node.text: \n",
    "            return node.text \n",
    "        else:\n",
    "            return \"\"\n",
    "    else:\n",
    "        # This node has children, return the text from it:\n",
    "        results = (get_text_from_node(child)\n",
    "                   for child in node\n",
    "                   if child.tag not in skip_node_types)\n",
    "    result = str.join(\"\\n\", (r for r in results if len(r) > 1))\n",
    "    if len(result) >= 100:\n",
    "        return result\n",
    "    else:\n",
    "        return \"\""
   ]
  },
  {
   "cell_type": "code",
   "execution_count": 25,
   "id": "5cfa6319",
   "metadata": {},
   "outputs": [],
   "source": [
    "for filename in os.listdir(data_folder):\n",
    "    text = get_text_from_file(os.path.join(data_folder, filename))\n",
    "    with open(os.path.join(text_output_folder, filename), 'w', encoding='utf-8') as outf:\n",
    "        outf.write(text)"
   ]
  },
  {
   "cell_type": "code",
   "execution_count": 26,
   "id": "df0ab518",
   "metadata": {},
   "outputs": [],
   "source": [
    "from sklearn.cluster import KMeans"
   ]
  },
  {
   "cell_type": "code",
   "execution_count": 27,
   "id": "f53cd59b",
   "metadata": {},
   "outputs": [],
   "source": [
    "from sklearn.feature_extraction.text import TfidfVectorizer"
   ]
  },
  {
   "cell_type": "code",
   "execution_count": 28,
   "id": "62da1f64",
   "metadata": {},
   "outputs": [],
   "source": [
    "from sklearn.pipeline import Pipeline\n",
    "n_clusters = 10 \n",
    "pipeline = Pipeline([('feature_extraction', TfidfVectorizer(max_df=0.4)),\n",
    "                                     ('clusterer', KMeans(n_clusters=n_clusters)) ])"
   ]
  },
  {
   "cell_type": "code",
   "execution_count": 29,
   "id": "3a6bfae9",
   "metadata": {},
   "outputs": [],
   "source": [
    "documents = [open(os.path.join(text_output_folder, filename), encoding='utf-8').read() for filename in os.listdir(text_output_folder)]\n"
   ]
  },
  {
   "cell_type": "code",
   "execution_count": 30,
   "id": "7b39c21c",
   "metadata": {},
   "outputs": [
    {
     "name": "stderr",
     "output_type": "stream",
     "text": [
      "C:\\Users\\user\\anaconda3\\lib\\site-packages\\sklearn\\cluster\\_kmeans.py:870: FutureWarning: The default value of `n_init` will change from 10 to 'auto' in 1.4. Set the value of `n_init` explicitly to suppress the warning\n",
      "  warnings.warn(\n"
     ]
    }
   ],
   "source": [
    "pipeline.fit(documents)\n",
    "labels = pipeline.predict(documents)"
   ]
  },
  {
   "cell_type": "code",
   "execution_count": 31,
   "id": "89369b9d",
   "metadata": {},
   "outputs": [
    {
     "name": "stdout",
     "output_type": "stream",
     "text": [
      "Cluster 0 contains 190 samples\n",
      "Cluster 1 contains 42 samples\n",
      "Cluster 2 contains 64 samples\n",
      "Cluster 3 contains 8 samples\n",
      "Cluster 4 contains 45 samples\n",
      "Cluster 5 contains 22 samples\n",
      "Cluster 6 contains 15 samples\n",
      "Cluster 7 contains 31 samples\n",
      "Cluster 8 contains 18 samples\n",
      "Cluster 9 contains 44 samples\n"
     ]
    }
   ],
   "source": [
    "from collections import Counter\n",
    "c = Counter(labels) \n",
    "for cluster_number in range(n_clusters): \n",
    "    print(\"Cluster {} contains {} samples\".format(cluster_number, c[cluster_number]))"
   ]
  },
  {
   "cell_type": "code",
   "execution_count": 32,
   "id": "d246a728",
   "metadata": {},
   "outputs": [
    {
     "data": {
      "text/plain": [
       "388.7122634872288"
      ]
     },
     "execution_count": 32,
     "metadata": {},
     "output_type": "execute_result"
    }
   ],
   "source": [
    "pipeline.named_steps['clusterer'].inertia_"
   ]
  },
  {
   "cell_type": "code",
   "execution_count": 33,
   "id": "a46e4598",
   "metadata": {},
   "outputs": [],
   "source": [
    "inertia_scores = [] \n",
    "n_cluster_values = list(range(2, 20)) \n",
    "for n_clusters in n_cluster_values: \n",
    "    cur_inertia_scores = [] \n",
    "    X = TfidfVectorizer(max_df=0.4).fit_transform(documents) \n",
    "    for i in range(10): \n",
    "        km = KMeans(n_clusters=n_clusters).fit(X) \n",
    "        cur_inertia_scores.append(km.inertia_) \n",
    "        inertia_scores.append(cur_inertia_scores)"
   ]
  },
  {
   "cell_type": "code",
   "execution_count": 34,
   "id": "b47f22fd",
   "metadata": {},
   "outputs": [
    {
     "data": {
      "text/plain": [
       "19"
      ]
     },
     "execution_count": 34,
     "metadata": {},
     "output_type": "execute_result"
    }
   ],
   "source": [
    "n_clusters"
   ]
  },
  {
   "cell_type": "code",
   "execution_count": 35,
   "id": "49610819",
   "metadata": {},
   "outputs": [],
   "source": [
    "n_clusters = 6 \n",
    "pipeline = Pipeline([('feature_extraction', TfidfVectorizer(max_df=0.4)),\n",
    "                     ('clusterer', KMeans(n_clusters=n_clusters)) ])\n",
    "pipeline.fit(documents) \n",
    "labels = pipeline.predict(documents)"
   ]
  },
  {
   "cell_type": "code",
   "execution_count": 36,
   "id": "b2eeb36c",
   "metadata": {},
   "outputs": [
    {
     "data": {
      "text/plain": [
       "6"
      ]
     },
     "execution_count": 36,
     "metadata": {},
     "output_type": "execute_result"
    }
   ],
   "source": [
    "n_clusters"
   ]
  },
  {
   "cell_type": "code",
   "execution_count": 39,
   "id": "20a67f58",
   "metadata": {},
   "outputs": [],
   "source": [
    "terms = pipeline.named_steps['feature_extraction'].get_feature_names_out()\n"
   ]
  },
  {
   "cell_type": "code",
   "execution_count": 40,
   "id": "9ff7507e",
   "metadata": {},
   "outputs": [],
   "source": [
    "c = Counter(labels)"
   ]
  },
  {
   "cell_type": "code",
   "execution_count": 41,
   "id": "4773e21d",
   "metadata": {},
   "outputs": [
    {
     "name": "stdout",
     "output_type": "stream",
     "text": [
      "Cluster 0 contains 24 samples\n",
      " Most important terms\n",
      " 1) poland (score: 0.1312)\n",
      " 2) ukraine (score: 0.1154)\n",
      " 3) oblast (score: 0.1040)\n",
      " 4) ukrainian (score: 0.1017)\n",
      " 5) russian (score: 0.0941)\n",
      "Cluster 1 contains 28 samples\n",
      " Most important terms\n",
      " 1) india (score: 0.0701)\n",
      " 2) adani (score: 0.0520)\n",
      " 3) calculator (score: 0.0468)\n",
      " 4) indigenous (score: 0.0431)\n",
      " 5) price (score: 0.0406)\n",
      "Cluster 2 contains 191 samples\n",
      " Most important terms\n",
      " 1) iran (score: 0.0173)\n",
      " 2) party (score: 0.0141)\n",
      " 3) climate (score: 0.0137)\n",
      " 4) president (score: 0.0126)\n",
      " 5) she (score: 0.0119)\n",
      "Cluster 3 contains 52 samples\n",
      " Most important terms\n",
      " 1) reuters (score: 0.1642)\n",
      " 2) thomson (score: 0.0758)\n",
      " 3) desktop (score: 0.0723)\n",
      " 4) worldwide (score: 0.0685)\n",
      " 5) financial (score: 0.0666)\n",
      "Cluster 4 contains 26 samples\n",
      " Most important terms\n",
      " 1) korea (score: 0.2289)\n",
      " 2) nuclear (score: 0.1808)\n",
      " 3) south (score: 0.1610)\n",
      " 4) islands (score: 0.1557)\n",
      " 5) yoon (score: 0.1222)\n",
      "Cluster 5 contains 158 samples\n",
      " Most important terms\n",
      " 1) ukraine (score: 0.0739)\n",
      " 2) russia (score: 0.0625)\n",
      " 3) russian (score: 0.0610)\n",
      " 4) china (score: 0.0391)\n",
      " 5) ukrainian (score: 0.0383)\n"
     ]
    }
   ],
   "source": [
    "for cluster_number in range(n_clusters): \n",
    "    print(\"Cluster {} contains {} samples\".format(cluster_number, c[cluster_number]))\n",
    "    print(\" Most important terms\")\n",
    "    centroid = pipeline.named_steps['clusterer'].cluster_centers_[cluster_number]\n",
    "    most_important = centroid.argsort()\n",
    "    for i in range(5):\n",
    "        term_index = most_important[-(i+1)]\n",
    "        print(\" {0}) {1} (score: {2:.4f})\".format(i+1, terms[term_index], centroid[term_index]))"
   ]
  },
  {
   "cell_type": "code",
   "execution_count": 42,
   "id": "bb03c083",
   "metadata": {},
   "outputs": [],
   "source": [
    "X = pipeline.transform(documents)"
   ]
  },
  {
   "cell_type": "code",
   "execution_count": 43,
   "id": "27b8312a",
   "metadata": {},
   "outputs": [],
   "source": [
    "from scipy.sparse import csr_matrix"
   ]
  },
  {
   "cell_type": "code",
   "execution_count": 44,
   "id": "29ac773f",
   "metadata": {},
   "outputs": [],
   "source": [
    "import numpy as np\n",
    "def create_coassociation_matrix(labels):\n",
    "    rows = [] \n",
    "    cols = []\n",
    "    unique_labels = set(labels) \n",
    "    for label in unique_labels:\n",
    "        indices = np.where(labels == label)[0]\n",
    "        for index1 in indices:\n",
    "            for index2 in indices:\n",
    "                rows.append(index1)\n",
    "                cols.append(index2)\n",
    "    data = np.ones((len(rows),)) \n",
    "    return csr_matrix((data, (rows, cols)), dtype='float')"
   ]
  },
  {
   "cell_type": "code",
   "execution_count": 45,
   "id": "b0d7311f",
   "metadata": {},
   "outputs": [],
   "source": [
    "C = create_coassociation_matrix(labels)"
   ]
  },
  {
   "cell_type": "code",
   "execution_count": 46,
   "id": "691b2cd6",
   "metadata": {},
   "outputs": [
    {
     "data": {
      "text/plain": [
       "<479x479 sparse matrix of type '<class 'numpy.float64'>'\n",
       "\twith 66185 stored elements in Compressed Sparse Row format>"
      ]
     },
     "execution_count": 46,
     "metadata": {},
     "output_type": "execute_result"
    }
   ],
   "source": [
    "C"
   ]
  },
  {
   "cell_type": "code",
   "execution_count": 47,
   "id": "d2b51433",
   "metadata": {},
   "outputs": [],
   "source": [
    "from scipy.sparse.csgraph import minimum_spanning_tree"
   ]
  },
  {
   "cell_type": "code",
   "execution_count": 48,
   "id": "549c2daf",
   "metadata": {},
   "outputs": [],
   "source": [
    "mst = minimum_spanning_tree(C)"
   ]
  },
  {
   "cell_type": "code",
   "execution_count": 49,
   "id": "b70a4948",
   "metadata": {},
   "outputs": [],
   "source": [
    "mst = minimum_spanning_tree(-C)"
   ]
  },
  {
   "cell_type": "code",
   "execution_count": 50,
   "id": "b30209cd",
   "metadata": {},
   "outputs": [
    {
     "name": "stderr",
     "output_type": "stream",
     "text": [
      "C:\\Users\\user\\anaconda3\\lib\\site-packages\\sklearn\\cluster\\_kmeans.py:870: FutureWarning: The default value of `n_init` will change from 10 to 'auto' in 1.4. Set the value of `n_init` explicitly to suppress the warning\n",
      "  warnings.warn(\n"
     ]
    }
   ],
   "source": [
    "pipeline.fit(documents) \n",
    "labels2 = pipeline.predict(documents) \n",
    "C2 = create_coassociation_matrix(labels2) \n",
    "C_sum = (C + C2) / 2"
   ]
  },
  {
   "cell_type": "code",
   "execution_count": 51,
   "id": "abbfd2ed",
   "metadata": {},
   "outputs": [],
   "source": [
    "mst = minimum_spanning_tree(-C_sum) \n",
    "mst.data[mst.data > -1] = 0"
   ]
  },
  {
   "cell_type": "code",
   "execution_count": 52,
   "id": "3538f5f6",
   "metadata": {},
   "outputs": [],
   "source": [
    "from scipy.sparse.csgraph import connected_components \n",
    "number_of_clusters, labels = connected_components(mst)"
   ]
  },
  {
   "cell_type": "code",
   "execution_count": 53,
   "id": "c5f4811e",
   "metadata": {},
   "outputs": [],
   "source": [
    "from sklearn.base import BaseEstimator, ClusterMixin \n",
    "class EAC(BaseEstimator, ClusterMixin):\n",
    "    def __init__(self, n_clusterings=10, cut_threshold=0.5, n_clusters_range=(3, 10)): \n",
    "        self.n_clusterings = n_clusterings\n",
    "        self.cut_threshold = cut_threshold\n",
    "        self.n_clusters_range = n_clusters_range\n",
    "\n",
    "    def fit(self, X, y=None):\n",
    "        C = sum((create_coassociation_matrix(self._single_clustering(X))\n",
    "                 for i in range(self.n_clusterings)))\n",
    "        mst = minimum_spanning_tree(-C)\n",
    "        mst.data[mst.data > -self.cut_threshold] = 0\n",
    "        mst.eliminate_zeros()\n",
    "        self.n_components, self.labels_ = connected_components(mst)\n",
    "        return self\n",
    " \n",
    "    def _single_clustering(self, X):\n",
    "        n_clusters = np.random.randint(*self.n_clusters_range)\n",
    "        km = KMeans(n_clusters=n_clusters)\n",
    "        return km.fit_predict(X)\n",
    " \n",
    "    def fit_predict(self, X):\n",
    "        self.fit(X)\n",
    "        return self.labels_"
   ]
  },
  {
   "cell_type": "code",
   "execution_count": 54,
   "id": "56ac6396",
   "metadata": {},
   "outputs": [],
   "source": [
    "pipeline = Pipeline([('feature_extraction', TfidfVectorizer(max_df=0.4)),\n",
    "                     ('clusterer', EAC()) ])"
   ]
  },
  {
   "cell_type": "code",
   "execution_count": 55,
   "id": "ade1060c",
   "metadata": {},
   "outputs": [],
   "source": [
    "vec = TfidfVectorizer(max_df=0.4) \n",
    "X = vec.fit_transform(documents)"
   ]
  },
  {
   "cell_type": "code",
   "execution_count": 56,
   "id": "b241a2f8",
   "metadata": {},
   "outputs": [],
   "source": [
    "from sklearn.cluster import MiniBatchKMeans \n",
    "mbkm = MiniBatchKMeans(random_state=14, n_clusters=3)"
   ]
  },
  {
   "cell_type": "code",
   "execution_count": 57,
   "id": "b016c40f",
   "metadata": {},
   "outputs": [
    {
     "name": "stderr",
     "output_type": "stream",
     "text": [
      "C:\\Users\\user\\anaconda3\\lib\\site-packages\\sklearn\\cluster\\_kmeans.py:870: FutureWarning: The default value of `n_init` will change from 3 to 'auto' in 1.4. Set the value of `n_init` explicitly to suppress the warning\n",
      "  warnings.warn(\n"
     ]
    }
   ],
   "source": [
    "batch_size = 10 \n",
    "for iteration in range(int(X.shape[0] / batch_size)): \n",
    "    start = batch_size * iteration \n",
    "    end = batch_size * (iteration + 1) \n",
    "    mbkm.partial_fit(X[start:end])"
   ]
  },
  {
   "cell_type": "code",
   "execution_count": 58,
   "id": "e1f020d6",
   "metadata": {},
   "outputs": [],
   "source": [
    "labels = mbkm.predict(X)"
   ]
  },
  {
   "cell_type": "code",
   "execution_count": 59,
   "id": "664ff430",
   "metadata": {},
   "outputs": [
    {
     "data": {
      "text/plain": [
       "array([1, 1, 1, 1, 1, 1, 1, 1, 1, 1, 1, 1, 1, 1, 1, 1, 1, 1, 1, 1, 1, 1,\n",
       "       1, 1, 1, 1, 1, 1, 1, 1, 1, 1, 1, 1, 1, 1, 1, 1, 1, 1, 1, 1, 1, 1,\n",
       "       1, 1, 1, 1, 1, 1, 1, 1, 1, 1, 1, 1, 1, 1, 1, 1, 1, 1, 1, 1, 1, 1,\n",
       "       1, 1, 1, 1, 1, 1, 1, 1, 1, 1, 1, 1, 1, 1, 1, 1, 1, 1, 1, 1, 1, 1,\n",
       "       1, 1, 1, 1, 1, 1, 1, 1, 1, 1, 1, 1, 1, 1, 1, 1, 1, 1, 1, 1, 1, 1,\n",
       "       1, 1, 1, 1, 1, 1, 1, 1, 1, 1, 1, 1, 1, 1, 1, 2, 1, 1, 0, 1, 1, 1,\n",
       "       1, 1, 1, 1, 1, 1, 1, 1, 1, 1, 1, 1, 1, 1, 1, 1, 1, 1, 1, 1, 1, 1,\n",
       "       1, 1, 1, 1, 1, 1, 1, 1, 1, 1, 1, 1, 1, 1, 1, 1, 1, 1, 1, 1, 1, 1,\n",
       "       1, 1, 1, 1, 1, 1, 1, 1, 1, 1, 1, 1, 1, 1, 1, 1, 1, 1, 1, 1, 1, 1,\n",
       "       1, 1, 1, 1, 1, 1, 1, 1, 1, 1, 1, 1, 1, 1, 1, 1, 1, 1, 1, 1, 1, 1,\n",
       "       1, 1, 1, 1, 1, 1, 1, 1, 1, 1, 1, 1, 1, 1, 1, 1, 1, 1, 1, 1, 1, 1,\n",
       "       1, 1, 1, 1, 1, 1, 1, 1, 1, 1, 1, 1, 1, 1, 1, 1, 1, 1, 1, 1, 1, 1,\n",
       "       1, 1, 1, 1, 1, 1, 1, 1, 1, 1, 1, 1, 1, 1, 1, 1, 1, 1, 1, 1, 1, 1,\n",
       "       1, 1, 1, 1, 1, 1, 1, 1, 1, 1, 1, 1, 1, 1, 1, 1, 1, 1, 1, 1, 1, 1,\n",
       "       1, 1, 1, 1, 1, 1, 1, 1, 1, 1, 1, 1, 1, 1, 1, 1, 1, 1, 1, 1, 1, 1,\n",
       "       1, 1, 1, 1, 1, 1, 1, 1, 1, 1, 1, 1, 1, 1, 1, 1, 1, 1, 1, 1, 1, 1,\n",
       "       1, 1, 1, 1, 1, 1, 1, 1, 1, 1, 1, 1, 1, 1, 1, 1, 1, 1, 1, 1, 1, 1,\n",
       "       1, 1, 1, 1, 1, 1, 1, 1, 1, 1, 1, 1, 1, 1, 1, 1, 1, 1, 1, 1, 1, 1,\n",
       "       1, 1, 1, 1, 1, 1, 1, 1, 1, 1, 1, 1, 1, 1, 1, 1, 1, 1, 1, 1, 1, 1,\n",
       "       1, 1, 1, 1, 1, 1, 1, 1, 1, 1, 1, 1, 1, 1, 1, 1, 1, 1, 1, 1, 1, 1,\n",
       "       1, 1, 1, 1, 1, 1, 1, 1, 1, 1, 1, 1, 1, 1, 1, 1, 1, 1, 1, 1, 1, 1,\n",
       "       1, 1, 1, 1, 1, 1, 1, 1, 1, 1, 1, 1, 1, 1, 1, 1, 1])"
      ]
     },
     "execution_count": 59,
     "metadata": {},
     "output_type": "execute_result"
    }
   ],
   "source": [
    "labels"
   ]
  },
  {
   "cell_type": "code",
   "execution_count": 60,
   "id": "8cfd7789",
   "metadata": {},
   "outputs": [],
   "source": [
    "class PartialFitPipeline(Pipeline):\n",
    "    def partial_fit(self, X, y=None):\n",
    "        Xt = X\n",
    "        for name, transform in self.steps[:-1]:\n",
    "            Xt = transform.transform(Xt)\n",
    "        return self.steps[-1][1].partial_fit(Xt, y=y)"
   ]
  },
  {
   "cell_type": "code",
   "execution_count": 61,
   "id": "0449de8d",
   "metadata": {},
   "outputs": [],
   "source": [
    "from sklearn.feature_extraction.text import HashingVectorizer\n",
    "\n",
    "pipeline = PartialFitPipeline([('feature_extraction', HashingVectorizer()),\n",
    "                               ('clusterer', MiniBatchKMeans(random_state=14, n_clusters=3)) ])\n",
    "batch_size = 10 \n",
    "for iteration in range(int(len(documents) / batch_size)): \n",
    "    start = batch_size * iteration \n",
    "    end = batch_size * (iteration + 1)\n",
    "    pipeline.partial_fit(documents[start:end]) \n",
    "labels = pipeline.predict(documents)"
   ]
  },
  {
   "cell_type": "code",
   "execution_count": 62,
   "id": "78b60c6c",
   "metadata": {},
   "outputs": [
    {
     "data": {
      "text/plain": [
       "array([2, 1, 1, 1, 1, 1, 1, 1, 1, 1, 1, 1, 1, 1, 1, 1, 1, 2, 1, 1, 1, 1,\n",
       "       1, 1, 1, 1, 1, 1, 1, 2, 2, 1, 2, 1, 1, 1, 1, 1, 1, 1, 1, 2, 1, 1,\n",
       "       2, 1, 1, 1, 1, 1, 1, 1, 1, 1, 1, 1, 1, 1, 1, 1, 1, 1, 1, 1, 1, 1,\n",
       "       2, 2, 1, 1, 1, 1, 1, 1, 2, 1, 1, 1, 1, 1, 1, 1, 1, 1, 1, 1, 1, 1,\n",
       "       1, 1, 1, 1, 2, 1, 1, 2, 1, 1, 1, 1, 1, 1, 1, 1, 1, 1, 2, 1, 1, 1,\n",
       "       1, 1, 1, 1, 1, 1, 1, 1, 2, 1, 1, 1, 1, 1, 1, 1, 1, 1, 0, 1, 2, 1,\n",
       "       1, 1, 1, 1, 1, 1, 1, 1, 1, 2, 1, 1, 1, 1, 1, 1, 1, 1, 1, 1, 1, 1,\n",
       "       1, 1, 1, 2, 1, 1, 1, 1, 1, 1, 1, 2, 1, 1, 1, 1, 1, 1, 1, 1, 1, 1,\n",
       "       2, 1, 1, 1, 1, 1, 1, 1, 1, 1, 1, 2, 1, 1, 2, 2, 1, 1, 1, 1, 1, 1,\n",
       "       1, 1, 1, 1, 1, 1, 1, 1, 1, 1, 1, 1, 1, 1, 1, 1, 2, 2, 1, 1, 1, 1,\n",
       "       1, 1, 1, 1, 1, 1, 1, 1, 1, 1, 1, 2, 1, 1, 1, 1, 2, 1, 1, 1, 1, 1,\n",
       "       1, 2, 1, 1, 1, 1, 1, 1, 1, 2, 1, 2, 1, 1, 1, 1, 1, 1, 1, 1, 1, 1,\n",
       "       1, 1, 1, 1, 1, 1, 1, 1, 1, 1, 1, 1, 1, 1, 1, 1, 1, 1, 1, 1, 1, 1,\n",
       "       2, 1, 1, 1, 1, 1, 1, 1, 1, 2, 1, 1, 1, 1, 1, 1, 1, 2, 1, 1, 1, 1,\n",
       "       1, 1, 1, 1, 1, 1, 1, 1, 1, 1, 1, 1, 1, 1, 1, 1, 1, 1, 1, 1, 1, 2,\n",
       "       1, 1, 1, 1, 1, 1, 1, 1, 1, 1, 1, 1, 2, 1, 1, 1, 1, 1, 2, 1, 1, 1,\n",
       "       1, 1, 1, 1, 2, 1, 1, 1, 1, 2, 1, 1, 1, 1, 1, 1, 1, 1, 1, 1, 1, 1,\n",
       "       1, 1, 1, 1, 1, 1, 1, 1, 1, 1, 1, 1, 1, 1, 1, 1, 1, 1, 2, 1, 1, 1,\n",
       "       1, 1, 1, 2, 1, 1, 1, 1, 1, 1, 1, 1, 1, 1, 1, 1, 1, 1, 1, 1, 1, 1,\n",
       "       1, 1, 1, 1, 1, 1, 2, 1, 1, 1, 1, 1, 1, 1, 2, 2, 1, 1, 1, 1, 2, 1,\n",
       "       2, 1, 1, 1, 1, 1, 1, 1, 1, 1, 1, 1, 1, 1, 2, 2, 1, 2, 1, 1, 1, 1,\n",
       "       1, 2, 1, 1, 1, 1, 1, 1, 1, 1, 1, 1, 1, 1, 1, 2, 1])"
      ]
     },
     "execution_count": 62,
     "metadata": {},
     "output_type": "execute_result"
    }
   ],
   "source": [
    "labels"
   ]
  },
  {
   "cell_type": "code",
   "execution_count": null,
   "id": "6d0ce234",
   "metadata": {},
   "outputs": [],
   "source": []
  },
  {
   "cell_type": "markdown",
   "id": "1ee15ed3",
   "metadata": {},
   "source": [
    "A. Clustering the documents collected into different number of clusters and evaluate the clustering quality in terms of Extrinsic and intrinsic methods mentioned in the text-book): Extrinsic: Extrinsic BCubed precision and recall metrics, Intrinsic: average silhouette coefficient value for all objects "
   ]
  },
  {
   "cell_type": "code",
   "execution_count": 85,
   "id": "f91eed48",
   "metadata": {},
   "outputs": [
    {
     "name": "stdout",
     "output_type": "stream",
     "text": [
      "Requirement already satisfied: BCubed in c:\\users\\user\\anaconda3\\lib\\site-packages (1.5)\n",
      "Requirement already satisfied: numpy in c:\\users\\user\\anaconda3\\lib\\site-packages (from BCubed) (1.21.5)\n",
      "Note: you may need to restart the kernel to use updated packages.\n"
     ]
    }
   ],
   "source": [
    "pip install BCubed"
   ]
  },
  {
   "cell_type": "code",
   "execution_count": 83,
   "id": "73c99e31",
   "metadata": {},
   "outputs": [
    {
     "name": "stdout",
     "output_type": "stream",
     "text": [
      "['China', 'France,Race,Europe,World news', '', 'Paraguay,Americas,World news', 'Folha de S.Paulo', 'Sudan,James Cleverly,Africa,Middle East and north Africa,World news,UK news', 'Climate crisis,Environment,Asia Pacific,Thailand,Myanmar,Laos,Vietnam,China,South and central Asia,World news', 'migration', 'Germany', 'aukus', 'Fumio Kishida', 'Wagner,Ukraine war', 'africa, armed forces, brand safety-nsf death, brand safety-nsf other, brand safety-nsf sensitive, brand safety-nsf severe, brand safety-nsf war and military, brand safety-nsf weapons, business and industry sectors, business, economy and trade, continents and regions, darfur, death and dying, deaths and fatalities, domestic alerts, domestic-business, domestic-health and science, domestic-international news, energy and utilities, environment and natural resources, famine and food shortages, food and drink, health and medical, health care, health care facilities, hospitals, iab-bereavement, iab-business and finance, iab-environment, iab-family and relationships, iab-food &amp; drink, iab-healthcare industry, iab-home utilities, iab-industries, iab-medical health, iab-personal finance, iab-politics, iab-power and energy industry, iab-science, iab-war and conflicts, international alerts, international relations, international relations and national security, international-business, international-health and science, khartoum, middle east and north africa, military, natural resources management, northern africa, paramilitary and militia, societal issues, society, sudan, treaties and agreements, unrest, conflicts and war, utilities industry, water and wastewater management, water resources management', 'Cristina Fernández de Kirchner', 'News Feed', '', 'Germany,Environmental activism,Europe,Environment,World news', 'indian oil corp', 'Council of Europe', 'Emmanuel Macron', '', 'Ukraine war', 'PFAS,Environment,Rivers,Pollution,Water,Lancashire,UK news', 'asia, brand safety-nsf crime, brand safety-nsf death, brand safety-nsf drugs negative, brand safety-nsf sensitive, capital punishment, continents and regions, controlled substances, crime, law enforcement and corrections, criminal law, criminal offenses, death and dying, deaths and fatalities, decriminalization, domestic alerts, domestic-international news, drug crimes, drug policy, drugs and society, iab-bereavement, iab-crime, iab-family and relationships, iab-law, law and legal system, marijuana, singapore, societal issues, society, southeast asia', 'Israel,Middle East and north Africa,World news,Benjamin Netanyahu', 'Kenya,Religion,Africa,World news', 'Breaking News: Politics', 'Cuba', 'federal', 'Eurozone,Business,Economics,Euro,Europe,European Central Bank,France,Italy,Germany,Spain,World news,Ukraine,European Union,Global economy,International trade,Inflation', 'ANI twitter account', 'News Feed', 'belief, religion and spirituality, brand safety-nsf religion, brand safety-nsf sensitive, christianity, church of england, iab-christianity, iab-religion &amp; spirituality, religious groups, society', 'aircraft, aviation and aerospace industry, brand safety-nsf sensitive, brand safety-nsf war and military, business and industry sectors, business, economy and trade, continents and regions, domestic alerts, domestic-international news, eastern europe, europe, iab-aviation industry, iab-business and finance, iab-industries, middle east, middle east and north africa, military, military aircraft, north america, russia, syria, the americas, united states', 'France', 'Bing', 'accidents, disasters and safety, africa, brand safety-nsf accidents and disasters, brand safety-nsf oil negative, brand safety-nsf other, brand safety-nsf sensitive, business and industry sectors, business, economy and trade, climate change, continents and regions, domestic alerts, domestic-climate crisis, domestic-health and science, domestic-international news, droughts, eastern africa, energy and environment, energy and utilities, environment and natural resources, hunger in society, iab-agriculture, iab-business and finance, iab-disasters, iab-environment, iab-industries, iab-power and energy industry, iab-science, iab-weather, international alerts, international-climate crisis, international-health and science, natural disasters, societal issues, society, somalia, weather', 'China', '', 'War in Ukraine', 'Bullfighting,Disability,Spain,Animals,Europe,Society,World news', 'Luiz Inácio Lula da Silva', 'Folha de S.Paulo', 'Business, Finance, &amp; Economics', 'News Feed', 'Pope Francis,Catholicism,Christianity,Religion,Women', 'Ukraine', 'asia, brand safety-nsf health issues, brand safety-nsf sensitive, brand safety-nsf war and military, brand safety-nsf weapons, business and industry sectors, business, economy and trade, chemical industry and chemicals, chemicals and environment, continents and regions, diseases and disorders, domestic alerts, domestic-health and science, domestic-international news, domestic-us politics, east asia, environment and natural resources, environmental illnesses, health and medical, iab-diseases and conditions, iab-environment, iab-medical health, iab-science, international alerts, international-health and science, international-us politics, joe biden, kim jong un, kim yo jong, lead (metal and element), lead poisoning, military, military weapons, north america, north and south korea conflict, north korea, north korea nuclear development, nuclear weapons, political figures - intl, political figures - us, pollution, south korea, the americas, toxic and hazardous substances, united states, unrest, conflicts and war, weapons and arms, weapons of mass destruction', 'brand safety-nsf crime, brand safety-nsf sensitive, brand safety-nsf violence, caribbean, continents and regions, crime rates, crime statistics and rates, crime, law enforcement and corrections, domestic alerts, domestic-international news, haiti, iab-crime, latin america, the americas', 'India,Pharmaceuticals industry,Global health,South and central Asia,Drugs,Global development', 'russian oil', 'Sudan,NHS,UK news,Africa', 'Sudan', 'Sudan,Africa,Middle East and north Africa,Refugees,Internally displaced people,World news', 'Spain,Extreme weather,World news,Drought,Climate crisis,Environment', 'Sudan,UK news,Africa,Middle East and north Africa', 'News Feed', \"Japan,Abortion,Asia Pacific,Women,World news,Women's health\", 'russian oil', 'Sudan,Middle East and north Africa,Africa,World news,UK news', 'Mexico,Americas,World news', 'News Feed', 'Taiwan', 'Brazil,Jair Bolsonaro,Americas,World news', 'Communist Party of Vietnam', 'Luiz Inacio Lula da Silva', 'News Feed', 'Paris Olympic Games 2024,Olympic Games,France,Sport,Protest,World news', 'defense', 'Finland,Europe,World news,Sanna Marin', 'Saudi', 'india-china', 'News Feed', 'Chile', '', 'Russia', 'Sanctions,Automobiles', 'defence review', 'Kosmos-2558', 'Argentina', 'Climate crisis,Oceans,Environment,Marine life,Sea level,El Niño southern oscillation,Science', 'Guantánamo Bay,United Nations,US news,World news,Torture,Law', 'brand safety-nsf health issues, brand safety-nsf mature, brand safety-nsf sensitive, domestic alerts, domestic-health and science, domestic-international news, fertility and infertility, health and medical, iab-diseases and conditions, iab-infertility, iab-medical health, iab-reproductive health, iab-sexual health, international alerts, international-health and science, sexual and reproductive health, sperm banks', 'Saudi Arabia', 'News Feed']\n"
     ]
    }
   ],
   "source": [
    "import os\n",
    "import re\n",
    "\n",
    "data_folder = r\"C:\\Users\\user\\Desktop\\notebook\\DATA_MINING\\HW4\\raw\"\n",
    "true_labels = []\n",
    "\n",
    "for filename in os.listdir(data_folder):\n",
    "    if filename.endswith(\".txt\"):\n",
    "        file_path = os.path.join(data_folder, filename)\n",
    "        with open(file_path, \"r\", encoding=\"utf-8\") as f:\n",
    "            file_content = f.read()\n",
    "            match = re.search('<meta property=\"article:tag\" content=\"(.*?)\"', file_content)\n",
    "            if match:\n",
    "                true_labels.append(match.group(1))\n",
    "\n",
    "print(true_labels)\n"
   ]
  },
  {
   "cell_type": "code",
   "execution_count": 63,
   "id": "c6f5a073",
   "metadata": {},
   "outputs": [
    {
     "name": "stderr",
     "output_type": "stream",
     "text": [
      "C:\\Users\\user\\anaconda3\\lib\\site-packages\\sklearn\\cluster\\_kmeans.py:870: FutureWarning: The default value of `n_init` will change from 10 to 'auto' in 1.4. Set the value of `n_init` explicitly to suppress the warning\n",
      "  warnings.warn(\n",
      "C:\\Users\\user\\anaconda3\\lib\\site-packages\\sklearn\\cluster\\_kmeans.py:870: FutureWarning: The default value of `n_init` will change from 10 to 'auto' in 1.4. Set the value of `n_init` explicitly to suppress the warning\n",
      "  warnings.warn(\n",
      "C:\\Users\\user\\anaconda3\\lib\\site-packages\\sklearn\\cluster\\_kmeans.py:870: FutureWarning: The default value of `n_init` will change from 10 to 'auto' in 1.4. Set the value of `n_init` explicitly to suppress the warning\n",
      "  warnings.warn(\n",
      "C:\\Users\\user\\anaconda3\\lib\\site-packages\\sklearn\\cluster\\_kmeans.py:870: FutureWarning: The default value of `n_init` will change from 10 to 'auto' in 1.4. Set the value of `n_init` explicitly to suppress the warning\n",
      "  warnings.warn(\n",
      "C:\\Users\\user\\anaconda3\\lib\\site-packages\\sklearn\\cluster\\_kmeans.py:870: FutureWarning: The default value of `n_init` will change from 10 to 'auto' in 1.4. Set the value of `n_init` explicitly to suppress the warning\n",
      "  warnings.warn(\n",
      "C:\\Users\\user\\anaconda3\\lib\\site-packages\\sklearn\\cluster\\_kmeans.py:870: FutureWarning: The default value of `n_init` will change from 10 to 'auto' in 1.4. Set the value of `n_init` explicitly to suppress the warning\n",
      "  warnings.warn(\n",
      "C:\\Users\\user\\anaconda3\\lib\\site-packages\\sklearn\\cluster\\_kmeans.py:870: FutureWarning: The default value of `n_init` will change from 10 to 'auto' in 1.4. Set the value of `n_init` explicitly to suppress the warning\n",
      "  warnings.warn(\n",
      "C:\\Users\\user\\anaconda3\\lib\\site-packages\\sklearn\\cluster\\_kmeans.py:870: FutureWarning: The default value of `n_init` will change from 10 to 'auto' in 1.4. Set the value of `n_init` explicitly to suppress the warning\n",
      "  warnings.warn(\n",
      "C:\\Users\\user\\anaconda3\\lib\\site-packages\\sklearn\\cluster\\_kmeans.py:870: FutureWarning: The default value of `n_init` will change from 10 to 'auto' in 1.4. Set the value of `n_init` explicitly to suppress the warning\n",
      "  warnings.warn(\n",
      "C:\\Users\\user\\anaconda3\\lib\\site-packages\\sklearn\\cluster\\_kmeans.py:870: FutureWarning: The default value of `n_init` will change from 10 to 'auto' in 1.4. Set the value of `n_init` explicitly to suppress the warning\n",
      "  warnings.warn(\n",
      "C:\\Users\\user\\anaconda3\\lib\\site-packages\\sklearn\\cluster\\_kmeans.py:870: FutureWarning: The default value of `n_init` will change from 10 to 'auto' in 1.4. Set the value of `n_init` explicitly to suppress the warning\n",
      "  warnings.warn(\n",
      "C:\\Users\\user\\anaconda3\\lib\\site-packages\\sklearn\\cluster\\_kmeans.py:870: FutureWarning: The default value of `n_init` will change from 10 to 'auto' in 1.4. Set the value of `n_init` explicitly to suppress the warning\n",
      "  warnings.warn(\n",
      "C:\\Users\\user\\anaconda3\\lib\\site-packages\\sklearn\\cluster\\_kmeans.py:870: FutureWarning: The default value of `n_init` will change from 10 to 'auto' in 1.4. Set the value of `n_init` explicitly to suppress the warning\n",
      "  warnings.warn(\n",
      "C:\\Users\\user\\anaconda3\\lib\\site-packages\\sklearn\\cluster\\_kmeans.py:870: FutureWarning: The default value of `n_init` will change from 10 to 'auto' in 1.4. Set the value of `n_init` explicitly to suppress the warning\n",
      "  warnings.warn(\n",
      "C:\\Users\\user\\anaconda3\\lib\\site-packages\\sklearn\\cluster\\_kmeans.py:870: FutureWarning: The default value of `n_init` will change from 10 to 'auto' in 1.4. Set the value of `n_init` explicitly to suppress the warning\n",
      "  warnings.warn(\n",
      "C:\\Users\\user\\anaconda3\\lib\\site-packages\\sklearn\\cluster\\_kmeans.py:870: FutureWarning: The default value of `n_init` will change from 10 to 'auto' in 1.4. Set the value of `n_init` explicitly to suppress the warning\n",
      "  warnings.warn(\n",
      "C:\\Users\\user\\anaconda3\\lib\\site-packages\\sklearn\\cluster\\_kmeans.py:870: FutureWarning: The default value of `n_init` will change from 10 to 'auto' in 1.4. Set the value of `n_init` explicitly to suppress the warning\n",
      "  warnings.warn(\n",
      "C:\\Users\\user\\anaconda3\\lib\\site-packages\\sklearn\\cluster\\_kmeans.py:870: FutureWarning: The default value of `n_init` will change from 10 to 'auto' in 1.4. Set the value of `n_init` explicitly to suppress the warning\n",
      "  warnings.warn(\n"
     ]
    },
    {
     "name": "stdout",
     "output_type": "stream",
     "text": [
      "Number of clusters: 2\n",
      "  Average silhouette coefficient: 0.02997476652738761\n",
      "Number of clusters: 3\n",
      "  Average silhouette coefficient: 0.03198323461292721\n",
      "Number of clusters: 4\n",
      "  Average silhouette coefficient: 0.038345495106638545\n",
      "Number of clusters: 5\n",
      "  Average silhouette coefficient: 0.03470752352792405\n",
      "Number of clusters: 6\n",
      "  Average silhouette coefficient: 0.047470252611509396\n",
      "Number of clusters: 7\n",
      "  Average silhouette coefficient: 0.038502986014395765\n",
      "Number of clusters: 8\n",
      "  Average silhouette coefficient: 0.04346364347347136\n",
      "Number of clusters: 9\n",
      "  Average silhouette coefficient: 0.03344377304490154\n",
      "Number of clusters: 10\n",
      "  Average silhouette coefficient: 0.02508946074496615\n",
      "Number of clusters: 11\n",
      "  Average silhouette coefficient: -0.01692749260242131\n",
      "Number of clusters: 12\n",
      "  Average silhouette coefficient: 0.0359431397451869\n",
      "Number of clusters: 13\n",
      "  Average silhouette coefficient: 0.02894066917108603\n",
      "Number of clusters: 14\n",
      "  Average silhouette coefficient: 0.05623265919749458\n",
      "Number of clusters: 15\n",
      "  Average silhouette coefficient: 0.04974375343018086\n",
      "Number of clusters: 16\n",
      "  Average silhouette coefficient: 0.026293888109810894\n",
      "Number of clusters: 17\n",
      "  Average silhouette coefficient: 0.025514712730352492\n",
      "Number of clusters: 18\n",
      "  Average silhouette coefficient: 0.011547393837065836\n",
      "Number of clusters: 19\n",
      "  Average silhouette coefficient: 0.031241665122871232\n",
      "Number of clusters: 20\n",
      "  Average silhouette coefficient: 0.033130284470668916\n"
     ]
    }
   ],
   "source": [
    "import os\n",
    "import chardet\n",
    "import numpy as np\n",
    "from lxml import etree\n",
    "from sklearn.cluster import KMeans\n",
    "from sklearn.pipeline import Pipeline\n",
    "from sklearn.metrics import silhouette_score\n",
    "from sklearn.feature_extraction.text import TfidfVectorizer\n",
    "# 若要使用 BCubed 指標，請取消下面兩行的註釋並安裝 bcubed 庫\n",
    "# import bcubed\n",
    "\n",
    "# ... 其他所需的函數和變量，例如 get_text_from_file 和 get_text_from_node\n",
    "\n",
    "# 假設你有真實標籤，將其存儲在一個名為 true_labels 的列表中\n",
    "# true_labels\n",
    "\n",
    "# 初始化結果字典\n",
    "results = {}\n",
    "\n",
    "# 遍歷聚類數量範圍\n",
    "for n_clusters in range(2, 21):\n",
    "    pipeline = Pipeline([('feature_extraction', TfidfVectorizer(max_df=0.4)),\n",
    "                         ('clusterer', KMeans(n_clusters=n_clusters)) ])\n",
    "    pipeline.fit(documents)\n",
    "    labels = pipeline.predict(documents)\n",
    "    \n",
    "    # 計算平均輪廓係數\n",
    "    silhouette_avg = silhouette_score(X, labels)\n",
    "    \n",
    "    # 若要使用 BCubed 指標，請取消下面幾行的註釋\n",
    "    # precision = bcubed.precision(labels, true_labels)\n",
    "    # recall = bcubed.recall(labels, true_labels)\n",
    "    # f1_score = bcubed.fscore(precision, recall)\n",
    "    \n",
    "    results[n_clusters] = {\n",
    "        'silhouette_avg': silhouette_avg,\n",
    "        # 若要使用 BCubed 指標，請取消下面三行的註釋\n",
    "        # 'precision': precision,\n",
    "        # 'recall': recall,\n",
    "        # 'f1_score': f1_score\n",
    "    }\n",
    "\n",
    "# 打印結果\n",
    "for n_clusters, metrics in results.items():\n",
    "    print(f\"Number of clusters: {n_clusters}\")\n",
    "    print(f\"  Average silhouette coefficient: {metrics['silhouette_avg']}\")\n",
    "    # 若要使用 BCubed 指標，請取消下面三行的註釋\n",
    "    # print(f\"  BCubed precision: {metrics['precision']}\")\n",
    "    # print(f\"  BCubed recall: {metrics['recall']}\")\n",
    "    # print(f\"  BCubed F1 score: {metrics['f1_score']}\")\n",
    "\n",
    "\n",
    "\n",
    "\n"
   ]
  },
  {
   "cell_type": "code",
   "execution_count": null,
   "id": "ab2281f3",
   "metadata": {},
   "outputs": [],
   "source": []
  },
  {
   "cell_type": "markdown",
   "id": "0e90d667",
   "metadata": {},
   "source": [
    "\n",
    "\n",
    "B. What are the top six topics of news from Jan 2022 up to now you find using the clustering methods?\n",
    "\n"
   ]
  },
  {
   "cell_type": "code",
   "execution_count": 67,
   "id": "e6aac08f",
   "metadata": {},
   "outputs": [
    {
     "name": "stdout",
     "output_type": "stream",
     "text": [
      "Cluster 0:\n",
      "  1) russian (score: 0.0795)\n",
      "  2) russia (score: 0.0694)\n",
      "  3) zelenskyy (score: 0.0686)\n",
      "  4) support (score: 0.0660)\n",
      "  5) navalny (score: 0.0652)\n",
      "  6) unreasonable (score: 0.0588)\n",
      "Cluster 1:\n",
      "  1) sudan (score: 0.0238)\n",
      "  2) us (score: 0.0159)\n",
      "  3) than (score: 0.0142)\n",
      "  4) uk (score: 0.0138)\n",
      "  5) minister (score: 0.0134)\n",
      "  6) 2023 (score: 0.0128)\n",
      "Cluster 2:\n",
      "  1) ukraine (score: 0.1472)\n",
      "  2) russia (score: 0.1110)\n",
      "  3) russian (score: 0.1026)\n",
      "  4) ukrainian (score: 0.0915)\n",
      "  5) war (score: 0.0436)\n",
      "  6) kyiv (score: 0.0422)\n",
      "Cluster 3:\n",
      "  1) korea (score: 0.2289)\n",
      "  2) nuclear (score: 0.1808)\n",
      "  3) south (score: 0.1610)\n",
      "  4) islands (score: 0.1557)\n",
      "  5) yoon (score: 0.1222)\n",
      "  6) north (score: 0.1164)\n",
      "Cluster 4:\n",
      "  1) china (score: 0.1246)\n",
      "  2) chinese (score: 0.0757)\n",
      "  3) taiwan (score: 0.0583)\n",
      "  4) coast (score: 0.0474)\n",
      "  5) iran (score: 0.0466)\n",
      "  6) guard (score: 0.0459)\n",
      "Cluster 5:\n",
      "  1) reuters (score: 0.1671)\n",
      "  2) thomson (score: 0.0775)\n",
      "  3) desktop (score: 0.0738)\n",
      "  4) worldwide (score: 0.0699)\n",
      "  5) financial (score: 0.0682)\n",
      "  6) industry (score: 0.0669)\n"
     ]
    }
   ],
   "source": [
    "import os\n",
    "import chardet\n",
    "import numpy as np\n",
    "from lxml import etree\n",
    "from sklearn.cluster import KMeans\n",
    "from sklearn.pipeline import Pipeline\n",
    "from sklearn.feature_extraction.text import TfidfVectorizer\n",
    "\n",
    "# ... 其他所需的函數和變量，例如 get_text_from_file 和 get_text_from_node\n",
    "\n",
    "# 設定聚類數量\n",
    "n_clusters = 6\n",
    "\n",
    "pipeline = Pipeline([('feature_extraction', TfidfVectorizer(max_df=0.4)),\n",
    "                     ('clusterer', KMeans(n_clusters=n_clusters)) ])\n",
    "\n",
    "pipeline.fit(documents)\n",
    "labels = pipeline.predict(documents)\n",
    "\n",
    "# 提取特徵名稱\n",
    "terms = pipeline.named_steps['feature_extraction'].get_feature_names_out()\n",
    "\n",
    "# 打印每個聚類的主題\n",
    "for cluster_number in range(n_clusters):\n",
    "    print(f\"Cluster {cluster_number}:\")\n",
    "    centroid = pipeline.named_steps['clusterer'].cluster_centers_[cluster_number]\n",
    "    most_important = centroid.argsort()\n",
    "    for i in range(6):\n",
    "        term_index = most_important[-(i + 1)]\n",
    "        print(f\"  {i + 1}) {terms[term_index]} (score: {centroid[term_index]:.4f})\")\n"
   ]
  },
  {
   "cell_type": "markdown",
   "id": "6008be9a",
   "metadata": {},
   "source": [
    "C.Implement the on-line clustering method as the text-book mentioned, discuss the performance of on-line learning method in comparison to the ensembling clustering method\n",
    "\n",
    "\n",
    "在線學習方法和集成聚類方法都是機器學習中的聚類技術，但它們在實現和性能方面有很大的不同。以下是這兩種方法的比較：\n",
    "\n",
    "在線學習方法：\n",
    "\n",
    "在線學習方法是一種基於增量學習的聚類方法，可以在數據流的情況下進行更新和適應。這意味著，隨著新數據的到來，模型可以實時更新自己的參數，無需重新訓練整個數據集。\n",
    "在線學習方法通常比批量學習方法更快，因為它們只需處理一小部分數據。\n",
    "在線學習方法在內存使用方面更有效，因為它們不需要將整個數據集保存在內存中。\n",
    "在線學習方法的一個缺點是，它們可能無法找到全局最佳解，因為它們只專注於局部更新。\n",
    "集成聚類方法：\n",
    "\n",
    "集成聚類方法通過將多個基本聚類結果組合成一個更穩定的聚類結果來提高聚類性能。這通常涉及多個聚類算法或相同聚類算法的多次運行。\n",
    "集成聚類方法可以提高聚類的穩定性和準確性，因為它們綜合了多個聚類結果。\n",
    "集成聚類方法的一個主要缺點是計算成本高，因為需要執行多個聚類過程。\n",
    "集成聚類方法可能比在線學習方法更能找到全局最佳解，因為它們綜合了多個解決方案，但這取決於選擇的基本聚類算法。"
   ]
  },
  {
   "cell_type": "code",
   "execution_count": null,
   "id": "81531264",
   "metadata": {},
   "outputs": [],
   "source": []
  }
 ],
 "metadata": {
  "kernelspec": {
   "display_name": "Python 3 (ipykernel)",
   "language": "python",
   "name": "python3"
  },
  "language_info": {
   "codemirror_mode": {
    "name": "ipython",
    "version": 3
   },
   "file_extension": ".py",
   "mimetype": "text/x-python",
   "name": "python",
   "nbconvert_exporter": "python",
   "pygments_lexer": "ipython3",
   "version": "3.10.9"
  }
 },
 "nbformat": 4,
 "nbformat_minor": 5
}
